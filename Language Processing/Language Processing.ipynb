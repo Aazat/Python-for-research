{
 "cells": [
  {
   "cell_type": "code",
   "execution_count": 1,
   "id": "25ac4164-6dcc-4701-8d9d-582089b27619",
   "metadata": {},
   "outputs": [
    {
     "data": {
      "text/plain": [
       "{'This': 1,\n",
       " 'is': 1,\n",
       " 'the': 1,\n",
       " 'second': 1,\n",
       " 'try': 1,\n",
       " 'of': 1,\n",
       " 'this': 1,\n",
       " 'function': 1}"
      ]
     },
     "execution_count": 1,
     "metadata": {},
     "output_type": "execute_result"
    }
   ],
   "source": [
    "# 1. Counting words\n",
    "# Function to count the occurence of words in text\n",
    "def count_words(text):\n",
    "    count = {}\n",
    "    text = text.split(\" \",)\n",
    "    for words in text:\n",
    "        if words in count:\n",
    "            count[words] += 1\n",
    "        else:\n",
    "            count[words] = 1\n",
    "    return count\n",
    "count_words(\"This is the second try of this function\")"
   ]
  },
  {
   "cell_type": "code",
   "execution_count": 2,
   "id": "4be9c0f0-aefe-41c7-b751-b60a3151c036",
   "metadata": {},
   "outputs": [
    {
     "data": {
      "text/plain": [
       "{'lets': 1,\n",
       " 'see': 1,\n",
       " 'if': 1,\n",
       " 'the': 1,\n",
       " 'punctuation': 1,\n",
       " 'marks': 1,\n",
       " 'will': 1,\n",
       " 'be': 1,\n",
       " 'gone': 1,\n",
       " 'or': 1,\n",
       " 'not': 1}"
      ]
     },
     "execution_count": 2,
     "metadata": {},
     "output_type": "execute_result"
    }
   ],
   "source": [
    "# to not deal with upper cases mix-up and punctuation marks in the text \n",
    "def count_words(text):\n",
    "    count = {}\n",
    "    text = text.lower()\n",
    "    skip = [\";\",\".\",\",\",'\"',\"'\"]\n",
    "    for punc in skip:\n",
    "        text = text.replace(punc, \"\")\n",
    "    \n",
    "    for words in text.split(\" \"):\n",
    "        if words in count:\n",
    "            count[words] += 1\n",
    "        else:\n",
    "            count[words] = 1\n",
    "    return count\n",
    "count_words(\"Let's see if the punctuation marks will be gone, or not.\")"
   ]
  },
  {
   "cell_type": "code",
   "execution_count": 3,
   "id": "1a8dbae6-ebf9-4fe6-820a-e4e8a91dbe84",
   "metadata": {},
   "outputs": [],
   "source": [
    "# Using an in-built function Counter from the collection library\n",
    "from collections import Counter"
   ]
  },
  {
   "cell_type": "code",
   "execution_count": 4,
   "id": "12d0ef9d-b92f-47af-a3ae-a5e218cb222d",
   "metadata": {},
   "outputs": [
    {
     "data": {
      "text/plain": [
       "Counter({'how': 1, 'fast': 1, 'ths': 1, 'gonna': 1, 'be': 1})"
      ]
     },
     "execution_count": 4,
     "metadata": {},
     "output_type": "execute_result"
    }
   ],
   "source": [
    "def count_words_fast(text):\n",
    "    text = text.lower()\n",
    "    skip = [\";\",\".\",\",\",'\"',\"'\"]\n",
    "    for punc in skip:\n",
    "        text = text.replace(punc, \"\")\n",
    "    word_counts = Counter(text.split(\" \"))         # Returns a Counter object which is similar to a dictionary\n",
    "    return word_counts\n",
    "count_words_fast(\"How fast th's gonna, be.\")"
   ]
  },
  {
   "cell_type": "code",
   "execution_count": 9,
   "id": "9d019f71-f487-4ad2-b5c9-3674809e5eb9",
   "metadata": {},
   "outputs": [
    {
     "data": {
      "text/plain": [
       "6"
      ]
     },
     "execution_count": 9,
     "metadata": {},
     "output_type": "execute_result"
    }
   ],
   "source": [
    "len(count_words(\"This comprehension check is to check for comprehension.\"))"
   ]
  },
  {
   "cell_type": "code",
   "execution_count": 14,
   "id": "8aa23122-8e68-4b42-b137-90e0c1c00fc0",
   "metadata": {},
   "outputs": [],
   "source": [
    "# Reading a book\n",
    "def read_book(pathofbook):\n",
    "    with open(pathofbook, \"r\", encoding = \"utf8\") as current_file:\n",
    "        text = current_file.read()\n",
    "        text = text.replace(\"\\n\", \"\").replace(\"\\r\", \"\")\n",
    "    return text\n",
    "text = read_book(\"English/shakespeare/Romeo and Juliet.txt\")"
   ]
  },
  {
   "cell_type": "code",
   "execution_count": 15,
   "id": "f1bc8b50-ba89-4805-aa86-006cb5fc8afc",
   "metadata": {},
   "outputs": [
    {
     "data": {
      "text/plain": [
       "169275"
      ]
     },
     "execution_count": 15,
     "metadata": {},
     "output_type": "execute_result"
    }
   ],
   "source": [
    "len(text)"
   ]
  },
  {
   "cell_type": "code",
   "execution_count": 16,
   "id": "f0d43ae9-800f-4bc4-8afc-def0caead612",
   "metadata": {},
   "outputs": [
    {
     "data": {
      "text/plain": [
       "42757"
      ]
     },
     "execution_count": 16,
     "metadata": {},
     "output_type": "execute_result"
    }
   ],
   "source": [
    "ind = text.find(\"What's in a name?\")\n",
    "ind"
   ]
  },
  {
   "cell_type": "code",
   "execution_count": 17,
   "id": "bcd2072b-1cbd-4b01-883f-4009e3389e60",
   "metadata": {},
   "outputs": [
    {
     "data": {
      "text/plain": [
       "\"What's in a name? That which we call a rose    By any other name would smell as sweet.    So Romeo would, were he not Romeo call'd,    Retain that dear perfection which he owes    Without that title. Romeo, doff thy name;    And for that name, which is no part of thee,    Take all myself.  Rom. I take thee at thy word.    Call me but love, and I'll be new baptiz'd;    Henceforth I never will be Romeo.  Jul. What man art thou that, thus bescreen'd in night,    So stumblest on my counsel?  Rom. By a name    I know not how to tell thee who I am.    My name, dear saint, is hateful to myself,    Because it is an enemy to thee.    Had I it written, I would tear the word.  Jul. My ears have yet not drunk a hundred words    Of that tongue's utterance, yet I know the sound.    Art thou not Romeo, and a Montague?  Rom. Neither, fair saint, if either thee dislike.  Jul. How cam'st thou hither, tell me, and wherefore?    The orchard walls are high and hard to climb,    And the place death, conside\""
      ]
     },
     "execution_count": 17,
     "metadata": {},
     "output_type": "execute_result"
    }
   ],
   "source": [
    "sample_text = text[ind : ind + 1000]\n",
    "sample_text"
   ]
  },
  {
   "cell_type": "code",
   "execution_count": 18,
   "id": "c166d7f8-0364-4a56-87f0-e062b9286576",
   "metadata": {},
   "outputs": [],
   "source": [
    "# Word count stats\n",
    "def word_count_stats(word_count):\n",
    "    uniq_words = len(word_count)\n",
    "    freq = word_count.values()\n",
    "    return (uniq_words, freq)"
   ]
  },
  {
   "cell_type": "code",
   "execution_count": 19,
   "id": "9a96c038-adcb-40e0-aa46-a6692a936312",
   "metadata": {},
   "outputs": [],
   "source": [
    "word_count = count_words_fast(text)\n",
    "(uniq_words, freq) = word_count_stats(word_count)"
   ]
  },
  {
   "cell_type": "code",
   "execution_count": 20,
   "id": "02ec431a-1f07-47b6-a0d1-5a2db9aa933b",
   "metadata": {},
   "outputs": [
    {
     "data": {
      "text/plain": [
       "5135"
      ]
     },
     "execution_count": 20,
     "metadata": {},
     "output_type": "execute_result"
    }
   ],
   "source": [
    "uniq_words"
   ]
  },
  {
   "cell_type": "code",
   "execution_count": 27,
   "id": "ba5b7e72-26bc-48c8-9d52-7265b8d2e399",
   "metadata": {},
   "outputs": [
    {
     "data": {
      "text/plain": [
       "40776"
      ]
     },
     "execution_count": 27,
     "metadata": {},
     "output_type": "execute_result"
    }
   ],
   "source": [
    "sum(freq)"
   ]
  },
  {
   "cell_type": "code",
   "execution_count": 36,
   "id": "49e139d3-cefe-49e1-b0ac-278e7a975c87",
   "metadata": {},
   "outputs": [
    {
     "name": "stdout",
     "output_type": "stream",
     "text": [
      " \u001b[0m\u001b[01;34mEnglish\u001b[0m/   \u001b[01;34mFrench\u001b[0m/   \u001b[01;34mGerman\u001b[0m/  'Language Processing.ipynb'   \u001b[01;34mPortuguese\u001b[0m/\n"
     ]
    }
   ],
   "source": [
    "ls"
   ]
  },
  {
   "cell_type": "code",
   "execution_count": 37,
   "id": "1527ab43-16f1-4bd6-a1fa-19a9ca8f8122",
   "metadata": {},
   "outputs": [],
   "source": [
    "textgerman = read_book(\"German/shakespeare/Romeo und Julia.txt\")"
   ]
  },
  {
   "cell_type": "code",
   "execution_count": 38,
   "id": "f0d4a8ee-b920-4886-9393-c0c56c645906",
   "metadata": {},
   "outputs": [],
   "source": [
    "german_count = count_words_fast(textgerman)"
   ]
  },
  {
   "cell_type": "code",
   "execution_count": 39,
   "id": "8c9a447f-e8f5-4efa-a3bb-6b2c3e8fbaf9",
   "metadata": {},
   "outputs": [],
   "source": [
    "(uniquewords, frequency) = word_count_stats(german_count)"
   ]
  },
  {
   "cell_type": "code",
   "execution_count": 40,
   "id": "d2ed983f-b4f0-451c-963b-f4a6974ffa35",
   "metadata": {},
   "outputs": [
    {
     "data": {
      "text/plain": [
       "7570"
      ]
     },
     "execution_count": 40,
     "metadata": {},
     "output_type": "execute_result"
    }
   ],
   "source": [
    "uniquewords"
   ]
  },
  {
   "cell_type": "code",
   "execution_count": 41,
   "id": "36ba438a-d544-46c4-b480-b9aaf0398dd6",
   "metadata": {},
   "outputs": [
    {
     "data": {
      "text/plain": [
       "20311"
      ]
     },
     "execution_count": 41,
     "metadata": {},
     "output_type": "execute_result"
    }
   ],
   "source": [
    "sum(frequency)"
   ]
  },
  {
   "cell_type": "code",
   "execution_count": null,
   "id": "2609fabe-b801-4f83-a908-0d13d2865561",
   "metadata": {},
   "outputs": [],
   "source": [
    "# Note that german version has more unique words and less no. of total words\n"
   ]
  }
 ],
 "metadata": {
  "kernelspec": {
   "display_name": "Python 3",
   "language": "python",
   "name": "python3"
  },
  "language_info": {
   "codemirror_mode": {
    "name": "ipython",
    "version": 3
   },
   "file_extension": ".py",
   "mimetype": "text/x-python",
   "name": "python",
   "nbconvert_exporter": "python",
   "pygments_lexer": "ipython3",
   "version": "3.8.5"
  }
 },
 "nbformat": 4,
 "nbformat_minor": 5
}
