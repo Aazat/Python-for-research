{
 "cells": [
  {
   "cell_type": "code",
   "execution_count": 2,
   "id": "f61259b6-edd7-4df3-9bbd-9f4fc2429418",
   "metadata": {},
   "outputs": [],
   "source": [
    "import random\n",
    "import numpy as np"
   ]
  },
  {
   "cell_type": "code",
   "execution_count": 3,
   "id": "41caa5d9-deb6-4513-8c83-0db2bc48dc12",
   "metadata": {},
   "outputs": [
    {
     "data": {
      "text/plain": [
       "3"
      ]
     },
     "execution_count": 3,
     "metadata": {},
     "output_type": "execute_result"
    }
   ],
   "source": [
    "# Finding majority votes in a given sequence or array\n",
    "def majority_vote(votes):\n",
    "    \"\"\" Returns the element with most no. of votes. \n",
    "    Returns element at random in case of a tie.\"\"\"\n",
    "    vote_count = {}\n",
    "    for vote in votes:\n",
    "        if vote in vote_count:\n",
    "            vote_count[vote] += 1\n",
    "        else:\n",
    "            vote_count[vote] = 1\n",
    "            \n",
    "    winner_element = []\n",
    "    max_vote = max(vote_count.values())\n",
    "    for element, count in vote_count.items():\n",
    "        if count == max_vote:\n",
    "            winner_element.append(element)\n",
    "    return random.choice(winner_element)\n",
    "votes = [1,2,3,1,2,3,1,2,3,3,3,3]\n",
    "majority_vote(votes)"
   ]
  },
  {
   "cell_type": "code",
   "execution_count": 4,
   "id": "580b6398-da4d-46ab-b27f-000c7b77321d",
   "metadata": {},
   "outputs": [],
   "source": [
    "# Distance between two points\n",
    "def distance(p1, p2):\n",
    "    return np.sqrt(np.sum(np.square(p1 - p2)))"
   ]
  },
  {
   "cell_type": "code",
   "execution_count": 5,
   "id": "0e3d1ad4-f6d1-41ba-95e5-47888791ca54",
   "metadata": {},
   "outputs": [],
   "source": [
    "# Finding the nearest neighbour\n",
    "# loop over all the points \n",
    "#     find the distances of all points from a point p whose class is to be determined\n",
    "#     find the k-nearest neighbours using the k shortest distances by soring the distances\n",
    "# decide the class based on the points and their classses\n",
    "# test points\n",
    "points = np.array([[1,1], [1,2], [1,3], [2,1], [2,2], [2,3],[3,1], [3,2], [3,3],])"
   ]
  },
  {
   "cell_type": "code",
   "execution_count": 6,
   "id": "84494672-7bcf-4d8e-8f44-e0e597745baa",
   "metadata": {},
   "outputs": [
    {
     "data": {
      "text/plain": [
       "array([2.5, 2. ])"
      ]
     },
     "execution_count": 6,
     "metadata": {},
     "output_type": "execute_result"
    }
   ],
   "source": [
    "p = np.array([2.5, 2])\n",
    "p"
   ]
  },
  {
   "cell_type": "code",
   "execution_count": 7,
   "id": "79182334-f58b-4644-98b2-a00ee77012db",
   "metadata": {},
   "outputs": [],
   "source": [
    "import matplotlib.pyplot as plt"
   ]
  },
  {
   "cell_type": "code",
   "execution_count": 8,
   "id": "e7f529fa-53d4-40af-a4e8-c50d685a3601",
   "metadata": {},
   "outputs": [
    {
     "data": {
      "text/plain": [
       "[<matplotlib.lines.Line2D at 0x7fe9637f4af0>]"
      ]
     },
     "execution_count": 8,
     "metadata": {},
     "output_type": "execute_result"
    },
    {
     "data": {
      "image/png": "[encoded data removed]",
      "text/plain": [
       "<Figure size 432x288 with 1 Axes>"
      ]
     },
     "metadata": {
      "needs_background": "light"
     },
     "output_type": "display_data"
    }
   ],
   "source": [
    "plt.plot(points[:,0], points[:,1], \"bo\")\n",
    "plt.plot(p[0], p[1],\"ro\")"
   ]
  },
  {
   "cell_type": "code",
   "execution_count": 9,
   "id": "e747f88a-6155-461a-b402-50a37aa1631b",
   "metadata": {},
   "outputs": [],
   "source": [
    "distances = np.zeros(points.shape[0])"
   ]
  },
  {
   "cell_type": "code",
   "execution_count": 10,
   "id": "fb425861-2b2a-4936-a398-76f2e6bc3f8c",
   "metadata": {},
   "outputs": [],
   "source": [
    "for i in range(len(distances)):\n",
    "    distances[i] = distance(p, points[i])"
   ]
  },
  {
   "cell_type": "code",
   "execution_count": 11,
   "id": "119255b9-ecc9-4c24-8abb-3d17811f4b40",
   "metadata": {},
   "outputs": [
    {
     "data": {
      "text/plain": [
       "array([1.80277564, 1.5       , 1.80277564, 1.11803399, 0.5       ,\n",
       "       1.11803399, 1.11803399, 0.5       , 1.11803399])"
      ]
     },
     "execution_count": 11,
     "metadata": {},
     "output_type": "execute_result"
    }
   ],
   "source": [
    "distances"
   ]
  },
  {
   "cell_type": "code",
   "execution_count": 12,
   "id": "ec3bf288-711a-4699-903c-91a7884dc3da",
   "metadata": {},
   "outputs": [
    {
     "data": {
      "text/plain": [
       "array([4, 7, 3, 5, 6, 8, 1, 0, 2])"
      ]
     },
     "execution_count": 12,
     "metadata": {},
     "output_type": "execute_result"
    }
   ],
   "source": [
    "# Using the argsort function of the numpy to get the sorted index of the array distances\n",
    "ind = np.argsort(distances)\n",
    "ind"
   ]
  },
  {
   "cell_type": "code",
   "execution_count": 13,
   "id": "9c326e1e-b6cf-4ba5-aad4-6c83707d0c96",
   "metadata": {},
   "outputs": [
    {
     "data": {
      "text/plain": [
       "array([0.5       , 0.5       , 1.11803399, 1.11803399, 1.11803399,\n",
       "       1.11803399, 1.5       , 1.80277564, 1.80277564])"
      ]
     },
     "execution_count": 13,
     "metadata": {},
     "output_type": "execute_result"
    }
   ],
   "source": [
    "distances[ind]"
   ]
  },
  {
   "cell_type": "code",
   "execution_count": 14,
   "id": "79874f5a-faa6-4d69-b480-ea2461aff627",
   "metadata": {},
   "outputs": [],
   "source": [
    "def find_nearest_neighbours(p, points, k=5):\n",
    "    distances = np.zeros(points.shape[0])\n",
    "    for i in range(len(distances)):\n",
    "        distances[i] = distance(p, points[i])\n",
    "    ind = np.argsort(distances)\n",
    "    return ind[:k]"
   ]
  },
  {
   "cell_type": "code",
   "execution_count": 15,
   "id": "544ee272-41f2-4463-a926-145898708cbc",
   "metadata": {},
   "outputs": [
    {
     "data": {
      "text/plain": [
       "array([[2, 2],\n",
       "       [3, 2]])"
      ]
     },
     "execution_count": 15,
     "metadata": {},
     "output_type": "execute_result"
    }
   ],
   "source": [
    "ind = find_nearest_neighbours(p, points, 2)\n",
    "points[ind]"
   ]
  },
  {
   "cell_type": "code",
   "execution_count": 16,
   "id": "5e7b0623-7fd1-4229-aa27-840ed8f4ba32",
   "metadata": {},
   "outputs": [
    {
     "data": {
      "text/plain": [
       "array([4, 7])"
      ]
     },
     "execution_count": 16,
     "metadata": {},
     "output_type": "execute_result"
    }
   ],
   "source": [
    "ind"
   ]
  },
  {
   "cell_type": "code",
   "execution_count": 17,
   "id": "baf6bb4e-efd1-4f16-ba54-9a7b83173397",
   "metadata": {},
   "outputs": [],
   "source": [
    "def knn_predict(p, points, outcomes, k=5):\n",
    "    ind = find_nearest_neighbours(p, points, k=5)\n",
    "    return majority_vote(outcomes[ind])"
   ]
  },
  {
   "cell_type": "code",
   "execution_count": 18,
   "id": "62029161-642b-4f11-865f-fb481b318aa5",
   "metadata": {},
   "outputs": [
    {
     "data": {
      "text/plain": [
       "9"
      ]
     },
     "execution_count": 18,
     "metadata": {},
     "output_type": "execute_result"
    }
   ],
   "source": [
    "outcomes = np.array([0,0,0,0,1,1,1,1,1])\n",
    "len(outcomes)"
   ]
  },
  {
   "cell_type": "code",
   "execution_count": 19,
   "id": "9df777f6-7235-4ac6-8291-6f47574aaf77",
   "metadata": {},
   "outputs": [
    {
     "data": {
      "text/plain": [
       "1"
      ]
     },
     "execution_count": 19,
     "metadata": {},
     "output_type": "execute_result"
    }
   ],
   "source": [
    "knn_predict(np.array([2.5, 2.7]), points, outcomes, 2)"
   ]
  },
  {
   "cell_type": "code",
   "execution_count": 20,
   "id": "fe4b2d1e-5926-4b3d-a0ba-398e62617075",
   "metadata": {},
   "outputs": [
    {
     "data": {
      "text/plain": [
       "1"
      ]
     },
     "execution_count": 20,
     "metadata": {},
     "output_type": "execute_result"
    }
   ],
   "source": [
    "knn_predict(np.array([1.5, 2.7]), points, outcomes, 3)"
   ]
  },
  {
   "cell_type": "code",
   "execution_count": 21,
   "id": "04a7f2bf-67b8-40e4-8c2b-fc3a8b0552e2",
   "metadata": {},
   "outputs": [
    {
     "data": {
      "text/plain": [
       "0"
      ]
     },
     "execution_count": 21,
     "metadata": {},
     "output_type": "execute_result"
    }
   ],
   "source": [
    "knn_predict(np.array([0.5, 2.7]), points, outcomes, 3)"
   ]
  },
  {
   "cell_type": "code",
   "execution_count": 22,
   "id": "2b67f713-b040-4277-b7ff-72d7f880b597",
   "metadata": {},
   "outputs": [],
   "source": [
    "# Generating Synthetic Data\n",
    "import scipy.stats as ss"
   ]
  },
  {
   "cell_type": "code",
   "execution_count": 23,
   "id": "5377700d-79ee-48b9-891c-93f52ab4527f",
   "metadata": {},
   "outputs": [
    {
     "data": {
      "text/plain": [
       "array([[-0.55574192,  0.69749542],\n",
       "       [-0.99921863, -0.59453094],\n",
       "       [ 0.79568803,  1.62382847],\n",
       "       [ 0.92715371,  0.97652515],\n",
       "       [-2.01661129, -1.72346691],\n",
       "       [-1.32027467,  0.19100938]])"
      ]
     },
     "execution_count": 23,
     "metadata": {},
     "output_type": "execute_result"
    }
   ],
   "source": [
    "ss.norm(0,1).rvs((6,2))"
   ]
  },
  {
   "cell_type": "code",
   "execution_count": 24,
   "id": "e72acf38-fcf6-45f3-ac2e-37c119bbf90b",
   "metadata": {},
   "outputs": [
    {
     "data": {
      "text/plain": [
       "array([[ 0.06894918,  0.75681993],\n",
       "       [-0.61707297,  2.49120665],\n",
       "       [ 1.67741753, -1.44468258],\n",
       "       [ 2.11426673,  0.06989834],\n",
       "       [ 1.12667442,  0.77307564],\n",
       "       [ 0.41932943,  2.44743013]])"
      ]
     },
     "execution_count": 24,
     "metadata": {},
     "output_type": "execute_result"
    }
   ],
   "source": [
    "ss.norm(1,1).rvs((6,2))"
   ]
  },
  {
   "cell_type": "code",
   "execution_count": 26,
   "id": "4457df22-bcd5-40dd-b2f6-5305dfd94226",
   "metadata": {},
   "outputs": [
    {
     "data": {
      "text/plain": [
       "array([[ 0.98058669,  0.82686914],\n",
       "       [-0.78754989, -1.49424296],\n",
       "       [-0.7956652 , -0.20005405],\n",
       "       [-0.12524261, -0.85522243],\n",
       "       [ 0.45234057,  0.70214273],\n",
       "       [-0.16262574,  0.87221434],\n",
       "       [ 1.25428768,  1.2946913 ],\n",
       "       [-0.76522915,  0.324797  ],\n",
       "       [ 2.39156891,  2.48242266],\n",
       "       [ 0.50439763,  2.56029753],\n",
       "       [ 0.55953703, -0.40969402],\n",
       "       [-0.78277966,  2.0545671 ]])"
      ]
     },
     "execution_count": 26,
     "metadata": {},
     "output_type": "execute_result"
    }
   ],
   "source": [
    "np.concatenate((ss.norm(0,1).rvs((6,2)), ss.norm(1,1).rvs((6,2))), axis = 0)"
   ]
  },
  {
   "cell_type": "code",
   "execution_count": 27,
   "id": "92e0f0ac-1414-4aae-a292-2d13e1aff082",
   "metadata": {},
   "outputs": [],
   "source": [
    "def synthetic_data(n=50):\n",
    "    \"\"\" Create two sets of points from two bivariate distributions\"\"\"\n",
    "    points = np.concatenate((ss.norm(0,1).rvs((n,2)), ss.norm(1,1).rvs((n,2))), axis = 0)\n",
    "    outcomes = np.concatenate((np.repeat(0, n), np.repeat(1, n)), axis = 0)\n",
    "    return (points, outcomes)"
   ]
  },
  {
   "cell_type": "code",
   "execution_count": 28,
   "id": "5691aaee-d6a9-44e6-9fd4-7718061fe03c",
   "metadata": {},
   "outputs": [],
   "source": [
    "n = 20\n",
    "points, outcomes = synthetic_data(n)"
   ]
  },
  {
   "cell_type": "code",
   "execution_count": 31,
   "id": "8fbab49d-c5b1-4cc4-9398-46950fe3c742",
   "metadata": {},
   "outputs": [
    {
     "data": {
      "image/png": "[encoded data removed]",
      "text/plain": [
       "<Figure size 432x288 with 1 Axes>"
      ]
     },
     "metadata": {
      "needs_background": "light"
     },
     "output_type": "display_data"
    }
   ],
   "source": [
    "plt.figure()\n",
    "plt.plot(points[:n,0], points[:n,1], \"ro\")\n",
    "plt.plot(points[n:,0], points[n:,1], \"bo\")\n",
    "plt.show()"
   ]
  },
  {
   "cell_type": "code",
   "execution_count": null,
   "id": "fee8811f-9c7d-4525-93ba-175d7db582e0",
   "metadata": {},
   "outputs": [],
   "source": []
  }
 ],
 "metadata": {
  "kernelspec": {
   "display_name": "Python 3",
   "language": "python",
   "name": "python3"
  },
  "language_info": {
   "codemirror_mode": {
    "name": "ipython",
    "version": 3
   },
   "file_extension": ".py",
   "mimetype": "text/x-python",
   "name": "python",
   "nbconvert_exporter": "python",
   "pygments_lexer": "ipython3",
   "version": "3.8.5"
  }
 },
 "nbformat": 4,
 "nbformat_minor": 5
}
