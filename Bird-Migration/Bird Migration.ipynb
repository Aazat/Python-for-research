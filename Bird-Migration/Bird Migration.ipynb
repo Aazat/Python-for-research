{
 "cells": [
  {
   "cell_type": "code",
   "execution_count": 1,
   "id": "fa8c5c03-8e1c-431f-b06f-481abff20a47",
   "metadata": {},
   "outputs": [],
   "source": [
    "import numpy as np\n",
    "import matplotlib.pyplot as plt\n",
    "import pandas as pd"
   ]
  },
  {
   "cell_type": "code",
   "execution_count": 2,
   "id": "c2958f99-49a0-4173-8d49-bbbe90bc1e32",
   "metadata": {},
   "outputs": [
    {
     "data": {
      "text/html": [
       "<div>\n",
       "<style scoped>\n",
       "    .dataframe tbody tr th:only-of-type {\n",
       "        vertical-align: middle;\n",
       "    }\n",
       "\n",
       "    .dataframe tbody tr th {\n",
       "        vertical-align: top;\n",
       "    }\n",
       "\n",
       "    .dataframe thead th {\n",
       "        text-align: right;\n",
       "    }\n",
       "</style>\n",
       "<table border=\"1\" class=\"dataframe\">\n",
       "  <thead>\n",
       "    <tr style=\"text-align: right;\">\n",
       "      <th></th>\n",
       "      <th>Unnamed: 0</th>\n",
       "      <th>altitude</th>\n",
       "      <th>date_time</th>\n",
       "      <th>device_info_serial</th>\n",
       "      <th>direction</th>\n",
       "      <th>latitude</th>\n",
       "      <th>longitude</th>\n",
       "      <th>speed_2d</th>\n",
       "      <th>bird_name</th>\n",
       "    </tr>\n",
       "  </thead>\n",
       "  <tbody>\n",
       "    <tr>\n",
       "      <th>0</th>\n",
       "      <td>0</td>\n",
       "      <td>71</td>\n",
       "      <td>2013-08-15 00:18:08+00</td>\n",
       "      <td>851</td>\n",
       "      <td>-150.469753</td>\n",
       "      <td>49.419860</td>\n",
       "      <td>2.120733</td>\n",
       "      <td>0.150000</td>\n",
       "      <td>Eric</td>\n",
       "    </tr>\n",
       "    <tr>\n",
       "      <th>1</th>\n",
       "      <td>1</td>\n",
       "      <td>68</td>\n",
       "      <td>2013-08-15 00:48:07+00</td>\n",
       "      <td>851</td>\n",
       "      <td>-136.151141</td>\n",
       "      <td>49.419880</td>\n",
       "      <td>2.120746</td>\n",
       "      <td>2.438360</td>\n",
       "      <td>Eric</td>\n",
       "    </tr>\n",
       "    <tr>\n",
       "      <th>2</th>\n",
       "      <td>2</td>\n",
       "      <td>68</td>\n",
       "      <td>2013-08-15 01:17:58+00</td>\n",
       "      <td>851</td>\n",
       "      <td>160.797477</td>\n",
       "      <td>49.420310</td>\n",
       "      <td>2.120885</td>\n",
       "      <td>0.596657</td>\n",
       "      <td>Eric</td>\n",
       "    </tr>\n",
       "    <tr>\n",
       "      <th>3</th>\n",
       "      <td>3</td>\n",
       "      <td>73</td>\n",
       "      <td>2013-08-15 01:47:51+00</td>\n",
       "      <td>851</td>\n",
       "      <td>32.769360</td>\n",
       "      <td>49.420359</td>\n",
       "      <td>2.120859</td>\n",
       "      <td>0.310161</td>\n",
       "      <td>Eric</td>\n",
       "    </tr>\n",
       "    <tr>\n",
       "      <th>4</th>\n",
       "      <td>4</td>\n",
       "      <td>69</td>\n",
       "      <td>2013-08-15 02:17:42+00</td>\n",
       "      <td>851</td>\n",
       "      <td>45.191230</td>\n",
       "      <td>49.420331</td>\n",
       "      <td>2.120887</td>\n",
       "      <td>0.193132</td>\n",
       "      <td>Eric</td>\n",
       "    </tr>\n",
       "    <tr>\n",
       "      <th>...</th>\n",
       "      <td>...</td>\n",
       "      <td>...</td>\n",
       "      <td>...</td>\n",
       "      <td>...</td>\n",
       "      <td>...</td>\n",
       "      <td>...</td>\n",
       "      <td>...</td>\n",
       "      <td>...</td>\n",
       "      <td>...</td>\n",
       "    </tr>\n",
       "    <tr>\n",
       "      <th>61915</th>\n",
       "      <td>61915</td>\n",
       "      <td>11</td>\n",
       "      <td>2014-04-30 22:00:08+00</td>\n",
       "      <td>833</td>\n",
       "      <td>45.448157</td>\n",
       "      <td>51.352572</td>\n",
       "      <td>3.177151</td>\n",
       "      <td>0.208087</td>\n",
       "      <td>Sanne</td>\n",
       "    </tr>\n",
       "    <tr>\n",
       "      <th>61916</th>\n",
       "      <td>61916</td>\n",
       "      <td>6</td>\n",
       "      <td>2014-04-30 22:29:57+00</td>\n",
       "      <td>833</td>\n",
       "      <td>-112.073055</td>\n",
       "      <td>51.352585</td>\n",
       "      <td>3.177144</td>\n",
       "      <td>1.522662</td>\n",
       "      <td>Sanne</td>\n",
       "    </tr>\n",
       "    <tr>\n",
       "      <th>61917</th>\n",
       "      <td>61917</td>\n",
       "      <td>5</td>\n",
       "      <td>2014-04-30 22:59:52+00</td>\n",
       "      <td>833</td>\n",
       "      <td>69.989037</td>\n",
       "      <td>51.352622</td>\n",
       "      <td>3.177257</td>\n",
       "      <td>3.120545</td>\n",
       "      <td>Sanne</td>\n",
       "    </tr>\n",
       "    <tr>\n",
       "      <th>61918</th>\n",
       "      <td>61918</td>\n",
       "      <td>16</td>\n",
       "      <td>2014-04-30 23:29:43+00</td>\n",
       "      <td>833</td>\n",
       "      <td>88.376373</td>\n",
       "      <td>51.354641</td>\n",
       "      <td>3.181509</td>\n",
       "      <td>0.592115</td>\n",
       "      <td>Sanne</td>\n",
       "    </tr>\n",
       "    <tr>\n",
       "      <th>61919</th>\n",
       "      <td>61919</td>\n",
       "      <td>9</td>\n",
       "      <td>2014-04-30 23:59:34+00</td>\n",
       "      <td>833</td>\n",
       "      <td>149.949008</td>\n",
       "      <td>51.354474</td>\n",
       "      <td>3.181057</td>\n",
       "      <td>0.485489</td>\n",
       "      <td>Sanne</td>\n",
       "    </tr>\n",
       "  </tbody>\n",
       "</table>\n",
       "<p>61920 rows × 9 columns</p>\n",
       "</div>"
      ],
      "text/plain": [
       "       Unnamed: 0  altitude               date_time  device_info_serial  \\\n",
       "0               0        71  2013-08-15 00:18:08+00                 851   \n",
       "1               1        68  2013-08-15 00:48:07+00                 851   \n",
       "2               2        68  2013-08-15 01:17:58+00                 851   \n",
       "3               3        73  2013-08-15 01:47:51+00                 851   \n",
       "4               4        69  2013-08-15 02:17:42+00                 851   \n",
       "...           ...       ...                     ...                 ...   \n",
       "61915       61915        11  2014-04-30 22:00:08+00                 833   \n",
       "61916       61916         6  2014-04-30 22:29:57+00                 833   \n",
       "61917       61917         5  2014-04-30 22:59:52+00                 833   \n",
       "61918       61918        16  2014-04-30 23:29:43+00                 833   \n",
       "61919       61919         9  2014-04-30 23:59:34+00                 833   \n",
       "\n",
       "        direction   latitude  longitude  speed_2d bird_name  \n",
       "0     -150.469753  49.419860   2.120733  0.150000      Eric  \n",
       "1     -136.151141  49.419880   2.120746  2.438360      Eric  \n",
       "2      160.797477  49.420310   2.120885  0.596657      Eric  \n",
       "3       32.769360  49.420359   2.120859  0.310161      Eric  \n",
       "4       45.191230  49.420331   2.120887  0.193132      Eric  \n",
       "...           ...        ...        ...       ...       ...  \n",
       "61915   45.448157  51.352572   3.177151  0.208087     Sanne  \n",
       "61916 -112.073055  51.352585   3.177144  1.522662     Sanne  \n",
       "61917   69.989037  51.352622   3.177257  3.120545     Sanne  \n",
       "61918   88.376373  51.354641   3.181509  0.592115     Sanne  \n",
       "61919  149.949008  51.354474   3.181057  0.485489     Sanne  \n",
       "\n",
       "[61920 rows x 9 columns]"
      ]
     },
     "execution_count": 2,
     "metadata": {},
     "output_type": "execute_result"
    }
   ],
   "source": [
    "birddata = pd.read_csv(\"bird_tracking.csv\")\n",
    "birddata"
   ]
  },
  {
   "cell_type": "code",
   "execution_count": 3,
   "id": "d2891c6e-deb7-4425-8f31-c232b1a34115",
   "metadata": {},
   "outputs": [
    {
     "data": {
      "text/plain": [
       "Text(0, 0.5, 'Lantitude')"
      ]
     },
     "execution_count": 3,
     "metadata": {},
     "output_type": "execute_result"
    },
    {
     "data": {
      "image/png": "[encoded data removed]",
      "text/plain": [
       "<Figure size 720x720 with 1 Axes>"
      ]
     },
     "metadata": {
      "needs_background": "light"
     },
     "output_type": "display_data"
    }
   ],
   "source": [
    "# Plotting trajectories of birds on 2-D planes\n",
    "ind = birddata.bird_name == 'Eric'            #  taking index, for bird name Eric\n",
    "\n",
    "x, y = birddata.longitude[ind], birddata.latitude[ind]        # Storing Longitude in x and Latitudes in y\n",
    "plt.figure(figsize= (10,10))\n",
    "plt.plot(x, y, \".\");\n",
    "plt.xlabel(\"Longitude\")\n",
    "plt.ylabel(\"Lantitude\")"
   ]
  },
  {
   "cell_type": "code",
   "execution_count": 4,
   "id": "ec694157-608b-4a38-bfcc-d57ca7452526",
   "metadata": {},
   "outputs": [
    {
     "data": {
      "image/png": "[encoded data removed]",
      "text/plain": [
       "<Figure size 720x720 with 1 Axes>"
      ]
     },
     "metadata": {
      "needs_background": "light"
     },
     "output_type": "display_data"
    }
   ],
   "source": [
    "# Plottting for all three birds in one graph\n",
    "plt.figure(figsize= (10,10))\n",
    "birdnames = birddata.bird_name.unique()\n",
    "for birdname in birdnames:\n",
    "    ind = birddata.bird_name == birdname                                 # ****#\n",
    "    x, y = birddata.longitude[ind], birddata.latitude[ind]\n",
    "    plt.plot(x, y, \".\", label = birdname)\n",
    "plt.xlabel(\"Longitude\")\n",
    "plt.ylabel(\"Latitude\")\n",
    "plt.legend(loc = \"lower right\")\n",
    "plt.savefig(\"3_trajec.pdf\")"
   ]
  },
  {
   "cell_type": "code",
   "execution_count": 5,
   "id": "51b97edc-9b7f-4522-b319-17c51a8b9e00",
   "metadata": {},
   "outputs": [
    {
     "data": {
      "image/png": "[encoded data removed]",
      "text/plain": [
       "<Figure size 432x288 with 1 Axes>"
      ]
     },
     "metadata": {
      "needs_background": "light"
     },
     "output_type": "display_data"
    }
   ],
   "source": [
    "speed_ind = birddata.bird_name == 'Eric'             # To get the index for bird 'Eric'\n",
    "speed = birddata.speed_2d[speed_ind]                # To capture speed for the particular index 'spped_ind'\n",
    "numerical_ind = np.isnan(speed)               # To filter out the NaN values in dataset (desired values will be False and not number(Nan) values will be True)\n",
    "plt.hist(speed[~numerical_ind]);               # Complement to get True in desired values for code execution"
   ]
  },
  {
   "cell_type": "code",
   "execution_count": 6,
   "id": "fb50e57e-6b12-4e32-b489-5df418bd11e5",
   "metadata": {},
   "outputs": [
    {
     "data": {
      "image/png": "[encoded data removed]",
      "text/plain": [
       "<Figure size 720x288 with 1 Axes>"
      ]
     },
     "metadata": {
      "needs_background": "light"
     },
     "output_type": "display_data"
    }
   ],
   "source": [
    "# Customizing histogram\n",
    "plt.figure(figsize= (10,4))\n",
    "plt.hist(speed[~numerical_ind], bins = np.linspace(0, 30, 20), density = True)\n",
    "plt.xlabel(\"2D Speed (m/s)\")\n",
    "plt.ylabel(\"Frequency\")\n",
    "plt.savefig(\"Eric_Speed2D.pdf\")"
   ]
  },
  {
   "cell_type": "code",
   "execution_count": 7,
   "id": "04f7284c-f01c-43b6-874c-c731abbef2d6",
   "metadata": {},
   "outputs": [
    {
     "data": {
      "text/plain": [
       "Text(0, 0.5, 'Frequency')"
      ]
     },
     "execution_count": 7,
     "metadata": {},
     "output_type": "execute_result"
    },
    {
     "data": {
      "image/png": "[encoded data removed]",
      "text/plain": [
       "<Figure size 432x288 with 1 Axes>"
      ]
     },
     "metadata": {
      "needs_background": "light"
     },
     "output_type": "display_data"
    }
   ],
   "source": [
    "# Plotting speed using pandas methods \n",
    "birddata.speed_2d.plot(kind = 'hist', range = [0, 30])\n",
    "plt.xlabel(\"Speed2D (m/s)\")\n",
    "plt.ylabel(\"Frequency\")"
   ]
  },
  {
   "cell_type": "code",
   "execution_count": 8,
   "id": "a68b4a38-35c3-4965-a57e-e92a96b0cb45",
   "metadata": {},
   "outputs": [],
   "source": [
    "# Working with datetimes and arithmetics \n",
    "import datetime"
   ]
  },
  {
   "cell_type": "code",
   "execution_count": 9,
   "id": "795bc53a-e166-452e-96fc-ec7d4eb7e56c",
   "metadata": {},
   "outputs": [
    {
     "data": {
      "text/plain": [
       "datetime.datetime(2021, 7, 19, 13, 9, 57, 430802)"
      ]
     },
     "execution_count": 9,
     "metadata": {},
     "output_type": "execute_result"
    }
   ],
   "source": [
    "# The datetime column in birddata DataFrame is of type String. it needs to be coverted to datetime object.\n",
    "datetime.datetime.today()"
   ]
  },
  {
   "cell_type": "code",
   "execution_count": 10,
   "id": "cff5284a-7981-464d-a0fd-da3d30d3638a",
   "metadata": {},
   "outputs": [],
   "source": [
    "time1 = datetime.datetime.today()"
   ]
  },
  {
   "cell_type": "code",
   "execution_count": 11,
   "id": "da241d24-71a7-4649-b3ae-6c52b95eb0a9",
   "metadata": {},
   "outputs": [],
   "source": [
    "time2 = datetime.datetime.today()"
   ]
  },
  {
   "cell_type": "code",
   "execution_count": 12,
   "id": "c1577df3-c0e6-42d9-a44d-878ce2a04637",
   "metadata": {},
   "outputs": [
    {
     "data": {
      "text/plain": [
       "datetime.timedelta(microseconds=15629)"
      ]
     },
     "execution_count": 12,
     "metadata": {},
     "output_type": "execute_result"
    }
   ],
   "source": [
    "time2 - time1                             # Because we can perform arithmetics on datetime objects"
   ]
  },
  {
   "cell_type": "code",
   "execution_count": 13,
   "id": "e90077a5-7cd4-4b8b-b2c7-b0f26257cb43",
   "metadata": {},
   "outputs": [],
   "source": [
    "time3 = datetime.datetime.today()"
   ]
  },
  {
   "cell_type": "code",
   "execution_count": 14,
   "id": "b6a894a4-d653-4cb2-a644-9208051c0ca2",
   "metadata": {},
   "outputs": [
    {
     "data": {
      "text/plain": [
       "datetime.timedelta(microseconds=46876)"
      ]
     },
     "execution_count": 14,
     "metadata": {},
     "output_type": "execute_result"
    }
   ],
   "source": [
    "time3 - time1"
   ]
  },
  {
   "cell_type": "code",
   "execution_count": 15,
   "id": "96a67f2e-7206-439c-adb0-c110509c58e1",
   "metadata": {},
   "outputs": [
    {
     "data": {
      "text/plain": [
       "datetime.timedelta(microseconds=31247)"
      ]
     },
     "execution_count": 15,
     "metadata": {},
     "output_type": "execute_result"
    }
   ],
   "source": [
    "time3 - time2"
   ]
  },
  {
   "cell_type": "code",
   "execution_count": 16,
   "id": "52d153aa-0506-4cf7-b58e-a1bb81f67dc2",
   "metadata": {},
   "outputs": [
    {
     "data": {
      "text/plain": [
       "'2013-08-15 00:18:08+00'"
      ]
     },
     "execution_count": 16,
     "metadata": {},
     "output_type": "execute_result"
    }
   ],
   "source": [
    "# To convert a string datetime into a datetime object\n",
    "birddata.date_time[0]"
   ]
  },
  {
   "cell_type": "code",
   "execution_count": 17,
   "id": "66013927-870c-49f2-b0da-380710fc1da5",
   "metadata": {},
   "outputs": [],
   "source": [
    "date1 = birddata.date_time[0][:-3]                    # Slicing the last three unnecessary characters for timezones"
   ]
  },
  {
   "cell_type": "code",
   "execution_count": 18,
   "id": "edccf2d5-b73b-4c5c-af3d-00dedf68a192",
   "metadata": {},
   "outputs": [
    {
     "name": "stdout",
     "output_type": "stream",
     "text": [
      "2013-08-15 00:18:08\n"
     ]
    }
   ],
   "source": [
    "timedate1 = datetime.datetime.strptime(date1, \"%Y-%m-%d %H:%M:%S\")\n",
    "print(timedate1)"
   ]
  },
  {
   "cell_type": "code",
   "execution_count": 19,
   "id": "ff08315f-7af0-4e95-9f51-95ba5c09de9b",
   "metadata": {},
   "outputs": [
    {
     "data": {
      "text/plain": [
       "datetime.datetime"
      ]
     },
     "execution_count": 19,
     "metadata": {},
     "output_type": "execute_result"
    }
   ],
   "source": [
    "type(timedate1)"
   ]
  },
  {
   "cell_type": "code",
   "execution_count": 20,
   "id": "450d447c-d160-436d-9306-9bcf4d2ccd8b",
   "metadata": {},
   "outputs": [
    {
     "data": {
      "text/plain": [
       "datetime.datetime"
      ]
     },
     "execution_count": 20,
     "metadata": {},
     "output_type": "execute_result"
    }
   ],
   "source": [
    "date2 = birddata.date_time[1][:-3]\n",
    "timedate2 = datetime.datetime.strptime(date2, \"%Y-%m-%d %H:%M:%S\")\n",
    "type(timedate2)"
   ]
  },
  {
   "cell_type": "code",
   "execution_count": 21,
   "id": "df968e36-f0dc-4780-965d-f880681a9715",
   "metadata": {},
   "outputs": [
    {
     "data": {
      "text/plain": [
       "datetime.datetime(2013, 8, 15, 0, 48, 7)"
      ]
     },
     "execution_count": 21,
     "metadata": {},
     "output_type": "execute_result"
    }
   ],
   "source": [
    "timedate2"
   ]
  },
  {
   "cell_type": "code",
   "execution_count": 22,
   "id": "d5013022-a0a3-44ca-9691-227ff61ef59c",
   "metadata": {},
   "outputs": [
    {
     "data": {
      "text/plain": [
       "'2013-08-15 00:48:07'"
      ]
     },
     "execution_count": 22,
     "metadata": {},
     "output_type": "execute_result"
    }
   ],
   "source": [
    "date2"
   ]
  },
  {
   "cell_type": "code",
   "execution_count": 23,
   "id": "075f557f-2bcf-4f27-a3e9-0578a00fddb0",
   "metadata": {},
   "outputs": [
    {
     "data": {
      "text/plain": [
       "datetime.timedelta(seconds=1799)"
      ]
     },
     "execution_count": 23,
     "metadata": {},
     "output_type": "execute_result"
    }
   ],
   "source": [
    "timedate2 - timedate1"
   ]
  },
  {
   "cell_type": "code",
   "execution_count": 24,
   "id": "a731030c-bbd4-4004-bbf8-519ca805df9c",
   "metadata": {},
   "outputs": [],
   "source": [
    "# Adding a timestamps columns in birddata DataFrame where entries are datetime objects\n",
    "dt = birddata.date_time"
   ]
  },
  {
   "cell_type": "code",
   "execution_count": 25,
   "id": "92c94e2e-4c9e-4421-86e7-26eb15b72c42",
   "metadata": {},
   "outputs": [
    {
     "data": {
      "text/plain": [
       "0    2013-08-15 00:18:08+00\n",
       "1    2013-08-15 00:48:07+00\n",
       "2    2013-08-15 01:17:58+00\n",
       "3    2013-08-15 01:47:51+00\n",
       "4    2013-08-15 02:17:42+00\n",
       "5    2013-08-15 02:47:38+00\n",
       "6    2013-08-15 03:02:33+00\n",
       "7    2013-08-15 03:17:27+00\n",
       "8    2013-08-15 03:32:35+00\n",
       "9    2013-08-15 03:47:48+00\n",
       "Name: date_time, dtype: object"
      ]
     },
     "execution_count": 25,
     "metadata": {},
     "output_type": "execute_result"
    }
   ],
   "source": [
    "dt[:10]"
   ]
  },
  {
   "cell_type": "code",
   "execution_count": 26,
   "id": "3151d7d0-9ef8-47e7-bb75-12ef58b4ca60",
   "metadata": {},
   "outputs": [
    {
     "data": {
      "text/plain": [
       "[datetime.datetime(2013, 8, 15, 0, 18, 8),\n",
       " datetime.datetime(2013, 8, 15, 0, 48, 7),\n",
       " datetime.datetime(2013, 8, 15, 1, 17, 58),\n",
       " datetime.datetime(2013, 8, 15, 1, 47, 51),\n",
       " datetime.datetime(2013, 8, 15, 2, 17, 42),\n",
       " datetime.datetime(2013, 8, 15, 2, 47, 38),\n",
       " datetime.datetime(2013, 8, 15, 3, 2, 33),\n",
       " datetime.datetime(2013, 8, 15, 3, 17, 27),\n",
       " datetime.datetime(2013, 8, 15, 3, 32, 35),\n",
       " datetime.datetime(2013, 8, 15, 3, 47, 48)]"
      ]
     },
     "execution_count": 26,
     "metadata": {},
     "output_type": "execute_result"
    }
   ],
   "source": [
    "timeobjects = []\n",
    "for timedates in dt:\n",
    "    timeobjects.append(datetime.datetime.strptime(timedates[:-3], \"%Y-%m-%d %H:%M:%S\"))\n",
    "timeobjects[:10]"
   ]
  },
  {
   "cell_type": "code",
   "execution_count": 27,
   "id": "6c10ca37-e787-4e64-a578-b769d82e9348",
   "metadata": {},
   "outputs": [
    {
     "data": {
      "text/html": [
       "<div>\n",
       "<style scoped>\n",
       "    .dataframe tbody tr th:only-of-type {\n",
       "        vertical-align: middle;\n",
       "    }\n",
       "\n",
       "    .dataframe tbody tr th {\n",
       "        vertical-align: top;\n",
       "    }\n",
       "\n",
       "    .dataframe thead th {\n",
       "        text-align: right;\n",
       "    }\n",
       "</style>\n",
       "<table border=\"1\" class=\"dataframe\">\n",
       "  <thead>\n",
       "    <tr style=\"text-align: right;\">\n",
       "      <th></th>\n",
       "      <th>Unnamed: 0</th>\n",
       "      <th>altitude</th>\n",
       "      <th>date_time</th>\n",
       "      <th>device_info_serial</th>\n",
       "      <th>direction</th>\n",
       "      <th>latitude</th>\n",
       "      <th>longitude</th>\n",
       "      <th>speed_2d</th>\n",
       "      <th>bird_name</th>\n",
       "    </tr>\n",
       "  </thead>\n",
       "  <tbody>\n",
       "    <tr>\n",
       "      <th>0</th>\n",
       "      <td>0</td>\n",
       "      <td>71</td>\n",
       "      <td>2013-08-15 00:18:08+00</td>\n",
       "      <td>851</td>\n",
       "      <td>-150.469753</td>\n",
       "      <td>49.419860</td>\n",
       "      <td>2.120733</td>\n",
       "      <td>0.150000</td>\n",
       "      <td>Eric</td>\n",
       "    </tr>\n",
       "    <tr>\n",
       "      <th>1</th>\n",
       "      <td>1</td>\n",
       "      <td>68</td>\n",
       "      <td>2013-08-15 00:48:07+00</td>\n",
       "      <td>851</td>\n",
       "      <td>-136.151141</td>\n",
       "      <td>49.419880</td>\n",
       "      <td>2.120746</td>\n",
       "      <td>2.438360</td>\n",
       "      <td>Eric</td>\n",
       "    </tr>\n",
       "    <tr>\n",
       "      <th>2</th>\n",
       "      <td>2</td>\n",
       "      <td>68</td>\n",
       "      <td>2013-08-15 01:17:58+00</td>\n",
       "      <td>851</td>\n",
       "      <td>160.797477</td>\n",
       "      <td>49.420310</td>\n",
       "      <td>2.120885</td>\n",
       "      <td>0.596657</td>\n",
       "      <td>Eric</td>\n",
       "    </tr>\n",
       "    <tr>\n",
       "      <th>3</th>\n",
       "      <td>3</td>\n",
       "      <td>73</td>\n",
       "      <td>2013-08-15 01:47:51+00</td>\n",
       "      <td>851</td>\n",
       "      <td>32.769360</td>\n",
       "      <td>49.420359</td>\n",
       "      <td>2.120859</td>\n",
       "      <td>0.310161</td>\n",
       "      <td>Eric</td>\n",
       "    </tr>\n",
       "    <tr>\n",
       "      <th>4</th>\n",
       "      <td>4</td>\n",
       "      <td>69</td>\n",
       "      <td>2013-08-15 02:17:42+00</td>\n",
       "      <td>851</td>\n",
       "      <td>45.191230</td>\n",
       "      <td>49.420331</td>\n",
       "      <td>2.120887</td>\n",
       "      <td>0.193132</td>\n",
       "      <td>Eric</td>\n",
       "    </tr>\n",
       "    <tr>\n",
       "      <th>...</th>\n",
       "      <td>...</td>\n",
       "      <td>...</td>\n",
       "      <td>...</td>\n",
       "      <td>...</td>\n",
       "      <td>...</td>\n",
       "      <td>...</td>\n",
       "      <td>...</td>\n",
       "      <td>...</td>\n",
       "      <td>...</td>\n",
       "    </tr>\n",
       "    <tr>\n",
       "      <th>61915</th>\n",
       "      <td>61915</td>\n",
       "      <td>11</td>\n",
       "      <td>2014-04-30 22:00:08+00</td>\n",
       "      <td>833</td>\n",
       "      <td>45.448157</td>\n",
       "      <td>51.352572</td>\n",
       "      <td>3.177151</td>\n",
       "      <td>0.208087</td>\n",
       "      <td>Sanne</td>\n",
       "    </tr>\n",
       "    <tr>\n",
       "      <th>61916</th>\n",
       "      <td>61916</td>\n",
       "      <td>6</td>\n",
       "      <td>2014-04-30 22:29:57+00</td>\n",
       "      <td>833</td>\n",
       "      <td>-112.073055</td>\n",
       "      <td>51.352585</td>\n",
       "      <td>3.177144</td>\n",
       "      <td>1.522662</td>\n",
       "      <td>Sanne</td>\n",
       "    </tr>\n",
       "    <tr>\n",
       "      <th>61917</th>\n",
       "      <td>61917</td>\n",
       "      <td>5</td>\n",
       "      <td>2014-04-30 22:59:52+00</td>\n",
       "      <td>833</td>\n",
       "      <td>69.989037</td>\n",
       "      <td>51.352622</td>\n",
       "      <td>3.177257</td>\n",
       "      <td>3.120545</td>\n",
       "      <td>Sanne</td>\n",
       "    </tr>\n",
       "    <tr>\n",
       "      <th>61918</th>\n",
       "      <td>61918</td>\n",
       "      <td>16</td>\n",
       "      <td>2014-04-30 23:29:43+00</td>\n",
       "      <td>833</td>\n",
       "      <td>88.376373</td>\n",
       "      <td>51.354641</td>\n",
       "      <td>3.181509</td>\n",
       "      <td>0.592115</td>\n",
       "      <td>Sanne</td>\n",
       "    </tr>\n",
       "    <tr>\n",
       "      <th>61919</th>\n",
       "      <td>61919</td>\n",
       "      <td>9</td>\n",
       "      <td>2014-04-30 23:59:34+00</td>\n",
       "      <td>833</td>\n",
       "      <td>149.949008</td>\n",
       "      <td>51.354474</td>\n",
       "      <td>3.181057</td>\n",
       "      <td>0.485489</td>\n",
       "      <td>Sanne</td>\n",
       "    </tr>\n",
       "  </tbody>\n",
       "</table>\n",
       "<p>61920 rows × 9 columns</p>\n",
       "</div>"
      ],
      "text/plain": [
       "       Unnamed: 0  altitude               date_time  device_info_serial  \\\n",
       "0               0        71  2013-08-15 00:18:08+00                 851   \n",
       "1               1        68  2013-08-15 00:48:07+00                 851   \n",
       "2               2        68  2013-08-15 01:17:58+00                 851   \n",
       "3               3        73  2013-08-15 01:47:51+00                 851   \n",
       "4               4        69  2013-08-15 02:17:42+00                 851   \n",
       "...           ...       ...                     ...                 ...   \n",
       "61915       61915        11  2014-04-30 22:00:08+00                 833   \n",
       "61916       61916         6  2014-04-30 22:29:57+00                 833   \n",
       "61917       61917         5  2014-04-30 22:59:52+00                 833   \n",
       "61918       61918        16  2014-04-30 23:29:43+00                 833   \n",
       "61919       61919         9  2014-04-30 23:59:34+00                 833   \n",
       "\n",
       "        direction   latitude  longitude  speed_2d bird_name  \n",
       "0     -150.469753  49.419860   2.120733  0.150000      Eric  \n",
       "1     -136.151141  49.419880   2.120746  2.438360      Eric  \n",
       "2      160.797477  49.420310   2.120885  0.596657      Eric  \n",
       "3       32.769360  49.420359   2.120859  0.310161      Eric  \n",
       "4       45.191230  49.420331   2.120887  0.193132      Eric  \n",
       "...           ...        ...        ...       ...       ...  \n",
       "61915   45.448157  51.352572   3.177151  0.208087     Sanne  \n",
       "61916 -112.073055  51.352585   3.177144  1.522662     Sanne  \n",
       "61917   69.989037  51.352622   3.177257  3.120545     Sanne  \n",
       "61918   88.376373  51.354641   3.181509  0.592115     Sanne  \n",
       "61919  149.949008  51.354474   3.181057  0.485489     Sanne  \n",
       "\n",
       "[61920 rows x 9 columns]"
      ]
     },
     "execution_count": 27,
     "metadata": {},
     "output_type": "execute_result"
    }
   ],
   "source": [
    "birddata"
   ]
  },
  {
   "cell_type": "code",
   "execution_count": 28,
   "id": "b2abe7ff-2931-4502-94d4-54d0f4f09e77",
   "metadata": {},
   "outputs": [],
   "source": [
    "birddata[\"timestamps\"] = pd.Series(timeobjects, index = birddata.index)"
   ]
  },
  {
   "cell_type": "code",
   "execution_count": 29,
   "id": "953cfd00-ae23-4c82-962b-2cc77b8dcb36",
   "metadata": {},
   "outputs": [
    {
     "data": {
      "text/html": [
       "<div>\n",
       "<style scoped>\n",
       "    .dataframe tbody tr th:only-of-type {\n",
       "        vertical-align: middle;\n",
       "    }\n",
       "\n",
       "    .dataframe tbody tr th {\n",
       "        vertical-align: top;\n",
       "    }\n",
       "\n",
       "    .dataframe thead th {\n",
       "        text-align: right;\n",
       "    }\n",
       "</style>\n",
       "<table border=\"1\" class=\"dataframe\">\n",
       "  <thead>\n",
       "    <tr style=\"text-align: right;\">\n",
       "      <th></th>\n",
       "      <th>Unnamed: 0</th>\n",
       "      <th>altitude</th>\n",
       "      <th>date_time</th>\n",
       "      <th>device_info_serial</th>\n",
       "      <th>direction</th>\n",
       "      <th>latitude</th>\n",
       "      <th>longitude</th>\n",
       "      <th>speed_2d</th>\n",
       "      <th>bird_name</th>\n",
       "      <th>timestamps</th>\n",
       "    </tr>\n",
       "  </thead>\n",
       "  <tbody>\n",
       "    <tr>\n",
       "      <th>0</th>\n",
       "      <td>0</td>\n",
       "      <td>71</td>\n",
       "      <td>2013-08-15 00:18:08+00</td>\n",
       "      <td>851</td>\n",
       "      <td>-150.469753</td>\n",
       "      <td>49.419860</td>\n",
       "      <td>2.120733</td>\n",
       "      <td>0.150000</td>\n",
       "      <td>Eric</td>\n",
       "      <td>2013-08-15 00:18:08</td>\n",
       "    </tr>\n",
       "    <tr>\n",
       "      <th>1</th>\n",
       "      <td>1</td>\n",
       "      <td>68</td>\n",
       "      <td>2013-08-15 00:48:07+00</td>\n",
       "      <td>851</td>\n",
       "      <td>-136.151141</td>\n",
       "      <td>49.419880</td>\n",
       "      <td>2.120746</td>\n",
       "      <td>2.438360</td>\n",
       "      <td>Eric</td>\n",
       "      <td>2013-08-15 00:48:07</td>\n",
       "    </tr>\n",
       "    <tr>\n",
       "      <th>2</th>\n",
       "      <td>2</td>\n",
       "      <td>68</td>\n",
       "      <td>2013-08-15 01:17:58+00</td>\n",
       "      <td>851</td>\n",
       "      <td>160.797477</td>\n",
       "      <td>49.420310</td>\n",
       "      <td>2.120885</td>\n",
       "      <td>0.596657</td>\n",
       "      <td>Eric</td>\n",
       "      <td>2013-08-15 01:17:58</td>\n",
       "    </tr>\n",
       "    <tr>\n",
       "      <th>3</th>\n",
       "      <td>3</td>\n",
       "      <td>73</td>\n",
       "      <td>2013-08-15 01:47:51+00</td>\n",
       "      <td>851</td>\n",
       "      <td>32.769360</td>\n",
       "      <td>49.420359</td>\n",
       "      <td>2.120859</td>\n",
       "      <td>0.310161</td>\n",
       "      <td>Eric</td>\n",
       "      <td>2013-08-15 01:47:51</td>\n",
       "    </tr>\n",
       "    <tr>\n",
       "      <th>4</th>\n",
       "      <td>4</td>\n",
       "      <td>69</td>\n",
       "      <td>2013-08-15 02:17:42+00</td>\n",
       "      <td>851</td>\n",
       "      <td>45.191230</td>\n",
       "      <td>49.420331</td>\n",
       "      <td>2.120887</td>\n",
       "      <td>0.193132</td>\n",
       "      <td>Eric</td>\n",
       "      <td>2013-08-15 02:17:42</td>\n",
       "    </tr>\n",
       "    <tr>\n",
       "      <th>...</th>\n",
       "      <td>...</td>\n",
       "      <td>...</td>\n",
       "      <td>...</td>\n",
       "      <td>...</td>\n",
       "      <td>...</td>\n",
       "      <td>...</td>\n",
       "      <td>...</td>\n",
       "      <td>...</td>\n",
       "      <td>...</td>\n",
       "      <td>...</td>\n",
       "    </tr>\n",
       "    <tr>\n",
       "      <th>61915</th>\n",
       "      <td>61915</td>\n",
       "      <td>11</td>\n",
       "      <td>2014-04-30 22:00:08+00</td>\n",
       "      <td>833</td>\n",
       "      <td>45.448157</td>\n",
       "      <td>51.352572</td>\n",
       "      <td>3.177151</td>\n",
       "      <td>0.208087</td>\n",
       "      <td>Sanne</td>\n",
       "      <td>2014-04-30 22:00:08</td>\n",
       "    </tr>\n",
       "    <tr>\n",
       "      <th>61916</th>\n",
       "      <td>61916</td>\n",
       "      <td>6</td>\n",
       "      <td>2014-04-30 22:29:57+00</td>\n",
       "      <td>833</td>\n",
       "      <td>-112.073055</td>\n",
       "      <td>51.352585</td>\n",
       "      <td>3.177144</td>\n",
       "      <td>1.522662</td>\n",
       "      <td>Sanne</td>\n",
       "      <td>2014-04-30 22:29:57</td>\n",
       "    </tr>\n",
       "    <tr>\n",
       "      <th>61917</th>\n",
       "      <td>61917</td>\n",
       "      <td>5</td>\n",
       "      <td>2014-04-30 22:59:52+00</td>\n",
       "      <td>833</td>\n",
       "      <td>69.989037</td>\n",
       "      <td>51.352622</td>\n",
       "      <td>3.177257</td>\n",
       "      <td>3.120545</td>\n",
       "      <td>Sanne</td>\n",
       "      <td>2014-04-30 22:59:52</td>\n",
       "    </tr>\n",
       "    <tr>\n",
       "      <th>61918</th>\n",
       "      <td>61918</td>\n",
       "      <td>16</td>\n",
       "      <td>2014-04-30 23:29:43+00</td>\n",
       "      <td>833</td>\n",
       "      <td>88.376373</td>\n",
       "      <td>51.354641</td>\n",
       "      <td>3.181509</td>\n",
       "      <td>0.592115</td>\n",
       "      <td>Sanne</td>\n",
       "      <td>2014-04-30 23:29:43</td>\n",
       "    </tr>\n",
       "    <tr>\n",
       "      <th>61919</th>\n",
       "      <td>61919</td>\n",
       "      <td>9</td>\n",
       "      <td>2014-04-30 23:59:34+00</td>\n",
       "      <td>833</td>\n",
       "      <td>149.949008</td>\n",
       "      <td>51.354474</td>\n",
       "      <td>3.181057</td>\n",
       "      <td>0.485489</td>\n",
       "      <td>Sanne</td>\n",
       "      <td>2014-04-30 23:59:34</td>\n",
       "    </tr>\n",
       "  </tbody>\n",
       "</table>\n",
       "<p>61920 rows × 10 columns</p>\n",
       "</div>"
      ],
      "text/plain": [
       "       Unnamed: 0  altitude               date_time  device_info_serial  \\\n",
       "0               0        71  2013-08-15 00:18:08+00                 851   \n",
       "1               1        68  2013-08-15 00:48:07+00                 851   \n",
       "2               2        68  2013-08-15 01:17:58+00                 851   \n",
       "3               3        73  2013-08-15 01:47:51+00                 851   \n",
       "4               4        69  2013-08-15 02:17:42+00                 851   \n",
       "...           ...       ...                     ...                 ...   \n",
       "61915       61915        11  2014-04-30 22:00:08+00                 833   \n",
       "61916       61916         6  2014-04-30 22:29:57+00                 833   \n",
       "61917       61917         5  2014-04-30 22:59:52+00                 833   \n",
       "61918       61918        16  2014-04-30 23:29:43+00                 833   \n",
       "61919       61919         9  2014-04-30 23:59:34+00                 833   \n",
       "\n",
       "        direction   latitude  longitude  speed_2d bird_name  \\\n",
       "0     -150.469753  49.419860   2.120733  0.150000      Eric   \n",
       "1     -136.151141  49.419880   2.120746  2.438360      Eric   \n",
       "2      160.797477  49.420310   2.120885  0.596657      Eric   \n",
       "3       32.769360  49.420359   2.120859  0.310161      Eric   \n",
       "4       45.191230  49.420331   2.120887  0.193132      Eric   \n",
       "...           ...        ...        ...       ...       ...   \n",
       "61915   45.448157  51.352572   3.177151  0.208087     Sanne   \n",
       "61916 -112.073055  51.352585   3.177144  1.522662     Sanne   \n",
       "61917   69.989037  51.352622   3.177257  3.120545     Sanne   \n",
       "61918   88.376373  51.354641   3.181509  0.592115     Sanne   \n",
       "61919  149.949008  51.354474   3.181057  0.485489     Sanne   \n",
       "\n",
       "               timestamps  \n",
       "0     2013-08-15 00:18:08  \n",
       "1     2013-08-15 00:48:07  \n",
       "2     2013-08-15 01:17:58  \n",
       "3     2013-08-15 01:47:51  \n",
       "4     2013-08-15 02:17:42  \n",
       "...                   ...  \n",
       "61915 2014-04-30 22:00:08  \n",
       "61916 2014-04-30 22:29:57  \n",
       "61917 2014-04-30 22:59:52  \n",
       "61918 2014-04-30 23:29:43  \n",
       "61919 2014-04-30 23:59:34  \n",
       "\n",
       "[61920 rows x 10 columns]"
      ]
     },
     "execution_count": 29,
     "metadata": {},
     "output_type": "execute_result"
    }
   ],
   "source": [
    "birddata"
   ]
  },
  {
   "cell_type": "code",
   "execution_count": 30,
   "id": "8dce3330-fdd5-4abc-ab47-cc4142b05ec7",
   "metadata": {},
   "outputs": [
    {
     "data": {
      "text/plain": [
       "19795"
      ]
     },
     "execution_count": 30,
     "metadata": {},
     "output_type": "execute_result"
    }
   ],
   "source": [
    "# Doing Time analysis for bird Eric (elapsed time and stuff)\n",
    "EricTime = birddata.timestamps[birddata.bird_name == 'Eric']\n",
    "elapsed_time = [time - EricTime[0] for time in EricTime]\n",
    "len(EricTime)"
   ]
  },
  {
   "cell_type": "code",
   "execution_count": 31,
   "id": "e08e828c-2236-450b-8f75-55d823b499da",
   "metadata": {},
   "outputs": [
    {
     "data": {
      "text/plain": [
       "[Timedelta('0 days 00:00:00'),\n",
       " Timedelta('0 days 00:29:59'),\n",
       " Timedelta('0 days 00:59:50'),\n",
       " Timedelta('0 days 01:29:43'),\n",
       " Timedelta('0 days 01:59:34'),\n",
       " Timedelta('0 days 02:29:30'),\n",
       " Timedelta('0 days 02:44:25'),\n",
       " Timedelta('0 days 02:59:19'),\n",
       " Timedelta('0 days 03:14:27'),\n",
       " Timedelta('0 days 03:29:40')]"
      ]
     },
     "execution_count": 31,
     "metadata": {},
     "output_type": "execute_result"
    }
   ],
   "source": [
    "elapsed_time[:10]"
   ]
  },
  {
   "cell_type": "code",
   "execution_count": 32,
   "id": "24315d37-5eac-4190-b4dd-b9949fdca5a3",
   "metadata": {},
   "outputs": [
    {
     "data": {
      "text/plain": [
       "0.02082175925925926"
      ]
     },
     "execution_count": 32,
     "metadata": {},
     "output_type": "execute_result"
    }
   ],
   "source": [
    "# Converting or calculating time in certain time units like days, hours etc\n",
    "elapsed_time[1]/datetime.timedelta(days = 1)"
   ]
  },
  {
   "cell_type": "code",
   "execution_count": 33,
   "id": "9bd0d312-730d-47df-a1a7-c3532aa875b0",
   "metadata": {},
   "outputs": [
    {
     "data": {
      "text/plain": [
       "0.49972222222222223"
      ]
     },
     "execution_count": 33,
     "metadata": {},
     "output_type": "execute_result"
    }
   ],
   "source": [
    "elapsed_time[1]/datetime.timedelta(hours = 1)"
   ]
  },
  {
   "cell_type": "code",
   "execution_count": 34,
   "id": "49a11e19-c0f6-4a51-9ccd-ff90516fcd31",
   "metadata": {},
   "outputs": [
    {
     "data": {
      "text/plain": [
       "0.1566087962962963"
      ]
     },
     "execution_count": 34,
     "metadata": {},
     "output_type": "execute_result"
    }
   ],
   "source": [
    "elapsed_time[10]/datetime.timedelta(days = 1)"
   ]
  },
  {
   "cell_type": "code",
   "execution_count": 35,
   "id": "24bb8013-2e6a-4c8f-b7cc-2454bc93177a",
   "metadata": {},
   "outputs": [
    {
     "data": {
      "text/plain": [
       "12.084722222222222"
      ]
     },
     "execution_count": 35,
     "metadata": {},
     "output_type": "execute_result"
    }
   ],
   "source": [
    "elapsed_time[1000]/datetime.timedelta(days = 1)"
   ]
  },
  {
   "cell_type": "code",
   "execution_count": 36,
   "id": "481c73fd-ad63-42e0-9166-5f6726a279b3",
   "metadata": {},
   "outputs": [
    {
     "data": {
      "text/plain": [
       "Timedelta('12 days 02:02:00')"
      ]
     },
     "execution_count": 36,
     "metadata": {},
     "output_type": "execute_result"
    }
   ],
   "source": [
    "elapsed_time[1000]"
   ]
  },
  {
   "cell_type": "code",
   "execution_count": 37,
   "id": "72f917c8-0fee-4a07-b571-d1d34f94ccf0",
   "metadata": {},
   "outputs": [
    {
     "data": {
      "image/png": "[encoded data removed]",
      "text/plain": [
       "<Figure size 432x288 with 1 Axes>"
      ]
     },
     "metadata": {
      "needs_background": "light"
     },
     "output_type": "display_data"
    }
   ],
   "source": [
    "# Plotting the data for Bird Eric\n",
    "plt.plot(np.array(elapsed_time)/datetime.timedelta(days = 1))\n",
    "plt.axis(\"tight\")\n",
    "plt.xlabel(\"Observation\")\n",
    "plt.ylabel(\"No. of Days\");\n",
    "plt.savefig(\"EricTimeAnalysis.pdf\")"
   ]
  },
  {
   "cell_type": "code",
   "execution_count": 38,
   "id": "c33982be-627d-4df4-bbfe-a2b44bfe7b53",
   "metadata": {},
   "outputs": [
    {
     "data": {
      "image/png": "[encoded data removed]",
      "text/plain": [
       "<Figure size 576x432 with 1 Axes>"
      ]
     },
     "metadata": {
      "needs_background": "light"
     },
     "output_type": "display_data"
    }
   ],
   "source": [
    "# Calculating and plotting daily mean speed for bird Eric (first)\n",
    "inds = []\n",
    "oneday = datetime.timedelta(days = 1)\n",
    "daily_mean_speed = []\n",
    "EricSpeed = birddata.speed_2d[birddata.bird_name == 'Eric']\n",
    "for (i,t) in enumerate(elapsed_time):\n",
    "    if t < oneday:\n",
    "        inds.append(i)\n",
    "    else:\n",
    "        daily_mean_speed.append(np.mean(EricSpeed[inds]))\n",
    "        oneday += datetime.timedelta(days = 1)\n",
    "        inds = []\n",
    "\n",
    "plt.figure(figsize=(8,6))\n",
    "plt.plot(daily_mean_speed)\n",
    "plt.xlabel(\"Days\")\n",
    "plt.ylabel(\"Daily Mean Speed (M/S)\");"
   ]
  },
  {
   "cell_type": "code",
   "execution_count": 39,
   "id": "7c86d635-c902-4db8-ba34-25cb4864661d",
   "metadata": {},
   "outputs": [
    {
     "data": {
      "image/png": "[encoded data removed]",
      "text/plain": [
       "<Figure size 576x432 with 1 Axes>"
      ]
     },
     "metadata": {
      "needs_background": "light"
     },
     "output_type": "display_data"
    }
   ],
   "source": [
    "plt.figure(figsize=(8,6))\n",
    "plt.plot(daily_mean_speed)\n",
    "plt.xlabel(\"Days\")\n",
    "plt.ylabel(\"Daily Mean Speed (M/S)\")\n",
    "plt.savefig(\"EricMeanSpeed.pdf\")"
   ]
  },
  {
   "cell_type": "code",
   "execution_count": 41,
   "id": "5267f926-2f1f-48d5-8911-e4eee29c99b1",
   "metadata": {},
   "outputs": [],
   "source": [
    "Nico_Data = birddata[birddata.bird_name == 'Nico']"
   ]
  },
  {
   "cell_type": "code",
   "execution_count": 42,
   "id": "4dc1b113-481d-4939-af5c-b9b239feb862",
   "metadata": {},
   "outputs": [
    {
     "data": {
      "text/html": [
       "<div>\n",
       "<style scoped>\n",
       "    .dataframe tbody tr th:only-of-type {\n",
       "        vertical-align: middle;\n",
       "    }\n",
       "\n",
       "    .dataframe tbody tr th {\n",
       "        vertical-align: top;\n",
       "    }\n",
       "\n",
       "    .dataframe thead th {\n",
       "        text-align: right;\n",
       "    }\n",
       "</style>\n",
       "<table border=\"1\" class=\"dataframe\">\n",
       "  <thead>\n",
       "    <tr style=\"text-align: right;\">\n",
       "      <th></th>\n",
       "      <th>Unnamed: 0</th>\n",
       "      <th>altitude</th>\n",
       "      <th>date_time</th>\n",
       "      <th>device_info_serial</th>\n",
       "      <th>direction</th>\n",
       "      <th>latitude</th>\n",
       "      <th>longitude</th>\n",
       "      <th>speed_2d</th>\n",
       "      <th>bird_name</th>\n",
       "      <th>timestamps</th>\n",
       "    </tr>\n",
       "  </thead>\n",
       "  <tbody>\n",
       "    <tr>\n",
       "      <th>19795</th>\n",
       "      <td>19795</td>\n",
       "      <td>382</td>\n",
       "      <td>2013-08-15 00:20:45+00</td>\n",
       "      <td>864</td>\n",
       "      <td>145.179141</td>\n",
       "      <td>50.213455</td>\n",
       "      <td>4.394506</td>\n",
       "      <td>16.482439</td>\n",
       "      <td>Nico</td>\n",
       "      <td>2013-08-15 00:20:45</td>\n",
       "    </tr>\n",
       "    <tr>\n",
       "      <th>19796</th>\n",
       "      <td>19796</td>\n",
       "      <td>197</td>\n",
       "      <td>2013-08-15 00:51:00+00</td>\n",
       "      <td>864</td>\n",
       "      <td>-25.393443</td>\n",
       "      <td>50.214117</td>\n",
       "      <td>4.394010</td>\n",
       "      <td>0.360555</td>\n",
       "      <td>Nico</td>\n",
       "      <td>2013-08-15 00:51:00</td>\n",
       "    </tr>\n",
       "    <tr>\n",
       "      <th>19797</th>\n",
       "      <td>19797</td>\n",
       "      <td>206</td>\n",
       "      <td>2013-08-15 01:21:08+00</td>\n",
       "      <td>864</td>\n",
       "      <td>158.480445</td>\n",
       "      <td>50.213713</td>\n",
       "      <td>4.393788</td>\n",
       "      <td>0.193132</td>\n",
       "      <td>Nico</td>\n",
       "      <td>2013-08-15 01:21:08</td>\n",
       "    </tr>\n",
       "    <tr>\n",
       "      <th>19798</th>\n",
       "      <td>19798</td>\n",
       "      <td>200</td>\n",
       "      <td>2013-08-15 01:50:57+00</td>\n",
       "      <td>864</td>\n",
       "      <td>139.613245</td>\n",
       "      <td>50.213546</td>\n",
       "      <td>4.393801</td>\n",
       "      <td>0.800999</td>\n",
       "      <td>Nico</td>\n",
       "      <td>2013-08-15 01:50:57</td>\n",
       "    </tr>\n",
       "    <tr>\n",
       "      <th>19799</th>\n",
       "      <td>19799</td>\n",
       "      <td>199</td>\n",
       "      <td>2013-08-15 02:20:48+00</td>\n",
       "      <td>864</td>\n",
       "      <td>-134.485593</td>\n",
       "      <td>50.213601</td>\n",
       "      <td>4.393882</td>\n",
       "      <td>1.268267</td>\n",
       "      <td>Nico</td>\n",
       "      <td>2013-08-15 02:20:48</td>\n",
       "    </tr>\n",
       "    <tr>\n",
       "      <th>...</th>\n",
       "      <td>...</td>\n",
       "      <td>...</td>\n",
       "      <td>...</td>\n",
       "      <td>...</td>\n",
       "      <td>...</td>\n",
       "      <td>...</td>\n",
       "      <td>...</td>\n",
       "      <td>...</td>\n",
       "      <td>...</td>\n",
       "      <td>...</td>\n",
       "    </tr>\n",
       "    <tr>\n",
       "      <th>40911</th>\n",
       "      <td>40911</td>\n",
       "      <td>17</td>\n",
       "      <td>2014-04-30 20:58:41+00</td>\n",
       "      <td>864</td>\n",
       "      <td>176.395402</td>\n",
       "      <td>51.350510</td>\n",
       "      <td>3.177341</td>\n",
       "      <td>1.612452</td>\n",
       "      <td>Nico</td>\n",
       "      <td>2014-04-30 20:58:41</td>\n",
       "    </tr>\n",
       "    <tr>\n",
       "      <th>40912</th>\n",
       "      <td>40912</td>\n",
       "      <td>-147</td>\n",
       "      <td>2014-04-30 21:28:43+00</td>\n",
       "      <td>864</td>\n",
       "      <td>107.200939</td>\n",
       "      <td>51.350785</td>\n",
       "      <td>3.176436</td>\n",
       "      <td>0.658559</td>\n",
       "      <td>Nico</td>\n",
       "      <td>2014-04-30 21:28:43</td>\n",
       "    </tr>\n",
       "    <tr>\n",
       "      <th>40913</th>\n",
       "      <td>40913</td>\n",
       "      <td>11</td>\n",
       "      <td>2014-04-30 22:29:38+00</td>\n",
       "      <td>864</td>\n",
       "      <td>-169.405071</td>\n",
       "      <td>51.349890</td>\n",
       "      <td>3.176528</td>\n",
       "      <td>0.110454</td>\n",
       "      <td>Nico</td>\n",
       "      <td>2014-04-30 22:29:38</td>\n",
       "    </tr>\n",
       "    <tr>\n",
       "      <th>40914</th>\n",
       "      <td>40914</td>\n",
       "      <td>-57</td>\n",
       "      <td>2014-04-30 23:01:36+00</td>\n",
       "      <td>864</td>\n",
       "      <td>-140.438523</td>\n",
       "      <td>51.349492</td>\n",
       "      <td>3.175810</td>\n",
       "      <td>5.424767</td>\n",
       "      <td>Nico</td>\n",
       "      <td>2014-04-30 23:01:36</td>\n",
       "    </tr>\n",
       "    <tr>\n",
       "      <th>40915</th>\n",
       "      <td>40915</td>\n",
       "      <td>3</td>\n",
       "      <td>2014-04-30 23:31:31+00</td>\n",
       "      <td>864</td>\n",
       "      <td>-104.986788</td>\n",
       "      <td>51.349896</td>\n",
       "      <td>3.176463</td>\n",
       "      <td>2.236605</td>\n",
       "      <td>Nico</td>\n",
       "      <td>2014-04-30 23:31:31</td>\n",
       "    </tr>\n",
       "  </tbody>\n",
       "</table>\n",
       "<p>21121 rows × 10 columns</p>\n",
       "</div>"
      ],
      "text/plain": [
       "       Unnamed: 0  altitude               date_time  device_info_serial  \\\n",
       "19795       19795       382  2013-08-15 00:20:45+00                 864   \n",
       "19796       19796       197  2013-08-15 00:51:00+00                 864   \n",
       "19797       19797       206  2013-08-15 01:21:08+00                 864   \n",
       "19798       19798       200  2013-08-15 01:50:57+00                 864   \n",
       "19799       19799       199  2013-08-15 02:20:48+00                 864   \n",
       "...           ...       ...                     ...                 ...   \n",
       "40911       40911        17  2014-04-30 20:58:41+00                 864   \n",
       "40912       40912      -147  2014-04-30 21:28:43+00                 864   \n",
       "40913       40913        11  2014-04-30 22:29:38+00                 864   \n",
       "40914       40914       -57  2014-04-30 23:01:36+00                 864   \n",
       "40915       40915         3  2014-04-30 23:31:31+00                 864   \n",
       "\n",
       "        direction   latitude  longitude   speed_2d bird_name  \\\n",
       "19795  145.179141  50.213455   4.394506  16.482439      Nico   \n",
       "19796  -25.393443  50.214117   4.394010   0.360555      Nico   \n",
       "19797  158.480445  50.213713   4.393788   0.193132      Nico   \n",
       "19798  139.613245  50.213546   4.393801   0.800999      Nico   \n",
       "19799 -134.485593  50.213601   4.393882   1.268267      Nico   \n",
       "...           ...        ...        ...        ...       ...   \n",
       "40911  176.395402  51.350510   3.177341   1.612452      Nico   \n",
       "40912  107.200939  51.350785   3.176436   0.658559      Nico   \n",
       "40913 -169.405071  51.349890   3.176528   0.110454      Nico   \n",
       "40914 -140.438523  51.349492   3.175810   5.424767      Nico   \n",
       "40915 -104.986788  51.349896   3.176463   2.236605      Nico   \n",
       "\n",
       "               timestamps  \n",
       "19795 2013-08-15 00:20:45  \n",
       "19796 2013-08-15 00:51:00  \n",
       "19797 2013-08-15 01:21:08  \n",
       "19798 2013-08-15 01:50:57  \n",
       "19799 2013-08-15 02:20:48  \n",
       "...                   ...  \n",
       "40911 2014-04-30 20:58:41  \n",
       "40912 2014-04-30 21:28:43  \n",
       "40913 2014-04-30 22:29:38  \n",
       "40914 2014-04-30 23:01:36  \n",
       "40915 2014-04-30 23:31:31  \n",
       "\n",
       "[21121 rows x 10 columns]"
      ]
     },
     "execution_count": 42,
     "metadata": {},
     "output_type": "execute_result"
    }
   ],
   "source": [
    "Nico_Data"
   ]
  },
  {
   "cell_type": "code",
   "execution_count": 49,
   "id": "1076a3c4-900b-431b-9667-766897935468",
   "metadata": {},
   "outputs": [
    {
     "data": {
      "text/plain": [
       "19795   2013-08-15 00:20:45\n",
       "19796   2013-08-15 00:51:00\n",
       "19797   2013-08-15 01:21:08\n",
       "19798   2013-08-15 01:50:57\n",
       "19799   2013-08-15 02:20:48\n",
       "                ...        \n",
       "40911   2014-04-30 20:58:41\n",
       "40912   2014-04-30 21:28:43\n",
       "40913   2014-04-30 22:29:38\n",
       "40914   2014-04-30 23:01:36\n",
       "40915   2014-04-30 23:31:31\n",
       "Name: timestamps, Length: 21121, dtype: datetime64[ns]"
      ]
     },
     "execution_count": 49,
     "metadata": {},
     "output_type": "execute_result"
    }
   ],
   "source": [
    "# Calculating Elapsed time for Nico\n",
    "Nico_Data.timestamps"
   ]
  },
  {
   "cell_type": "code",
   "execution_count": 44,
   "id": "1063e64c-93c3-4e1c-834f-2d7f123a9bd9",
   "metadata": {},
   "outputs": [
    {
     "data": {
      "text/plain": [
       "19795    16.482439\n",
       "19796     0.360555\n",
       "19797     0.193132\n",
       "19798     0.800999\n",
       "19799     1.268267\n",
       "           ...    \n",
       "40911     1.612452\n",
       "40912     0.658559\n",
       "40913     0.110454\n",
       "40914     5.424767\n",
       "40915     2.236605\n",
       "Name: speed_2d, Length: 21121, dtype: float64"
      ]
     },
     "execution_count": 44,
     "metadata": {},
     "output_type": "execute_result"
    }
   ],
   "source": [
    "Nico_Data.speed_2d"
   ]
  },
  {
   "cell_type": "code",
   "execution_count": 52,
   "id": "75ea5503-7962-4759-aee4-b178db9102f5",
   "metadata": {},
   "outputs": [
    {
     "data": {
      "text/plain": [
       "19795"
      ]
     },
     "execution_count": 52,
     "metadata": {},
     "output_type": "execute_result"
    }
   ],
   "source": [
    "Nico_Data.timestamps.index[0]"
   ]
  },
  {
   "cell_type": "code",
   "execution_count": 53,
   "id": "d7b963c0-7c6b-41bb-a777-4f1789091764",
   "metadata": {},
   "outputs": [
    {
     "data": {
      "text/plain": [
       "numpy.int64"
      ]
     },
     "execution_count": 53,
     "metadata": {},
     "output_type": "execute_result"
    }
   ],
   "source": [
    "type(Nico_Data.timestamps.index[0])"
   ]
  },
  {
   "cell_type": "code",
   "execution_count": 54,
   "id": "4486649e-8519-46c1-99e6-a74135f385db",
   "metadata": {},
   "outputs": [],
   "source": [
    "Nico_elapsed_time = [time - Nico_Data.timestamps[Nico_Data.timestamps.index[0]] for time in Nico_Data.timestamps]"
   ]
  },
  {
   "cell_type": "code",
   "execution_count": 55,
   "id": "e7112138-fc3f-4192-a035-227b95ced051",
   "metadata": {},
   "outputs": [
    {
     "data": {
      "text/plain": [
       "21121"
      ]
     },
     "execution_count": 55,
     "metadata": {},
     "output_type": "execute_result"
    }
   ],
   "source": [
    "len(Nico_elapsed_time)"
   ]
  },
  {
   "cell_type": "code",
   "execution_count": 61,
   "id": "14a6d650-87ad-4209-9cdd-fb1cc4a575e1",
   "metadata": {},
   "outputs": [
    {
     "data": {
      "text/plain": [
       "array([16.48243914,  0.36055513,  0.19313208, ...,  0.11045361,\n",
       "        5.42476728,  2.23660457])"
      ]
     },
     "execution_count": 61,
     "metadata": {},
     "output_type": "execute_result"
    }
   ],
   "source": [
    "np.array(Nico_Data.speed_2d)[0]"
   ]
  },
  {
   "cell_type": "code",
   "execution_count": 62,
   "id": "c1e196ec-e0fb-4578-9e13-5bcbf45d5659",
   "metadata": {},
   "outputs": [
    {
     "data": {
      "text/plain": [
       "16.4824391398846"
      ]
     },
     "execution_count": 62,
     "metadata": {},
     "output_type": "execute_result"
    }
   ],
   "source": [
    "np.array(Nico_Data.speed_2d)[0]"
   ]
  },
  {
   "cell_type": "code",
   "execution_count": 65,
   "id": "26507f9f-026a-4acf-ac49-2c31ad38fca6",
   "metadata": {},
   "outputs": [
    {
     "name": "stderr",
     "output_type": "stream",
     "text": [
      "C:\\Users\\Aazar\\anaconda3\\lib\\site-packages\\numpy\\core\\fromnumeric.py:3419: RuntimeWarning: Mean of empty slice.\n",
      "  return _methods._mean(a, axis=axis, dtype=dtype,\n",
      "C:\\Users\\Aazar\\anaconda3\\lib\\site-packages\\numpy\\core\\_methods.py:188: RuntimeWarning: invalid value encountered in double_scalars\n",
      "  ret = ret.dtype.type(ret / rcount)\n"
     ]
    }
   ],
   "source": [
    "inds = []\n",
    "oneday = datetime.timedelta(days = 1)\n",
    "Nico_Daily_Mean_Speed = []\n",
    "Nico_speed = np.array(Nico_Data.speed_2d)\n",
    "for (i,t) in enumerate(elapsed_time):\n",
    "    if t < oneday and ~np.isnan(Nico_speed[i]) :                       # Whenever np.isnan() is False we are good to go\n",
    "        inds.append(i)\n",
    "    else:\n",
    "        Nico_Daily_Mean_Speed.append(np.mean(Nico_speed[inds]))\n",
    "        oneday += datetime.timedelta(days = 1)\n",
    "        inds = []"
   ]
  },
  {
   "cell_type": "code",
   "execution_count": 66,
   "id": "4cd3a266-1e8e-4aba-baf2-0dbba8ee2247",
   "metadata": {},
   "outputs": [
    {
     "data": {
      "text/plain": [
       "[<matplotlib.lines.Line2D at 0x15e997ffc70>]"
      ]
     },
     "execution_count": 66,
     "metadata": {},
     "output_type": "execute_result"
    },
    {
     "data": {
      "image/png": "[encoded data removed]",
      "text/plain": [
       "<Figure size 576x432 with 1 Axes>"
      ]
     },
     "metadata": {
      "needs_background": "light"
     },
     "output_type": "display_data"
    }
   ],
   "source": [
    "plt.figure(figsize=(8,6))\n",
    "plt.plot(Nico_Daily_Mean_Speed)"
   ]
  },
  {
   "cell_type": "code",
   "execution_count": 78,
   "id": "e01da45e-2f4b-4a37-9ab1-28031ddf22c1",
   "metadata": {},
   "outputs": [
    {
     "data": {
      "text/plain": [
       "False"
      ]
     },
     "execution_count": 78,
     "metadata": {},
     "output_type": "execute_result"
    }
   ],
   "source": [
    "np.isnan(Nico_speed[2])"
   ]
  },
  {
   "cell_type": "code",
   "execution_count": 100,
   "id": "d12a0034-6d61-4bf9-927e-8ac8f8a610f0",
   "metadata": {},
   "outputs": [
    {
     "name": "stderr",
     "output_type": "stream",
     "text": [
      "C:\\Users\\Aazar\\anaconda3\\lib\\site-packages\\numpy\\core\\fromnumeric.py:3419: RuntimeWarning: Mean of empty slice.\n",
      "  return _methods._mean(a, axis=axis, dtype=dtype,\n",
      "C:\\Users\\Aazar\\anaconda3\\lib\\site-packages\\numpy\\core\\_methods.py:188: RuntimeWarning: invalid value encountered in double_scalars\n",
      "  ret = ret.dtype.type(ret / rcount)\n"
     ]
    },
    {
     "name": "stdout",
     "output_type": "stream",
     "text": [
      "495 "
     ]
    }
   ],
   "source": [
    "inds = []\n",
    "oneday = datetime.timedelta(days = 1)\n",
    "Nico_Daily_Mean_Speed = []\n",
    "Nico_speed = np.array(Nico_Data.speed_2d)\n",
    "for (i,t) in enumerate(elapsed_time):\n",
    "    if t < oneday:\n",
    "        if ~np.any(Nico_speed[i]):                                  # the predicate will be False for NaN values\n",
    "            print(i, end=\" \")                                                   \n",
    "            inds.append(i)\n",
    "        else:\n",
    "            continue\n",
    "    else:\n",
    "        Nico_Daily_Mean_Speed.append(np.mean(Nico_speed[inds]))\n",
    "        oneday += datetime.timedelta(days = 1)\n",
    "        inds = []"
   ]
  },
  {
   "cell_type": "code",
   "execution_count": 101,
   "id": "64bcb019-b84d-46bb-9c16-d1405edd88e8",
   "metadata": {},
   "outputs": [
    {
     "data": {
      "text/plain": [
       "0"
      ]
     },
     "execution_count": 101,
     "metadata": {},
     "output_type": "execute_result"
    }
   ],
   "source": [
    "len(inds)"
   ]
  },
  {
   "cell_type": "code",
   "execution_count": 96,
   "id": "2874100c-0cc4-4192-9a67-95d74cb79a72",
   "metadata": {},
   "outputs": [
    {
     "data": {
      "image/png": "[encoded data removed]",
      "text/plain": [
       "<Figure size 576x432 with 1 Axes>"
      ]
     },
     "metadata": {
      "needs_background": "light"
     },
     "output_type": "display_data"
    }
   ],
   "source": [
    "plt.figure(figsize=(8,6))\n",
    "plt.plot(Nico_Daily_Mean_Speed);"
   ]
  },
  {
   "cell_type": "code",
   "execution_count": 97,
   "id": "6f1337ce-1c16-4cd4-ad2c-eee3dfce7f00",
   "metadata": {},
   "outputs": [
    {
     "data": {
      "text/plain": [
       "113"
      ]
     },
     "execution_count": 97,
     "metadata": {},
     "output_type": "execute_result"
    }
   ],
   "source": [
    "sum(np.isnan(Nico_speed))"
   ]
  },
  {
   "cell_type": "code",
   "execution_count": 98,
   "id": "a4649073-f3eb-40bd-8989-649ab404555d",
   "metadata": {},
   "outputs": [
    {
     "data": {
      "text/plain": [
       "21008"
      ]
     },
     "execution_count": 98,
     "metadata": {},
     "output_type": "execute_result"
    }
   ],
   "source": [
    "len(Nico_speed) - sum(np.isnan(Nico_speed))"
   ]
  },
  {
   "cell_type": "code",
   "execution_count": null,
   "id": "024300a1-1a54-46b4-afd6-dc629abbaf0a",
   "metadata": {},
   "outputs": [],
   "source": []
  }
 ],
 "metadata": {
  "kernelspec": {
   "display_name": "Python 3",
   "language": "python",
   "name": "python3"
  },
  "language_info": {
   "codemirror_mode": {
    "name": "ipython",
    "version": 3
   },
   "file_extension": ".py",
   "mimetype": "text/x-python",
   "name": "python",
   "nbconvert_exporter": "python",
   "pygments_lexer": "ipython3",
   "version": "3.8.8"
  }
 },
 "nbformat": 4,
 "nbformat_minor": 5
}
