{
  "cells": [
    {
      "cell_type": "markdown",
      "metadata": {
        "id": "view-in-github",
        "colab_type": "text"
      },
      "source": [
        "<a href=\"https://colab.research.google.com/github/Aazat/Python-for-research/blob/main/Queue_Admission_control.ipynb\" target=\"_parent\"><img src=\"https://colab.research.google.com/assets/colab-badge.svg\" alt=\"Open In Colab\"/></a>"
      ]
    },
    {
      "cell_type": "markdown",
      "metadata": {
        "id": "TVAr-ltVO78E"
      },
      "source": [
        "# Imports"
      ]
    },
    {
      "cell_type": "code",
      "execution_count": 31,
      "metadata": {
        "id": "X2pSxMBX9Ygr"
      },
      "outputs": [],
      "source": [
        "import random\n",
        "import numpy as np\n",
        "import math\n",
        "import tensorflow as tf\n",
        "import matplotlib.pyplot as plt\n",
        "from tensorflow.keras.layers import Dense, Dropout\n",
        "from tensorflow.keras.callbacks import EarlyStopping\n",
        "from tensorflow.keras.regularizers import l1, l2"
      ]
    },
    {
      "cell_type": "markdown",
      "source": [
        "## Sample Next arrival"
      ],
      "metadata": {
        "id": "ZFyxlf4ykgI9"
      }
    },
    {
      "cell_type": "code",
      "execution_count": 2,
      "metadata": {
        "id": "y6640uM29i8k"
      },
      "outputs": [],
      "source": [
        "\n",
        "# A state is (n1,n2, t1,t2)\n",
        "# action ['00', '10','01']\n",
        "C = 5\n",
        "L1= 0.02\n",
        "L2 = 0.0166\n",
        "T_p = 6\n",
        "T_np = 10\n",
        "W1 = 2\n",
        "W2 = 1\n",
        "\n",
        "ACTIONS = ['00','10','01']\n",
        "time_constants = {'00': 0, '10': T_p, '01': T_np}\n",
        "\n",
        "\n",
        "def sample_next_arrival(arrival_rate ):\n",
        "    \"\"\"\n",
        "    returns the arrival time for next state arrivals, following an exponential distribution.\n",
        "    \"\"\"\n",
        "    return int(random.expovariate(arrival_rate))\n",
        "\n",
        "\n",
        "def sample_next_state(state , action):\n",
        "    \"\"\"Takes an numpy array of shape (4,) (n1,n2,t1,t2 as states), and the action to perform and samples the next state and reward as per the transition rules\"\"\"\n",
        "    # sample action, equally likely.\n",
        "    n1,n2,t1,t2 = state.flatten()\n",
        "\n",
        "    # arrival time remaining for next states...only initialized here globally\n",
        "    n1_,n2_,t1_ ,t2_ = n1,n2,t1,t2\n",
        "\n",
        "\n",
        "    T = time_constants[action]\n",
        "\n",
        "    if action == '00':\n",
        "        if n1 + n2 == C:\n",
        "            t1_,t2_ = sample_next_arrival(L1), sample_next_arrival(L2)\n",
        "            reward = -1e6\n",
        "            return np.array((n1_,n2_,t1_,t2_),ndmin=2),reward\n",
        "\n",
        "        if t1 < t2:\n",
        "            # Here we can use uniform approach as well, for now we will just pick priority customer as our policy.\n",
        "            n1_ += 1\n",
        "            reward = -(W1*n1 + W2*n2)*(t1)\n",
        "            t1_ = sample_next_arrival(L1)\n",
        "            t2_ = t2-t1\n",
        "        elif t1 == t2:\n",
        "            c = np.random.randint(0,2)\n",
        "            n1_ += (c == 0)\n",
        "            n2_ += (c == 1)\n",
        "            reward = -(W1*n1 + W2*n2)*(t1) if c==0 else -(W1*n1 + W2*n2)*(t2)\n",
        "            t1_ = sample_next_arrival(L1) if c == 0 else t1 - t2\n",
        "            t2_ = sample_next_arrival(L2) if c == 1 else t2 - t1\n",
        "\n",
        "        else:\n",
        "            n2_ += 1\n",
        "            reward = -(W1*n1 + W2*n2)*(t2)\n",
        "            t2_ = sample_next_arrival(L2)\n",
        "            t1_ = t1 - t2\n",
        "\n",
        "        return np.array((n1_,n2_,t1_,t2_),ndmin=2),reward\n",
        "\n",
        "    else:\n",
        "        if (n1 < 1 and action == '10') or (n2 < 1 and action == '01'):\n",
        "            return np.array((n1_, n2_, t1_, t2_),ndmin=2), -1e6\n",
        "\n",
        "        # T is now serving time, now we have various cases...\n",
        "        if T < min(t1,t2):\n",
        "\n",
        "            t1_ -= T\n",
        "            t2_ -= T\n",
        "            reward = -(W1*(n1_) + W2*n2_) *T\n",
        "            return np.array((n1_,n2_,t1_,t2_),ndmin=2),reward\n",
        "\n",
        "        reward_list = [-((n1 - (action == '10'))*W1 + (n2 - (action == '01'))*W2)*T]\n",
        "        while( (T >= t1_ or T >= t2_) and n1_ + n2_ < C ):\n",
        "            if t1_ < t2_:\n",
        "                T -= t1_\n",
        "                t2_ -= t1_\n",
        "                n1_ += 1\n",
        "                reward_list.append(-(W1*T))\n",
        "                t1_ = sample_next_arrival(L1)\n",
        "            elif t2_ < t1_:\n",
        "                T -= t2_\n",
        "                t1_ -= t2_\n",
        "                n2_ += 1\n",
        "                reward_list.append(-(W2*T))\n",
        "                t2_ = sample_next_arrival(L2)\n",
        "            elif t1_ == t2_ and (n1_ + n2_ +1 < C ):\n",
        "                T -= t1_\n",
        "                n1_ += 1\n",
        "                n2_ += 1\n",
        "                reward_list.append(-(W1 + W2)*T)\n",
        "                t1_ = sample_next_arrival(L1)\n",
        "                t2_ = sample_next_arrival(L2)\n",
        "            elif t1_ == t2_:\n",
        "                # PICK WHICH ONE TO KEEP\n",
        "                c = np.random.randint(0,2)\n",
        "                n1_ += (c == 0)\n",
        "                n2_ += (c == 1)\n",
        "                r = -(W1*T) if c == 0 else -(W2*T)\n",
        "                reward_list.append(r)\n",
        "\n",
        "                t1_ = sample_next_arrival(L1)\n",
        "                t2_ = sample_next_arrival(L2)\n",
        "\n",
        "        t1_ = t1_ - T\n",
        "        if t1_ < 0:\n",
        "            t1_ = sample_next_arrival(L1)\n",
        "\n",
        "        t2_ -= T\n",
        "        if t2_ < 0:\n",
        "            t2_ = sample_next_arrival(L2)\n",
        "\n",
        "        # We have to make the reward as bellman optimal update, that is max of all actions.???\n",
        "        # reward = -((W1 * (n1_ - n1-1))*(T/2) + W2*(n2_ - n2)*(T/2)) - (W1 * (n1 - 1) + W2 * (n2))*(T)\n",
        "        reward = sum(reward_list)\n",
        "        n1_ -= (action == \"10\")\n",
        "        n2_ -= (action == \"01\")\n",
        "        return np.array((n1_,n2_,t1_,t2_),ndmin=2), reward\n",
        "\n",
        "    # pass\n"
      ]
    },
    {
      "cell_type": "markdown",
      "metadata": {
        "id": "J8SW3Or4aDlv"
      },
      "source": [
        "#### generate trajectory"
      ]
    },
    {
      "cell_type": "code",
      "execution_count": 3,
      "metadata": {
        "id": "O08ZIhtbjN4J"
      },
      "outputs": [],
      "source": [
        "def get_optimal_action(state,V, k=10, discount = 0.03):\n",
        "  \"\"\"\n",
        "  Calculates the optimal action for the function approximator V, at the given state\n",
        "  \"\"\"\n",
        "  # Perform all actions\n",
        "  yi = np.full(len(ACTIONS), -np.inf)\n",
        "  for i,action in enumerate(ACTIONS):\n",
        "    # sample k states to approximate E[V] for the given action\n",
        "    sj,R = zip(*[sample_next_state(state,action) for _ in range(k)])\n",
        "    V_pred = V.predict(np.array(sj),verbose=0).squeeze()\n",
        "\n",
        "    q_a = np.mean(R + discount*V_pred)\n",
        "    yi[i] = q_a\n",
        "\n",
        "  return ACTIONS[np.argmax(yi)]"
      ]
    },
    {
      "cell_type": "code",
      "execution_count": 4,
      "metadata": {
        "id": "ZcA8FXBs-ShD"
      },
      "outputs": [],
      "source": [
        "# Example run\n",
        "\n",
        "def generate_trajectory(policy , is_approximator=False,initial_state = (0,0,5,3), discount = 0.03, steps = 100 ):\n",
        "\n",
        "    # discounted_trajectory_reward\n",
        "    V_pi = 0\n",
        "    # backup = []\n",
        "    if is_approximator:\n",
        "      for _ in range(steps):\n",
        "        action = get_optimal_action(initial_state, policy)\n",
        "        next_state ,reward = sample_next_state(initial_state, action)\n",
        "        V_pi  += reward * (discount ** _)\n",
        "        initial_state = next_state\n",
        "\n",
        "        # backup.append((next_state,reward))\n",
        "    else:\n",
        "      for _ in range(steps):\n",
        "          action = policy(initial_state)\n",
        "          next_state ,reward = sample_next_state(initial_state, action)\n",
        "\n",
        "          V_pi  += reward * (discount ** _)\n",
        "          initial_state = next_state\n",
        "\n",
        "          # backup.append((next_state,reward))\n",
        "    return V_pi"
      ]
    },
    {
      "cell_type": "markdown",
      "metadata": {
        "id": "398LiVLIev2o"
      },
      "source": [
        "#### uniform action policy"
      ]
    },
    {
      "cell_type": "code",
      "execution_count": 5,
      "metadata": {
        "colab": {
          "base_uri": "https://localhost:8080/"
        },
        "id": "2PlUKXVo-UCA",
        "outputId": "30df1f84-977c-44f5-dc1d-c0397cbb0b83"
      },
      "outputs": [
        {
          "output_type": "stream",
          "name": "stdout",
          "text": [
            "-1030000.0004547548\n"
          ]
        }
      ],
      "source": [
        "# Uniform action policy\n",
        "def uniform_action_policy(state = None):\n",
        "    return random.choice(ACTIONS)\n",
        "\n",
        "V_u = generate_trajectory(uniform_action_policy, steps=1000)\n",
        "print(V_u)"
      ]
    },
    {
      "cell_type": "markdown",
      "metadata": {
        "id": "RcGmgioCe0FJ"
      },
      "source": [
        "#### custom policy"
      ]
    },
    {
      "cell_type": "code",
      "execution_count": 6,
      "metadata": {
        "colab": {
          "base_uri": "https://localhost:8080/"
        },
        "id": "4XNPDoKY-Vvj",
        "outputId": "d1952493-1188-4876-ebf4-75a1216a77cc"
      },
      "outputs": [
        {
          "output_type": "stream",
          "name": "stdout",
          "text": [
            "-0.49113402061068107\n"
          ]
        }
      ],
      "source": [
        "# Testing a different policy\n",
        "\n",
        "def custom_policy(state):\n",
        "    n1,n2,t1,t2 = state\n",
        "    if n1 + n2 == 0:\n",
        "        return '00'\n",
        "    if n1 > n2:\n",
        "        return '10'\n",
        "    return '01'\n",
        "\n",
        "V_p = generate_trajectory(policy=custom_policy, steps= 1000)\n",
        "print(V_p)"
      ]
    },
    {
      "cell_type": "markdown",
      "metadata": {
        "id": "ZJ_C75t0YLvp"
      },
      "source": [
        "#### get linear function approximator"
      ]
    },
    {
      "cell_type": "code",
      "execution_count": 7,
      "metadata": {
        "id": "6yH02qxR-XWO"
      },
      "outputs": [],
      "source": [
        "### FITTED VALUE ITERATION\n",
        "# model is our value function approximator\n",
        "def get_linear_function_approximator(w_i=1):\n",
        "\n",
        "    inputs = tf.keras.Input(shape=(4,))\n",
        "    outputs = tf.keras.layers.Dense(1, kernel_initializer=tf.zeros_initializer())(inputs) if w_i == 0 else tf.keras.layers.Dense(1)(inputs)\n",
        "    V = tf.keras.Model(inputs=inputs, outputs=outputs)\n",
        "    V.compile(optimizer='adam', loss='mean_squared_error')\n",
        "\n",
        "    return V"
      ]
    },
    {
      "cell_type": "markdown",
      "source": [
        "#### sample random state"
      ],
      "metadata": {
        "id": "rJ1LYz-Zi_4M"
      }
    },
    {
      "cell_type": "code",
      "execution_count": 22,
      "metadata": {
        "id": "5dZa6c6W-bW1"
      },
      "outputs": [],
      "source": [
        "def sample_random_state(n=1,t1_upper_bound = 100, t2_upper_bound=100):\n",
        "    return np.random.randint([0,0,0,0], [C+1,C+1,t1_upper_bound, t2_upper_bound], (n,4))"
      ]
    },
    {
      "cell_type": "code",
      "execution_count": 9,
      "metadata": {
        "colab": {
          "base_uri": "https://localhost:8080/"
        },
        "id": "-lzW8GT8-clk",
        "outputId": "ee032ace-d8c2-452e-ad67-afe270982acc"
      },
      "outputs": [
        {
          "output_type": "stream",
          "name": "stdout",
          "text": [
            "[[0.]]\n"
          ]
        }
      ],
      "source": [
        "V = get_linear_function_approximator(w_i=0)\n",
        "\n",
        "state = sample_random_state()\n",
        "V_state_ = V.predict([state], verbose=0)\n",
        "\n",
        "print(V_state_)"
      ]
    },
    {
      "cell_type": "code",
      "source": [
        "def plot_collected_losses(history, val=True):\n",
        "    loss_collected = []\n",
        "    val_loss_collected = []\n",
        "    for hist in history:\n",
        "        loss_collected.extend(hist.history['loss'])\n",
        "        if val:\n",
        "          val_loss_collected.extend(hist.history['val_loss'])\n",
        "    if val:\n",
        "      plt.plot(loss_collected, label='loss')\n",
        "    plt.plot(val_loss_collected, label='val_loss')\n",
        "    # plt.ylim([0, 10])\n",
        "    plt.xlabel('Epoch')\n",
        "    plt.ylabel('Error [MPG]')\n",
        "    plt.legend()\n",
        "    plt.grid(True)"
      ],
      "metadata": {
        "id": "5aiQnC0LCHop"
      },
      "execution_count": 10,
      "outputs": []
    },
    {
      "cell_type": "markdown",
      "source": [
        "# Plot Loss"
      ],
      "metadata": {
        "id": "_gzFWgCwZ5yk"
      }
    },
    {
      "cell_type": "code",
      "source": [
        "def plot_loss(history):\n",
        "  plt.plot(history.history['loss'], label='loss')\n",
        "  plt.plot(history.history['val_loss'], label='val_loss')\n",
        "  # plt.ylim([0, 10])\n",
        "  plt.xlabel('Epoch')\n",
        "  plt.ylabel('Error [MPG]')\n",
        "  plt.legend()\n",
        "  plt.grid(True)"
      ],
      "metadata": {
        "id": "3C6Jt3KNZ5HN"
      },
      "execution_count": 11,
      "outputs": []
    },
    {
      "cell_type": "markdown",
      "metadata": {
        "id": "sFBp0puSOQ7a"
      },
      "source": [
        "# Fitted Value Iteration"
      ]
    },
    {
      "cell_type": "code",
      "execution_count": 12,
      "metadata": {
        "id": "TxKU33kW-dfT"
      },
      "outputs": [],
      "source": [
        "# Fitted Value Iteration\n",
        "def fitted_value_iteration(V,iterations = 10,n = 50, k = 10, discount = 0.03, **kwargs):\n",
        "    \"\"\"\n",
        "        n : number of initial random states,\n",
        "        k : number of states to sample for each state\n",
        "        V : Function approximator to train, 4d -> 1 mapping approximator.\n",
        "\n",
        "    \"\"\"\n",
        "\n",
        "    n_random_states= sample_random_state(n=n)\n",
        "    history = []\n",
        "    for _ in range(iterations):\n",
        "        X , y= [], []\n",
        "        for state in n_random_states:\n",
        "\n",
        "            yi = np.full(3, -np.inf)\n",
        "            for i,action in enumerate(ACTIONS):\n",
        "                sj, R = zip(*[sample_next_state(state,action) for _ in range(k)])\n",
        "\n",
        "                V_pred = V.predict(np.array(sj),verbose=0).squeeze()\n",
        "\n",
        "                q_a = np.mean(R + discount*V_pred)\n",
        "                yi[i] = q_a\n",
        "\n",
        "            X.append(state)\n",
        "            y.append(np.max(yi))\n",
        "\n",
        "        X = np.array(X)\n",
        "        y = np.array(y)\n",
        "\n",
        "        hist = V.fit(X,y, **kwargs)\n",
        "        history.append(hist)\n",
        "    return history\n"
      ]
    },
    {
      "cell_type": "markdown",
      "metadata": {
        "id": "EpYhF2Yb5-x8"
      },
      "source": [
        "## Fitted Value iteration with gradient update approach (instead of model.fit)"
      ]
    },
    {
      "cell_type": "code",
      "execution_count": 13,
      "metadata": {
        "id": "yNYAslOP7boa"
      },
      "outputs": [],
      "source": [
        "# Fitted Value Iteration\n",
        "\n",
        "def fitted_value_iteration_updated(V,iterations = 10,n = 50, k = 10, discount = 0.03,epsilon=1e-6, batch_size=5, epochs = 10,optimizer=None,loss_function=None):\n",
        "    \"\"\"\n",
        "        n : number of initial random states,\n",
        "        k : number of states to sample for each state\n",
        "        V : Function approximator to train, 4d -> 1 mapping approximator.\n",
        "\n",
        "    \"\"\"\n",
        "    optimizer = tf.keras.optimizers.Adam()\n",
        "    loss_function = tf.keras.losses.MeanSquaredError()\n",
        "\n",
        "    n_random_states= [sample_random_state() for _ in range(n)]\n",
        "    history = []\n",
        "    for _ in range(iterations):\n",
        "        X , y= [], []\n",
        "        for state in n_random_states:\n",
        "\n",
        "            yi = np.full(3, -np.inf)\n",
        "            for i,action in enumerate(ACTIONS):\n",
        "                sj, R = zip(*[sample_next_state(state,action) for _ in range(k)])\n",
        "\n",
        "                V_pred = V.predict(np.array(sj),verbose=0).squeeze()\n",
        "\n",
        "                q_a = np.mean(R + discount*V_pred)\n",
        "                yi[i] = q_a\n",
        "\n",
        "            if abs(np.max(yi)) > 1000:\n",
        "              print(\"max  exploded: \", state)\n",
        "              return\n",
        "            X.append(state)\n",
        "            y.append(np.max(yi))\n",
        "\n",
        "        X = tf.data.Dataset.from_tensor_slices(X)\n",
        "        y = tf.data.Dataset.from_tensor_slices(y)\n",
        "\n",
        "        dataset = tf.data.Dataset.zip((X,y)).batch(batch_size=batch_size)\n",
        "        for _ in range(epochs):\n",
        "          # losses = np.full(n//batch_size,0, dtype=np.float32)\n",
        "          epoch_loss = 0\n",
        "          i = 0\n",
        "          for X_batch, y_batch in dataset:\n",
        "            with tf.GradientTape() as tape:\n",
        "              V_pred = V(X_batch)\n",
        "              # loss = tf.reduce_mean(tf.square(V_pred - y))\n",
        "              loss = loss_function(V_pred, y_batch)\n",
        "              epoch_loss += loss\n",
        "              i += 1\n",
        "              # print(\"Prediction: \", V_pred.numpy().squeeze())\n",
        "              print(\"-\", end=\"\")\n",
        "              # if loss.numpy() > 1000:\n",
        "              #   print(\"Y : \",y_batch, \"\\n Prediction: \",V_pred)\n",
        "              #   return\n",
        "              gradients = tape.gradient(loss, V.trainable_variables)\n",
        "              # print(\"gradients\",gradients)\n",
        "            optimizer.apply_gradients(zip(gradients, V.trainable_variables))\n",
        "            # print(\"WEGHTS: \", [weight.numpy().squeeze() for weight in V.weights])\n",
        "          history.append(epoch_loss)\n",
        "          print(f\": loss {epoch_loss}\")\n",
        "        print()\n",
        "\n",
        "        if loss < epsilon:\n",
        "          break\n",
        "    return history\n"
      ]
    },
    {
      "cell_type": "markdown",
      "metadata": {
        "id": "hQmyWyGtYDCs"
      },
      "source": [
        "## Training linear model"
      ]
    },
    {
      "cell_type": "code",
      "execution_count": null,
      "metadata": {
        "id": "6do9pWpmtI1i",
        "colab": {
          "base_uri": "https://localhost:8080/"
        },
        "outputId": "00313964-a339-41bd-cfa8-59ce1bdb5586"
      },
      "outputs": [
        {
          "output_type": "stream",
          "name": "stdout",
          "text": [
            "40/40 [==============================] - 2s 3ms/step - loss: 2251.2832\n",
            "40/40 [==============================] - 0s 2ms/step - loss: 1925.3136\n",
            "40/40 [==============================] - 0s 3ms/step - loss: 1650.0950\n",
            "40/40 [==============================] - 0s 3ms/step - loss: 1422.6296\n",
            "40/40 [==============================] - 0s 2ms/step - loss: 1238.3492\n",
            "40/40 [==============================] - 0s 2ms/step - loss: 1089.9481\n",
            "40/40 [==============================] - 0s 3ms/step - loss: 972.0403\n",
            "40/40 [==============================] - 0s 2ms/step - loss: 881.6593\n"
          ]
        }
      ],
      "source": [
        "V = get_linear_function_approximator(w_i=0)\n",
        "\n",
        "history1 = fitted_value_iteration(V,iterations=10, n=1000, batch_size = 25, discount= 0.0001)"
      ]
    },
    {
      "cell_type": "code",
      "source": [
        "plot_collected_losses(history1, val=False)"
      ],
      "metadata": {
        "id": "tD5KQNhhCJnC"
      },
      "execution_count": null,
      "outputs": []
    },
    {
      "cell_type": "code",
      "source": [
        "history1[0]"
      ],
      "metadata": {
        "colab": {
          "base_uri": "https://localhost:8080/"
        },
        "id": "YDfye1j_CxoL",
        "outputId": "faec6060-b832-403e-eef0-86ac6dee862e"
      },
      "execution_count": null,
      "outputs": [
        {
          "output_type": "execute_result",
          "data": {
            "text/plain": [
              "<keras.src.callbacks.History at 0x7a5caa06d690>"
            ]
          },
          "metadata": {},
          "execution_count": 34
        }
      ]
    },
    {
      "cell_type": "code",
      "execution_count": null,
      "metadata": {
        "id": "47g4UiJj-h0P"
      },
      "outputs": [],
      "source": [
        "inputs = tf.keras.Input(shape=(4,))\n",
        "# outputs = tf.keras.layers.Dense(1)(inputs)\n",
        "outputs = tf.keras.layers.Dense(1, kernel_initializer=tf.zeros_initializer())(inputs)\n",
        "V = tf.keras.Model(inputs=inputs, outputs=outputs)\n",
        "# V.summary()"
      ]
    },
    {
      "cell_type": "code",
      "execution_count": null,
      "metadata": {
        "id": "Y97_VU9gCHSP"
      },
      "outputs": [],
      "source": [
        "history2 = fitted_value_iteration_updated(V,iterations=5, n=10, batch_size=2, discount = 0.001)"
      ]
    },
    {
      "cell_type": "code",
      "execution_count": null,
      "metadata": {
        "colab": {
          "base_uri": "https://localhost:8080/"
        },
        "id": "_6vkF_4ssQ7d",
        "outputId": "407b260a-619e-4ebe-b58c-328e35b95ed4"
      },
      "outputs": [
        {
          "data": {
            "text/plain": [
              "array([3978.    , 1793.2145, 2322.3315, 3071.0264, 4702.1147],\n",
              "      dtype=float32)"
            ]
          },
          "execution_count": 26,
          "metadata": {},
          "output_type": "execute_result"
        }
      ],
      "source": [
        "history[0]"
      ]
    },
    {
      "cell_type": "code",
      "execution_count": null,
      "metadata": {
        "id": "kF_ejqXOfITa"
      },
      "outputs": [],
      "source": [
        "history = np.array(history)"
      ]
    },
    {
      "cell_type": "code",
      "execution_count": null,
      "metadata": {
        "colab": {
          "base_uri": "https://localhost:8080/"
        },
        "id": "AIpPYy0EfL_M",
        "outputId": "f588546b-5744-4db1-9186-ff4b09e442a3"
      },
      "outputs": [
        {
          "data": {
            "text/plain": [
              "(50, 5)"
            ]
          },
          "execution_count": 28,
          "metadata": {},
          "output_type": "execute_result"
        }
      ],
      "source": [
        "history.shape"
      ]
    },
    {
      "cell_type": "code",
      "execution_count": null,
      "metadata": {
        "id": "D3UYl-svdZym"
      },
      "outputs": [],
      "source": [
        "def plot_loss_updated(history, flat=True):\n",
        "  if flat:\n",
        "    flat_data = np.array(history).flatten()\n",
        "    plt.plot(flat_data)\n",
        "  else:\n",
        "    means = np.mean(history,axis=1)\n",
        "    plt.plot(means)"
      ]
    },
    {
      "cell_type": "code",
      "execution_count": null,
      "metadata": {
        "id": "naYPtFOcgNTq"
      },
      "outputs": [],
      "source": [
        "plot_loss(history)"
      ]
    },
    {
      "cell_type": "code",
      "execution_count": null,
      "metadata": {
        "id": "mAQKXwrxgRl4"
      },
      "outputs": [],
      "source": [
        "plot_loss(history, flat=False)"
      ]
    },
    {
      "cell_type": "code",
      "execution_count": null,
      "metadata": {
        "colab": {
          "base_uri": "https://localhost:8080/"
        },
        "id": "UHjtkQ72W6vv",
        "outputId": "e332b4fc-5984-438b-f703-0f293666b650"
      },
      "outputs": [
        {
          "data": {
            "text/plain": [
              "50"
            ]
          },
          "execution_count": 61,
          "metadata": {},
          "output_type": "execute_result"
        }
      ],
      "source": [
        "len(history)"
      ]
    },
    {
      "cell_type": "markdown",
      "source": [],
      "metadata": {
        "id": "1nGij4Vi6BEP"
      }
    },
    {
      "cell_type": "code",
      "execution_count": null,
      "metadata": {
        "colab": {
          "base_uri": "https://localhost:8080/"
        },
        "id": "P60bNGaLk872",
        "outputId": "d3029c04-8b35-4558-cb7f-4c974486bb80"
      },
      "outputs": [
        {
          "name": "stdout",
          "output_type": "stream",
          "text": [
            "-0.5012809427952158\n",
            "1/1 [==============================] - 0s 45ms/step\n",
            "[[-1.7724028]]\n"
          ]
        }
      ],
      "source": [
        "state = (0,0,5,3)\n",
        "V_pis = np.mean([generate_trajectory(policy=custom_policy, steps=1000, initial_state=state) for _ in range(10)])\n",
        "print(V_pis)\n",
        "print(V.predict([state]))"
      ]
    },
    {
      "cell_type": "code",
      "execution_count": null,
      "metadata": {
        "colab": {
          "base_uri": "https://localhost:8080/"
        },
        "id": "DhUu8VLMtMzS",
        "outputId": "6c82571b-21ce-4fd1-92d1-b6f97e4dab69"
      },
      "outputs": [
        {
          "name": "stdout",
          "output_type": "stream",
          "text": [
            "00\n"
          ]
        }
      ],
      "source": [
        "state = (0,0,5,3)   # it is clear that the optimal action here is '00'\n",
        "Q_V_pred = get_optimal_action(state = state, V=V)\n",
        "print(Q_V_pred)"
      ]
    },
    {
      "cell_type": "code",
      "execution_count": null,
      "metadata": {
        "colab": {
          "base_uri": "https://localhost:8080/"
        },
        "id": "dYcySex9iaQ6",
        "outputId": "1b56f9e1-5c93-45ee-9fe3-b82a15ce96b7"
      },
      "outputs": [
        {
          "name": "stdout",
          "output_type": "stream",
          "text": [
            "10\n"
          ]
        }
      ],
      "source": [
        "state = (3,2,5,3)   # it is clear that the optimal action here is '00'\n",
        "Q_V_pred = get_optimal_action(state = state, V=V)\n",
        "print(Q_V_pred)"
      ]
    },
    {
      "cell_type": "code",
      "execution_count": null,
      "metadata": {
        "id": "2ugcE2mziuPB"
      },
      "outputs": [],
      "source": [
        "next_state,reward=sample_next_state(state,\"10\")"
      ]
    },
    {
      "cell_type": "code",
      "execution_count": null,
      "metadata": {
        "colab": {
          "base_uri": "https://localhost:8080/"
        },
        "id": "c951ui6Di6PV",
        "outputId": "fb76fe38-f176-4165-c915-7cc4aa89a749"
      },
      "outputs": [
        {
          "data": {
            "text/plain": [
              "((2, 2, 41, 19), -36)"
            ]
          },
          "execution_count": 42,
          "metadata": {},
          "output_type": "execute_result"
        }
      ],
      "source": [
        "next_state,reward"
      ]
    },
    {
      "cell_type": "code",
      "execution_count": null,
      "metadata": {
        "colab": {
          "base_uri": "https://localhost:8080/"
        },
        "id": "hvUBUXusjDjQ",
        "outputId": "c909e31b-295f-4ad9-dddc-f445a4897007"
      },
      "outputs": [
        {
          "data": {
            "text/plain": [
              "((3, 1, 153, 69), -70)"
            ]
          },
          "execution_count": 45,
          "metadata": {},
          "output_type": "execute_result"
        }
      ],
      "source": [
        "next_state,reward=sample_next_state(state,\"01\")\n",
        "next_state,reward"
      ]
    },
    {
      "cell_type": "code",
      "execution_count": null,
      "metadata": {
        "colab": {
          "base_uri": "https://localhost:8080/"
        },
        "id": "xpCTUfFBjYwm",
        "outputId": "91e3b899-82d1-4aab-e7cc-3461a97e916f"
      },
      "outputs": [
        {
          "data": {
            "text/plain": [
              "<tf.Tensor: shape=(1, 1), dtype=float32, numpy=array([[-2.8292909]], dtype=float32)>"
            ]
          },
          "execution_count": 59,
          "metadata": {},
          "output_type": "execute_result"
        }
      ],
      "source": [
        "V(np.expand_dims(np.array(state),axis=0))"
      ]
    },
    {
      "cell_type": "code",
      "execution_count": null,
      "metadata": {
        "id": "fkgThNnNwqzb"
      },
      "outputs": [],
      "source": [
        "V_s = generate_trajectory(V,is_approximator=True, steps=1)"
      ]
    },
    {
      "cell_type": "code",
      "execution_count": null,
      "metadata": {
        "colab": {
          "base_uri": "https://localhost:8080/"
        },
        "id": "FrCO8xwQw3Ag",
        "outputId": "264ea63a-d250-49dc-d52e-9007dfd06e41"
      },
      "outputs": [
        {
          "data": {
            "text/plain": [
              "0.0"
            ]
          },
          "execution_count": 38,
          "metadata": {},
          "output_type": "execute_result"
        }
      ],
      "source": [
        "V_s"
      ]
    },
    {
      "cell_type": "markdown",
      "metadata": {
        "id": "u8DH9everME9"
      },
      "source": [
        "### testing trajectories"
      ]
    },
    {
      "cell_type": "code",
      "execution_count": null,
      "metadata": {
        "colab": {
          "base_uri": "https://localhost:8080/"
        },
        "id": "ORDaaOJrxKVV",
        "outputId": "33c9d85b-273c-42c3-c00f-5b5998b578b8"
      },
      "outputs": [
        {
          "name": "stdout",
          "output_type": "stream",
          "text": [
            "V uniform action policy:  -344409.7306835926\n",
            "V custom policy:  -37.84720650539768\n",
            "V_ approximator:  -36.963331138257075\n"
          ]
        }
      ],
      "source": [
        "# Compare custom policy and V approximator in trajectories\n",
        "initial_state = (3,2,5,3)\n",
        "\n",
        "V_uniform_action_policy = np.mean([ generate_trajectory(policy=uniform_action_policy, initial_state=initial_state)for _ in range(50)])\n",
        "V_custom_policy = np.mean([ generate_trajectory(policy=custom_policy, initial_state=initial_state)for _ in range(50)])\n",
        "\n",
        "V_approximator = np.mean([ generate_trajectory(policy=V, initial_state=initial_state, is_approximator=True) for _ in range(10)])\n",
        "\n",
        "print(\"V uniform action policy: \", V_uniform_action_policy)\n",
        "print(\"V custom policy: \", V_custom_policy)\n",
        "print(\"V_ approximator: \" , V_approximator)"
      ]
    },
    {
      "cell_type": "code",
      "execution_count": null,
      "metadata": {
        "id": "0U9WfMMlpJlg"
      },
      "outputs": [],
      "source": [
        "import concurrent.futures\n",
        "\n",
        "def generate_trajectory_parallel(policy, is_approximator=False, initial_state=(0,0,5,3), discount=0.03, steps=100, num_trajectories=10, num_threads=None):\n",
        "    def generate_trajectory(step):\n",
        "        state = initial_state\n",
        "        V_pi = 0\n",
        "        for _ in range(step):\n",
        "            if is_approximator:\n",
        "                action = get_optimal_action(state, policy)\n",
        "            else:\n",
        "                action = policy(state)\n",
        "            next_state, reward = sample_next_state(state, action)\n",
        "            V_pi += reward * (discount ** _)\n",
        "            state = next_state\n",
        "        return V_pi\n",
        "\n",
        "    with concurrent.futures.ThreadPoolExecutor(max_workers=num_threads) as executor:\n",
        "        # Generate multiple trajectories concurrently\n",
        "        futures = [executor.submit(generate_trajectory, steps) for _ in range(num_trajectories)]\n",
        "\n",
        "        # Retrieve results from the futures\n",
        "        results = [future.result() for future in concurrent.futures.as_completed(futures)]\n",
        "\n",
        "    return results\n"
      ]
    },
    {
      "cell_type": "code",
      "execution_count": null,
      "metadata": {
        "colab": {
          "base_uri": "https://localhost:8080/"
        },
        "id": "k1q4BF_trkXp",
        "outputId": "f0016078-94e7-435c-ef36-b54fe52ed7f3"
      },
      "outputs": [
        {
          "name": "stdout",
          "output_type": "stream",
          "text": [
            "time taken for 10 trajectories: 273.78636479377747\n"
          ]
        }
      ],
      "source": [
        "import time\n",
        "\n",
        "start = time.time()\n",
        "V_approximator = np.mean([ generate_trajectory(policy=V, initial_state=initial_state, is_approximator=True) for _ in range(10)])\n",
        "end = time.time()\n",
        "\n",
        "print(f\"time taken for 10 trajectories: {end-start}\")"
      ]
    },
    {
      "cell_type": "code",
      "execution_count": null,
      "metadata": {
        "colab": {
          "base_uri": "https://localhost:8080/"
        },
        "id": "hMxKmQTdp2sB",
        "outputId": "b33406d0-78ef-41c2-df84-bb8da18c6e98"
      },
      "outputs": [
        {
          "name": "stdout",
          "output_type": "stream",
          "text": [
            "time taken for 10 trajectories in parallel : 242.3895583152771 seconds.\n"
          ]
        }
      ],
      "source": [
        "start = time.time()\n",
        "results = generate_trajectory_parallel(policy=V, initial_state=initial_state, is_approximator=True)\n",
        "end = time.time()\n",
        "print(f\"time taken for 10 trajectories in parallel : {end-start} seconds.\")"
      ]
    },
    {
      "cell_type": "code",
      "execution_count": null,
      "metadata": {
        "colab": {
          "base_uri": "https://localhost:8080/"
        },
        "id": "btvZrcEfuG1b",
        "outputId": "276d410c-4ec5-4ed7-d476-70ffb8793f4c"
      },
      "outputs": [
        {
          "name": "stderr",
          "output_type": "stream",
          "text": [
            "/usr/local/lib/python3.10/dist-packages/joblib/externals/loky/backend/fork_exec.py:38: RuntimeWarning: os.fork() was called. os.fork() is incompatible with multithreaded code, and JAX is multithreaded, so this will likely lead to a deadlock.\n",
            "  pid = os.fork()\n",
            "/usr/local/lib/python3.10/dist-packages/keras/src/initializers/__init__.py:144: UserWarning: The `keras.initializers.serialize()` API should only be used for objects of type `keras.initializers.Initializer`. Found an instance of type <class 'tensorflow.python.ops.init_ops_v2.Zeros'>, which may lead to improper serialization.\n",
            "  warnings.warn(\n"
          ]
        },
        {
          "data": {
            "text/plain": [
              "[-37.11340177209193,\n",
              " -36.044536082474224,\n",
              " -37.113377912164694,\n",
              " -37.11339396185567,\n",
              " -37.113402061855425,\n",
              " -37.112597072164945,\n",
              " -37.11340204449494,\n",
              " -37.113377735611664,\n",
              " -37.113402061855666,\n",
              " -37.11340206185508]"
            ]
          },
          "execution_count": 67,
          "metadata": {},
          "output_type": "execute_result"
        }
      ],
      "source": [
        "from joblib import Parallel, delayed\n",
        "Parallel(n_jobs=2)(delayed(generate_trajectory)(V,True,initial_state) for _ in range(10))"
      ]
    },
    {
      "cell_type": "code",
      "execution_count": null,
      "metadata": {
        "colab": {
          "base_uri": "https://localhost:8080/"
        },
        "id": "TZbsKJkTzd_B",
        "outputId": "1f2d4bab-53c6-4e25-90e6-234cda949549"
      },
      "outputs": [
        {
          "name": "stderr",
          "output_type": "stream",
          "text": [
            "/usr/local/lib/python3.10/dist-packages/keras/src/initializers/__init__.py:144: UserWarning: The `keras.initializers.serialize()` API should only be used for objects of type `keras.initializers.Initializer`. Found an instance of type <class 'tensorflow.python.ops.init_ops_v2.Zeros'>, which may lead to improper serialization.\n",
            "  warnings.warn(\n"
          ]
        },
        {
          "name": "stdout",
          "output_type": "stream",
          "text": [
            "time with 2 jobs: 187.56\n"
          ]
        }
      ],
      "source": [
        "start = time.time()\n",
        "result = Parallel(n_jobs=2)(delayed(generate_trajectory)(V,True,initial_state) for _ in range(10))\n",
        "end = time.time()\n",
        "\n",
        "print(f\"time with 2 jobs: {round(end-start,2)}\")"
      ]
    },
    {
      "cell_type": "code",
      "execution_count": null,
      "metadata": {
        "colab": {
          "base_uri": "https://localhost:8080/"
        },
        "id": "qc0L7pXX0dmf",
        "outputId": "f6fc0863-e5f4-4dca-c28c-26f34b747aac"
      },
      "outputs": [
        {
          "name": "stderr",
          "output_type": "stream",
          "text": [
            "/usr/local/lib/python3.10/dist-packages/joblib/externals/loky/backend/fork_exec.py:38: RuntimeWarning: os.fork() was called. os.fork() is incompatible with multithreaded code, and JAX is multithreaded, so this will likely lead to a deadlock.\n",
            "  pid = os.fork()\n"
          ]
        },
        {
          "name": "stdout",
          "output_type": "stream",
          "text": [
            "time with 2 jobs: 195.55\n"
          ]
        }
      ],
      "source": [
        "start = time.time()\n",
        "result = Parallel(n_jobs=4)(delayed(generate_trajectory)(V,True,initial_state) for _ in range(10))\n",
        "end = time.time()\n",
        "\n",
        "print(f\"time with 2 jobs: {round(end-start,2)}\")"
      ]
    },
    {
      "cell_type": "markdown",
      "metadata": {
        "id": "oa8acs3Wf_2Z"
      },
      "source": [
        "## Non linear model"
      ]
    },
    {
      "cell_type": "code",
      "execution_count": null,
      "metadata": {
        "id": "KgXC_643C14Z"
      },
      "outputs": [],
      "source": []
    },
    {
      "cell_type": "code",
      "execution_count": null,
      "metadata": {
        "id": "TKTm9u4L-_2u"
      },
      "outputs": [],
      "source": [
        "# V_non_linear = tf.keras.Sequential([\n",
        "#     # normalizer,\n",
        "#     tf.keras.layers.Dense(units=1, input_shape=(4,)),\n",
        "#     tf.keras.layers.Dense(units=64, activation='relu'),\n",
        "#     tf.keras.layers.Dense(units=32, activation='relu'),\n",
        "#     tf.keras.layers.Dense(units=16, activation='relu'),\n",
        "#     tf.keras.layers.Dense(units=1),\n",
        "# ])\n",
        "\n",
        "V_non_linear = tf.keras.Sequential([\n",
        "    Dense(64, activation='relu', input_shape=(4,), kernel_regularizer=l2(0.001)),  # L2 regularization\n",
        "    Dropout(0.3),  # Dropout regularization\n",
        "    Dense(32, activation='relu', kernel_regularizer=l1(0.001)),  # L1 regularization\n",
        "    Dropout(0.2),\n",
        "    Dense(1)\n",
        "])\n",
        "V_non_linear.compile(optimizer='adam', loss='mean_squared_error')\n",
        "\n",
        "early_stopping = EarlyStopping(monitor='val_loss', patience=10, restore_best_weights=True)\n",
        "# Train the model"
      ]
    },
    {
      "cell_type": "code",
      "execution_count": null,
      "metadata": {
        "colab": {
          "base_uri": "https://localhost:8080/"
        },
        "id": "Ny6T3KW8_Puo",
        "outputId": "8505fa74-7be8-4311-eabc-df56a3f554dc"
      },
      "outputs": [
        {
          "name": "stdout",
          "output_type": "stream",
          "text": [
            "Epoch 1/10\n",
            "32/32 [==============================] - 0s 7ms/step - loss: 150.1653 - val_loss: 42.4539\n",
            "Epoch 2/10\n",
            "32/32 [==============================] - 0s 6ms/step - loss: 144.0616 - val_loss: 37.7791\n",
            "Epoch 3/10\n",
            "32/32 [==============================] - 0s 5ms/step - loss: 138.4942 - val_loss: 39.0560\n",
            "Epoch 4/10\n",
            "32/32 [==============================] - 0s 5ms/step - loss: 127.0576 - val_loss: 43.0380\n",
            "Epoch 5/10\n",
            "32/32 [==============================] - 0s 5ms/step - loss: 124.8292 - val_loss: 36.3687\n",
            "Epoch 6/10\n",
            "32/32 [==============================] - 0s 5ms/step - loss: 129.2650 - val_loss: 35.6618\n",
            "Epoch 7/10\n",
            "32/32 [==============================] - 0s 5ms/step - loss: 135.6312 - val_loss: 38.2503\n",
            "Epoch 8/10\n",
            "32/32 [==============================] - 0s 5ms/step - loss: 117.7752 - val_loss: 37.8673\n",
            "Epoch 9/10\n",
            "32/32 [==============================] - 0s 5ms/step - loss: 120.5067 - val_loss: 36.8213\n",
            "Epoch 10/10\n",
            "32/32 [==============================] - 0s 4ms/step - loss: 114.0341 - val_loss: 34.6801\n",
            "Epoch 1/10\n",
            "32/32 [==============================] - 0s 5ms/step - loss: 132.5168 - val_loss: 37.7915\n",
            "Epoch 2/10\n",
            "32/32 [==============================] - 0s 4ms/step - loss: 128.0944 - val_loss: 31.0148\n",
            "Epoch 3/10\n",
            "32/32 [==============================] - 0s 4ms/step - loss: 122.4421 - val_loss: 30.8908\n",
            "Epoch 4/10\n",
            "32/32 [==============================] - 0s 3ms/step - loss: 119.0963 - val_loss: 45.7826\n",
            "Epoch 5/10\n",
            "32/32 [==============================] - 0s 3ms/step - loss: 129.9346 - val_loss: 38.0738\n",
            "Epoch 6/10\n",
            "32/32 [==============================] - 0s 4ms/step - loss: 127.4783 - val_loss: 40.3358\n",
            "Epoch 7/10\n",
            "32/32 [==============================] - 0s 4ms/step - loss: 114.7742 - val_loss: 30.8963\n",
            "Epoch 8/10\n",
            "32/32 [==============================] - 0s 4ms/step - loss: 120.4972 - val_loss: 37.2046\n",
            "Epoch 9/10\n",
            "32/32 [==============================] - 0s 4ms/step - loss: 113.9535 - val_loss: 32.7374\n",
            "Epoch 10/10\n",
            "32/32 [==============================] - 0s 4ms/step - loss: 122.0730 - val_loss: 29.3492\n",
            "Epoch 1/10\n",
            "32/32 [==============================] - 0s 5ms/step - loss: 112.4457 - val_loss: 33.8887\n",
            "Epoch 2/10\n",
            "32/32 [==============================] - 0s 3ms/step - loss: 131.3560 - val_loss: 35.9151\n",
            "Epoch 3/10\n",
            "32/32 [==============================] - 0s 5ms/step - loss: 121.2736 - val_loss: 31.5082\n",
            "Epoch 4/10\n",
            "32/32 [==============================] - 0s 4ms/step - loss: 130.7885 - val_loss: 39.1413\n",
            "Epoch 5/10\n",
            "32/32 [==============================] - 0s 4ms/step - loss: 117.9195 - val_loss: 29.8476\n",
            "Epoch 6/10\n",
            "32/32 [==============================] - 0s 4ms/step - loss: 110.4456 - val_loss: 28.1990\n",
            "Epoch 7/10\n",
            "32/32 [==============================] - 0s 4ms/step - loss: 121.8084 - val_loss: 32.3808\n",
            "Epoch 8/10\n",
            "32/32 [==============================] - 0s 4ms/step - loss: 130.4271 - val_loss: 33.1844\n",
            "Epoch 9/10\n",
            "32/32 [==============================] - 0s 4ms/step - loss: 117.3742 - val_loss: 27.2146\n",
            "Epoch 10/10\n",
            "32/32 [==============================] - 0s 4ms/step - loss: 109.4338 - val_loss: 27.9690\n",
            "Epoch 1/10\n",
            "32/32 [==============================] - 0s 5ms/step - loss: 105.8708 - val_loss: 25.6153\n",
            "Epoch 2/10\n",
            "32/32 [==============================] - 0s 4ms/step - loss: 103.3661 - val_loss: 28.7591\n",
            "Epoch 3/10\n",
            "32/32 [==============================] - 0s 4ms/step - loss: 106.9927 - val_loss: 25.6102\n",
            "Epoch 4/10\n",
            "32/32 [==============================] - 0s 4ms/step - loss: 95.2796 - val_loss: 28.0047\n",
            "Epoch 5/10\n",
            "32/32 [==============================] - 0s 4ms/step - loss: 107.9060 - val_loss: 25.4757\n",
            "Epoch 6/10\n",
            "32/32 [==============================] - 0s 4ms/step - loss: 114.9164 - val_loss: 27.8833\n",
            "Epoch 7/10\n",
            "32/32 [==============================] - 0s 4ms/step - loss: 106.1643 - val_loss: 24.8808\n",
            "Epoch 8/10\n",
            "32/32 [==============================] - 0s 4ms/step - loss: 106.1142 - val_loss: 28.0913\n",
            "Epoch 9/10\n",
            "32/32 [==============================] - 0s 4ms/step - loss: 95.8363 - val_loss: 25.9659\n",
            "Epoch 10/10\n",
            "32/32 [==============================] - 0s 4ms/step - loss: 105.5483 - val_loss: 25.4381\n",
            "Epoch 1/10\n",
            "32/32 [==============================] - 0s 5ms/step - loss: 106.4918 - val_loss: 23.4342\n",
            "Epoch 2/10\n",
            "32/32 [==============================] - 0s 3ms/step - loss: 102.8834 - val_loss: 24.4209\n",
            "Epoch 3/10\n",
            "32/32 [==============================] - 0s 4ms/step - loss: 102.7138 - val_loss: 30.2220\n",
            "Epoch 4/10\n",
            "32/32 [==============================] - 0s 4ms/step - loss: 115.9939 - val_loss: 23.8250\n",
            "Epoch 5/10\n",
            "32/32 [==============================] - 0s 3ms/step - loss: 108.6465 - val_loss: 24.2969\n",
            "Epoch 6/10\n",
            "32/32 [==============================] - 0s 4ms/step - loss: 109.4158 - val_loss: 23.2586\n",
            "Epoch 7/10\n",
            "32/32 [==============================] - 0s 3ms/step - loss: 106.3483 - val_loss: 23.3589\n",
            "Epoch 8/10\n",
            "32/32 [==============================] - 0s 4ms/step - loss: 102.4722 - val_loss: 21.4085\n",
            "Epoch 9/10\n",
            "32/32 [==============================] - 0s 4ms/step - loss: 105.3476 - val_loss: 27.5109\n",
            "Epoch 10/10\n",
            "32/32 [==============================] - 0s 4ms/step - loss: 104.7545 - val_loss: 23.3605\n"
          ]
        }
      ],
      "source": [
        "history = fitted_value_iteration(V_non_linear, iterations=5,n=1000,epochs=10, callbacks=[early_stopping], batch_size=25,validation_split=0.2)"
      ]
    },
    {
      "cell_type": "code",
      "execution_count": null,
      "metadata": {
        "id": "9b0vMQbcBoek"
      },
      "outputs": [],
      "source": [
        "import matplotlib.pyplot as plt\n",
        "\n",
        "def plot_training_and_validation_losses(history_list):\n",
        "    \"\"\"\n",
        "    Plot training and validation losses from a list of history objects returned from model.fit in TensorFlow.\n",
        "\n",
        "    Args:\n",
        "    - history_list: A list of history objects returned from model.fit in TensorFlow.\n",
        "\n",
        "    Returns:\n",
        "    - None\n",
        "    \"\"\"\n",
        "\n",
        "    # Initialize lists to store cumulative training and validation losses\n",
        "    cumulative_train_losses = []\n",
        "    cumulative_val_losses = []\n",
        "\n",
        "    # Iterate through each history object\n",
        "    for history in history_list:\n",
        "        # Extract the loss values for each epoch\n",
        "        epoch_losses = history.history['loss']\n",
        "        epoch_val_losses = history.history['val_loss']\n",
        "\n",
        "        # Append the cumulative training and validation losses\n",
        "        if not cumulative_train_losses:\n",
        "            cumulative_train_losses = epoch_losses\n",
        "            cumulative_val_losses = epoch_val_losses\n",
        "        else:\n",
        "            # Accumulate losses from previous epochs\n",
        "            for i in range(len(epoch_losses)):\n",
        "                cumulative_train_losses[i] += epoch_losses[i]\n",
        "                cumulative_val_losses[i] += epoch_val_losses[i]\n",
        "\n",
        "    # Plot the losses\n",
        "    plt.plot(range(1, len(cumulative_train_losses) + 1), cumulative_train_losses, label='Training Loss')\n",
        "    plt.plot(range(1, len(cumulative_val_losses) + 1), cumulative_val_losses, label='Validation Loss')\n",
        "    plt.title('Cumulative Training and Validation Losses')\n",
        "    plt.xlabel('Epoch')\n",
        "    plt.ylabel('Loss')\n",
        "    plt.legend()\n",
        "    plt.show()\n",
        "\n",
        "# Example usage:\n",
        "# Assuming you have a list of history objects returned from model.fit\n",
        "# history_list = [history_1, history_2, ...]\n",
        "# plot_training_and_validation_losses(history_list)\n"
      ]
    },
    {
      "cell_type": "code",
      "execution_count": null,
      "metadata": {
        "colab": {
          "base_uri": "https://localhost:8080/",
          "height": 472
        },
        "id": "hf0p3iF-BpgV",
        "outputId": "37957128-549b-4f1a-e55a-b0703f94d9d3"
      },
      "outputs": [
        {
          "data": {
            "image/png": "[encoded data removed]",
            "text/plain": [
              "<Figure size 640x480 with 1 Axes>"
            ]
          },
          "metadata": {},
          "output_type": "display_data"
        }
      ],
      "source": [
        "plot_training_and_validation_losses(history)"
      ]
    },
    {
      "cell_type": "code",
      "execution_count": null,
      "metadata": {
        "colab": {
          "base_uri": "https://localhost:8080/"
        },
        "id": "KG4LVIjNBDcj",
        "outputId": "2c2ef187-96e1-4cea-c0bb-a5bf259b51cb"
      },
      "outputs": [
        {
          "name": "stdout",
          "output_type": "stream",
          "text": [
            "loss tf.Tensor(27.661445754512325, shape=(), dtype=float64)\n"
          ]
        },
        {
          "name": "stderr",
          "output_type": "stream",
          "text": [
            "WARNING:tensorflow:5 out of the last 5 calls to <function _BaseOptimizer._update_step_xla at 0x7eeedc245480> triggered tf.function retracing. Tracing is expensive and the excessive number of tracings could be due to (1) creating @tf.function repeatedly in a loop, (2) passing tensors with different shapes, (3) passing Python objects instead of tensors. For (1), please define your @tf.function outside of the loop. For (2), @tf.function has reduce_retracing=True option that can avoid unnecessary retracing. For (3), please refer to https://www.tensorflow.org/guide/function#controlling_retracing and https://www.tensorflow.org/api_docs/python/tf/function for  more details.\n",
            "WARNING:tensorflow:6 out of the last 6 calls to <function _BaseOptimizer._update_step_xla at 0x7eeedc245480> triggered tf.function retracing. Tracing is expensive and the excessive number of tracings could be due to (1) creating @tf.function repeatedly in a loop, (2) passing tensors with different shapes, (3) passing Python objects instead of tensors. For (1), please define your @tf.function outside of the loop. For (2), @tf.function has reduce_retracing=True option that can avoid unnecessary retracing. For (3), please refer to https://www.tensorflow.org/guide/function#controlling_retracing and https://www.tensorflow.org/api_docs/python/tf/function for  more details.\n"
          ]
        },
        {
          "name": "stdout",
          "output_type": "stream",
          "text": [
            "loss tf.Tensor(6.405321917959253, shape=(), dtype=float64)\n",
            "loss tf.Tensor(9.470028712730016, shape=(), dtype=float64)\n",
            "loss tf.Tensor(19.14685607622263, shape=(), dtype=float64)\n",
            "loss tf.Tensor(22.27497893949084, shape=(), dtype=float64)\n",
            "loss tf.Tensor(31.31937331110989, shape=(), dtype=float64)\n",
            "loss tf.Tensor(55.795941771935915, shape=(), dtype=float64)\n",
            "loss tf.Tensor(31.815595132732806, shape=(), dtype=float64)\n",
            "loss tf.Tensor(43.79552422120823, shape=(), dtype=float64)\n",
            "loss tf.Tensor(61.66734462420045, shape=(), dtype=float64)\n",
            "loss tf.Tensor(19.455007136852032, shape=(), dtype=float64)\n",
            "loss tf.Tensor(15.369281831276542, shape=(), dtype=float64)\n",
            "loss tf.Tensor(54.09985501032235, shape=(), dtype=float64)\n",
            "loss tf.Tensor(5.547085508806439, shape=(), dtype=float64)\n",
            "loss tf.Tensor(27.17008281074982, shape=(), dtype=float64)\n",
            "loss tf.Tensor(5.357081828706389, shape=(), dtype=float64)\n",
            "loss tf.Tensor(20.358825090973873, shape=(), dtype=float64)\n",
            "loss tf.Tensor(21.522368253614797, shape=(), dtype=float64)\n",
            "loss tf.Tensor(17.31766938630464, shape=(), dtype=float64)\n",
            "loss tf.Tensor(36.398902348055564, shape=(), dtype=float64)\n",
            "loss tf.Tensor(28.08420871457839, shape=(), dtype=float64)\n",
            "loss tf.Tensor(19.567724669022287, shape=(), dtype=float64)\n",
            "loss tf.Tensor(14.024124609544533, shape=(), dtype=float64)\n",
            "loss tf.Tensor(16.868835171954544, shape=(), dtype=float64)\n",
            "loss tf.Tensor(19.33710598343928, shape=(), dtype=float64)\n",
            "loss tf.Tensor(14.362214698970247, shape=(), dtype=float64)\n",
            "loss tf.Tensor(59.25464298455177, shape=(), dtype=float64)\n",
            "loss tf.Tensor(30.22002516693435, shape=(), dtype=float64)\n",
            "loss tf.Tensor(17.68514508186301, shape=(), dtype=float64)\n",
            "loss tf.Tensor(45.01710808865414, shape=(), dtype=float64)\n",
            "loss tf.Tensor(11.377262298461837, shape=(), dtype=float64)\n",
            "loss tf.Tensor(12.983686366651966, shape=(), dtype=float64)\n",
            "loss tf.Tensor(46.322324238169216, shape=(), dtype=float64)\n",
            "loss tf.Tensor(4.8016951668654, shape=(), dtype=float64)\n",
            "loss tf.Tensor(21.427470785152607, shape=(), dtype=float64)\n",
            "loss tf.Tensor(10.522555849975301, shape=(), dtype=float64)\n",
            "loss tf.Tensor(17.218773184939156, shape=(), dtype=float64)\n",
            "loss tf.Tensor(15.961075306887114, shape=(), dtype=float64)\n",
            "loss tf.Tensor(15.089712134528131, shape=(), dtype=float64)\n",
            "loss tf.Tensor(34.193722066923186, shape=(), dtype=float64)\n",
            "loss tf.Tensor(27.76913884568453, shape=(), dtype=float64)\n",
            "loss tf.Tensor(13.07007989647269, shape=(), dtype=float64)\n",
            "loss tf.Tensor(8.011221392912418, shape=(), dtype=float64)\n",
            "loss tf.Tensor(12.641422504516484, shape=(), dtype=float64)\n",
            "loss tf.Tensor(18.234348744090486, shape=(), dtype=float64)\n",
            "loss tf.Tensor(16.152967281962788, shape=(), dtype=float64)\n",
            "loss tf.Tensor(56.73961089943643, shape=(), dtype=float64)\n",
            "loss tf.Tensor(26.06701024310274, shape=(), dtype=float64)\n",
            "loss tf.Tensor(19.79949430696379, shape=(), dtype=float64)\n",
            "loss tf.Tensor(36.164822021729016, shape=(), dtype=float64)\n",
            "loss tf.Tensor(13.13227669117187, shape=(), dtype=float64)\n",
            "loss tf.Tensor(13.731041216270675, shape=(), dtype=float64)\n",
            "loss tf.Tensor(41.93351453412573, shape=(), dtype=float64)\n",
            "loss tf.Tensor(5.6518840508729795, shape=(), dtype=float64)\n",
            "loss tf.Tensor(19.76474300498057, shape=(), dtype=float64)\n",
            "loss tf.Tensor(9.642083823403206, shape=(), dtype=float64)\n",
            "loss tf.Tensor(16.213521343395, shape=(), dtype=float64)\n",
            "loss tf.Tensor(15.534420040703099, shape=(), dtype=float64)\n",
            "loss tf.Tensor(15.051369604895235, shape=(), dtype=float64)\n",
            "loss tf.Tensor(31.502463142454253, shape=(), dtype=float64)\n",
            "loss tf.Tensor(25.910228825570513, shape=(), dtype=float64)\n",
            "loss tf.Tensor(13.737845947774712, shape=(), dtype=float64)\n",
            "loss tf.Tensor(9.674972967602264, shape=(), dtype=float64)\n",
            "loss tf.Tensor(13.435773007564753, shape=(), dtype=float64)\n",
            "loss tf.Tensor(18.482072509585915, shape=(), dtype=float64)\n",
            "loss tf.Tensor(13.293133799787315, shape=(), dtype=float64)\n",
            "loss tf.Tensor(55.3905959741292, shape=(), dtype=float64)\n",
            "loss tf.Tensor(24.906567015320807, shape=(), dtype=float64)\n",
            "loss tf.Tensor(17.50792094419321, shape=(), dtype=float64)\n",
            "loss tf.Tensor(34.371930465547706, shape=(), dtype=float64)\n",
            "loss tf.Tensor(12.13148652928889, shape=(), dtype=float64)\n",
            "loss tf.Tensor(13.216887549735205, shape=(), dtype=float64)\n",
            "loss tf.Tensor(39.74311526344641, shape=(), dtype=float64)\n",
            "loss tf.Tensor(5.903471418831284, shape=(), dtype=float64)\n",
            "loss tf.Tensor(19.262114243021852, shape=(), dtype=float64)\n",
            "loss tf.Tensor(10.690106690539464, shape=(), dtype=float64)\n",
            "loss tf.Tensor(16.366885992666916, shape=(), dtype=float64)\n",
            "loss tf.Tensor(14.423328550611341, shape=(), dtype=float64)\n",
            "loss tf.Tensor(14.232618007611295, shape=(), dtype=float64)\n",
            "loss tf.Tensor(29.904126500996327, shape=(), dtype=float64)\n",
            "loss tf.Tensor(25.98535530265547, shape=(), dtype=float64)\n",
            "loss tf.Tensor(12.896334787409105, shape=(), dtype=float64)\n",
            "loss tf.Tensor(9.472050964482186, shape=(), dtype=float64)\n",
            "loss tf.Tensor(12.45279145806211, shape=(), dtype=float64)\n",
            "loss tf.Tensor(18.66259924442746, shape=(), dtype=float64)\n",
            "loss tf.Tensor(12.917583909588188, shape=(), dtype=float64)\n",
            "loss tf.Tensor(54.787893521462465, shape=(), dtype=float64)\n",
            "loss tf.Tensor(24.66642392902806, shape=(), dtype=float64)\n",
            "loss tf.Tensor(15.510325877877586, shape=(), dtype=float64)\n",
            "loss tf.Tensor(32.266681937635525, shape=(), dtype=float64)\n",
            "loss tf.Tensor(11.696676589923284, shape=(), dtype=float64)\n",
            "loss tf.Tensor(12.92784012082146, shape=(), dtype=float64)\n",
            "loss tf.Tensor(37.1085140473623, shape=(), dtype=float64)\n",
            "loss tf.Tensor(5.940423979895006, shape=(), dtype=float64)\n",
            "loss tf.Tensor(17.92506955371946, shape=(), dtype=float64)\n",
            "loss tf.Tensor(10.338144022276486, shape=(), dtype=float64)\n",
            "loss tf.Tensor(16.096957989610086, shape=(), dtype=float64)\n",
            "loss tf.Tensor(14.355801543224848, shape=(), dtype=float64)\n",
            "loss tf.Tensor(14.256941516401735, shape=(), dtype=float64)\n",
            "loss tf.Tensor(28.372998822358806, shape=(), dtype=float64)\n",
            "loss tf.Tensor(26.186490920442846, shape=(), dtype=float64)\n",
            "loss tf.Tensor(12.873147337158853, shape=(), dtype=float64)\n",
            "loss tf.Tensor(9.755978444909493, shape=(), dtype=float64)\n",
            "loss tf.Tensor(12.216221220629016, shape=(), dtype=float64)\n",
            "loss tf.Tensor(18.420588122491676, shape=(), dtype=float64)\n",
            "loss tf.Tensor(12.233103472176424, shape=(), dtype=float64)\n",
            "loss tf.Tensor(53.72241463037003, shape=(), dtype=float64)\n",
            "loss tf.Tensor(24.116021445333818, shape=(), dtype=float64)\n",
            "loss tf.Tensor(14.18646989624302, shape=(), dtype=float64)\n",
            "loss tf.Tensor(30.998049652958766, shape=(), dtype=float64)\n",
            "loss tf.Tensor(11.029187227591729, shape=(), dtype=float64)\n",
            "loss tf.Tensor(12.569689943264736, shape=(), dtype=float64)\n",
            "loss tf.Tensor(35.20827513599143, shape=(), dtype=float64)\n",
            "loss tf.Tensor(6.0107583445983614, shape=(), dtype=float64)\n",
            "loss tf.Tensor(17.300025794573692, shape=(), dtype=float64)\n",
            "loss tf.Tensor(10.427492011473614, shape=(), dtype=float64)\n",
            "loss tf.Tensor(15.87362420221931, shape=(), dtype=float64)\n",
            "loss tf.Tensor(13.75964202834633, shape=(), dtype=float64)\n",
            "loss tf.Tensor(13.812350141933457, shape=(), dtype=float64)\n",
            "loss tf.Tensor(27.134998240081575, shape=(), dtype=float64)\n",
            "loss tf.Tensor(26.24024100770105, shape=(), dtype=float64)\n",
            "loss tf.Tensor(13.238637762962139, shape=(), dtype=float64)\n",
            "loss tf.Tensor(9.88982008468575, shape=(), dtype=float64)\n",
            "loss tf.Tensor(11.726640322840472, shape=(), dtype=float64)\n",
            "loss tf.Tensor(18.121372741282944, shape=(), dtype=float64)\n",
            "loss tf.Tensor(11.789784909045782, shape=(), dtype=float64)\n",
            "loss tf.Tensor(53.119153531192296, shape=(), dtype=float64)\n",
            "loss tf.Tensor(23.62644189488721, shape=(), dtype=float64)\n",
            "loss tf.Tensor(13.032899823289549, shape=(), dtype=float64)\n",
            "loss tf.Tensor(29.261521908831845, shape=(), dtype=float64)\n",
            "loss tf.Tensor(10.586612995174303, shape=(), dtype=float64)\n",
            "loss tf.Tensor(12.166165810737628, shape=(), dtype=float64)\n",
            "loss tf.Tensor(33.66494608101197, shape=(), dtype=float64)\n",
            "loss tf.Tensor(5.946659945428537, shape=(), dtype=float64)\n",
            "loss tf.Tensor(16.49216000844805, shape=(), dtype=float64)\n",
            "loss tf.Tensor(10.202931651135675, shape=(), dtype=float64)\n",
            "loss tf.Tensor(15.59941428479441, shape=(), dtype=float64)\n",
            "loss tf.Tensor(13.489302523027941, shape=(), dtype=float64)\n",
            "loss tf.Tensor(13.500544880608558, shape=(), dtype=float64)\n",
            "loss tf.Tensor(26.768277750552144, shape=(), dtype=float64)\n",
            "loss tf.Tensor(25.751833738595984, shape=(), dtype=float64)\n",
            "loss tf.Tensor(13.25115243407714, shape=(), dtype=float64)\n",
            "loss tf.Tensor(9.817325605510463, shape=(), dtype=float64)\n",
            "loss tf.Tensor(11.565192470886153, shape=(), dtype=float64)\n",
            "loss tf.Tensor(17.580586215617423, shape=(), dtype=float64)\n",
            "loss tf.Tensor(11.445651117714737, shape=(), dtype=float64)\n",
            "loss tf.Tensor(52.1941228547689, shape=(), dtype=float64)\n",
            "loss tf.Tensor(23.49163321814025, shape=(), dtype=float64)\n",
            "loss tf.Tensor(12.374313483321805, shape=(), dtype=float64)\n",
            "loss tf.Tensor(28.263404785758055, shape=(), dtype=float64)\n",
            "loss tf.Tensor(10.185951608795781, shape=(), dtype=float64)\n",
            "loss tf.Tensor(12.109160288402084, shape=(), dtype=float64)\n",
            "loss tf.Tensor(32.428925300675886, shape=(), dtype=float64)\n",
            "loss tf.Tensor(5.81673689903172, shape=(), dtype=float64)\n",
            "loss tf.Tensor(16.03885195069043, shape=(), dtype=float64)\n",
            "loss tf.Tensor(10.034367676278519, shape=(), dtype=float64)\n",
            "loss tf.Tensor(15.443268430659648, shape=(), dtype=float64)\n",
            "loss tf.Tensor(13.403480322381043, shape=(), dtype=float64)\n",
            "loss tf.Tensor(13.282292895114908, shape=(), dtype=float64)\n",
            "loss tf.Tensor(26.25513362499764, shape=(), dtype=float64)\n",
            "loss tf.Tensor(25.21539679177572, shape=(), dtype=float64)\n",
            "loss tf.Tensor(12.710016602326686, shape=(), dtype=float64)\n",
            "loss tf.Tensor(9.922844014439843, shape=(), dtype=float64)\n",
            "loss tf.Tensor(11.54870514550356, shape=(), dtype=float64)\n",
            "loss tf.Tensor(17.28599238175609, shape=(), dtype=float64)\n",
            "loss tf.Tensor(10.957288236142482, shape=(), dtype=float64)\n",
            "loss tf.Tensor(51.18040222736945, shape=(), dtype=float64)\n",
            "loss tf.Tensor(23.322095885957086, shape=(), dtype=float64)\n",
            "loss tf.Tensor(11.405957749204644, shape=(), dtype=float64)\n",
            "loss tf.Tensor(26.816547774068322, shape=(), dtype=float64)\n",
            "loss tf.Tensor(9.753154259842365, shape=(), dtype=float64)\n",
            "loss tf.Tensor(11.905459020360725, shape=(), dtype=float64)\n",
            "loss tf.Tensor(30.767933693694918, shape=(), dtype=float64)\n",
            "loss tf.Tensor(5.687184196134449, shape=(), dtype=float64)\n",
            "loss tf.Tensor(15.240620027325038, shape=(), dtype=float64)\n",
            "loss tf.Tensor(9.933670119655288, shape=(), dtype=float64)\n",
            "loss tf.Tensor(15.184632125543368, shape=(), dtype=float64)\n",
            "loss tf.Tensor(13.393890257983172, shape=(), dtype=float64)\n",
            "loss tf.Tensor(13.033815827950257, shape=(), dtype=float64)\n",
            "loss tf.Tensor(25.77418210117709, shape=(), dtype=float64)\n",
            "loss tf.Tensor(25.08701380405867, shape=(), dtype=float64)\n",
            "loss tf.Tensor(12.595300945958543, shape=(), dtype=float64)\n",
            "loss tf.Tensor(9.831094438463321, shape=(), dtype=float64)\n",
            "loss tf.Tensor(11.414847843726093, shape=(), dtype=float64)\n",
            "loss tf.Tensor(16.867022704395183, shape=(), dtype=float64)\n",
            "loss tf.Tensor(10.64383764352879, shape=(), dtype=float64)\n",
            "loss tf.Tensor(50.47041466220357, shape=(), dtype=float64)\n",
            "loss tf.Tensor(23.125359517083517, shape=(), dtype=float64)\n",
            "loss tf.Tensor(10.46573166537653, shape=(), dtype=float64)\n",
            "loss tf.Tensor(26.043633162038887, shape=(), dtype=float64)\n",
            "loss tf.Tensor(9.306702262207407, shape=(), dtype=float64)\n",
            "loss tf.Tensor(11.847478175532203, shape=(), dtype=float64)\n",
            "loss tf.Tensor(29.4632302431037, shape=(), dtype=float64)\n",
            "loss tf.Tensor(5.790665161424267, shape=(), dtype=float64)\n",
            "loss tf.Tensor(14.25632608712024, shape=(), dtype=float64)\n",
            "loss tf.Tensor(9.617134750304793, shape=(), dtype=float64)\n",
            "loss tf.Tensor(15.046872214281006, shape=(), dtype=float64)\n",
            "loss tf.Tensor(13.26888617701688, shape=(), dtype=float64)\n",
            "loss tf.Tensor(12.689909906362981, shape=(), dtype=float64)\n",
            "loss tf.Tensor(25.237419410861772, shape=(), dtype=float64)\n",
            "\n",
            "loss tf.Tensor(23.834276663690694, shape=(), dtype=float64)\n",
            "loss tf.Tensor(12.096549183033538, shape=(), dtype=float64)\n",
            "loss tf.Tensor(9.686393622443093, shape=(), dtype=float64)\n",
            "loss tf.Tensor(11.255445909051296, shape=(), dtype=float64)\n",
            "loss tf.Tensor(16.370157303016946, shape=(), dtype=float64)\n",
            "loss tf.Tensor(10.411765827592118, shape=(), dtype=float64)\n",
            "loss tf.Tensor(49.47298707876439, shape=(), dtype=float64)\n",
            "loss tf.Tensor(22.961944982443647, shape=(), dtype=float64)\n",
            "loss tf.Tensor(9.978345226230447, shape=(), dtype=float64)\n",
            "loss tf.Tensor(25.0485544945451, shape=(), dtype=float64)\n",
            "loss tf.Tensor(8.766985168235129, shape=(), dtype=float64)\n",
            "loss tf.Tensor(11.605141134045617, shape=(), dtype=float64)\n",
            "loss tf.Tensor(28.209466367978926, shape=(), dtype=float64)\n",
            "loss tf.Tensor(5.49714728602496, shape=(), dtype=float64)\n",
            "loss tf.Tensor(13.407623433671567, shape=(), dtype=float64)\n",
            "loss tf.Tensor(9.069915081474402, shape=(), dtype=float64)\n",
            "loss tf.Tensor(14.990980085126271, shape=(), dtype=float64)\n",
            "loss tf.Tensor(12.977925022877288, shape=(), dtype=float64)\n",
            "loss tf.Tensor(12.437707125504867, shape=(), dtype=float64)\n",
            "loss tf.Tensor(24.682936457207166, shape=(), dtype=float64)\n",
            "loss tf.Tensor(23.56223957692528, shape=(), dtype=float64)\n",
            "loss tf.Tensor(11.912682259245772, shape=(), dtype=float64)\n",
            "loss tf.Tensor(9.943281212384816, shape=(), dtype=float64)\n",
            "loss tf.Tensor(11.074691815105883, shape=(), dtype=float64)\n",
            "loss tf.Tensor(16.007347718996762, shape=(), dtype=float64)\n",
            "loss tf.Tensor(9.994749182840353, shape=(), dtype=float64)\n",
            "loss tf.Tensor(49.035301310760225, shape=(), dtype=float64)\n",
            "loss tf.Tensor(22.696763395654457, shape=(), dtype=float64)\n",
            "loss tf.Tensor(9.083480902680636, shape=(), dtype=float64)\n",
            "loss tf.Tensor(23.782039898367184, shape=(), dtype=float64)\n",
            "loss tf.Tensor(8.61360628562674, shape=(), dtype=float64)\n",
            "loss tf.Tensor(11.640142598145513, shape=(), dtype=float64)\n",
            "loss tf.Tensor(26.68676628801506, shape=(), dtype=float64)\n",
            "loss tf.Tensor(5.203298387476637, shape=(), dtype=float64)\n",
            "loss tf.Tensor(12.284625998159298, shape=(), dtype=float64)\n",
            "loss tf.Tensor(8.635783968168447, shape=(), dtype=float64)\n",
            "loss tf.Tensor(14.78064129894608, shape=(), dtype=float64)\n",
            "loss tf.Tensor(12.884402605169134, shape=(), dtype=float64)\n",
            "loss tf.Tensor(12.280479997449323, shape=(), dtype=float64)\n",
            "loss tf.Tensor(24.188880155495557, shape=(), dtype=float64)\n",
            "loss tf.Tensor(23.664664137542953, shape=(), dtype=float64)\n",
            "loss tf.Tensor(12.197339861911853, shape=(), dtype=float64)\n",
            "loss tf.Tensor(9.900554568198322, shape=(), dtype=float64)\n",
            "loss tf.Tensor(10.998771866338284, shape=(), dtype=float64)\n",
            "loss tf.Tensor(15.776138230377185, shape=(), dtype=float64)\n",
            "loss tf.Tensor(9.594796525072436, shape=(), dtype=float64)\n",
            "loss tf.Tensor(48.13336725027532, shape=(), dtype=float64)\n",
            "loss tf.Tensor(22.786361778393708, shape=(), dtype=float64)\n",
            "loss tf.Tensor(8.845759653883823, shape=(), dtype=float64)\n",
            "loss tf.Tensor(23.44654012551553, shape=(), dtype=float64)\n",
            "loss tf.Tensor(8.240534226049819, shape=(), dtype=float64)\n",
            "loss tf.Tensor(11.571970648291126, shape=(), dtype=float64)\n",
            "loss tf.Tensor(25.533233968327803, shape=(), dtype=float64)\n",
            "loss tf.Tensor(5.0242830860814784, shape=(), dtype=float64)\n",
            "loss tf.Tensor(11.840455985818899, shape=(), dtype=float64)\n",
            "loss tf.Tensor(8.511727212341421, shape=(), dtype=float64)\n",
            "loss tf.Tensor(14.743974223905541, shape=(), dtype=float64)\n",
            "loss tf.Tensor(12.51138417483373, shape=(), dtype=float64)\n",
            "loss tf.Tensor(12.082106170031441, shape=(), dtype=float64)\n",
            "loss tf.Tensor(23.588698808491905, shape=(), dtype=float64)\n",
            "loss tf.Tensor(22.999543278034334, shape=(), dtype=float64)\n",
            "loss tf.Tensor(11.55140372898756, shape=(), dtype=float64)\n",
            "loss tf.Tensor(10.000930999373965, shape=(), dtype=float64)\n",
            "loss tf.Tensor(11.023090479512476, shape=(), dtype=float64)\n",
            "loss tf.Tensor(15.515969106996003, shape=(), dtype=float64)\n",
            "loss tf.Tensor(9.256875168191876, shape=(), dtype=float64)\n",
            "loss tf.Tensor(47.55029905851253, shape=(), dtype=float64)\n",
            "loss tf.Tensor(22.36971633821928, shape=(), dtype=float64)\n",
            "loss tf.Tensor(8.075377697497629, shape=(), dtype=float64)\n",
            "loss tf.Tensor(22.169893731095677, shape=(), dtype=float64)\n",
            "loss tf.Tensor(7.976061756628358, shape=(), dtype=float64)\n",
            "loss tf.Tensor(11.522314545059185, shape=(), dtype=float64)\n",
            "loss tf.Tensor(24.523106935415207, shape=(), dtype=float64)\n",
            "loss tf.Tensor(4.853239844573184, shape=(), dtype=float64)\n",
            "loss tf.Tensor(11.058178157845234, shape=(), dtype=float64)\n",
            "loss tf.Tensor(8.294485572168515, shape=(), dtype=float64)\n",
            "loss tf.Tensor(14.640982823418602, shape=(), dtype=float64)\n",
            "loss tf.Tensor(12.398215182144822, shape=(), dtype=float64)\n",
            "loss tf.Tensor(11.77273940430397, shape=(), dtype=float64)\n",
            "loss tf.Tensor(22.925971442289416, shape=(), dtype=float64)\n",
            "loss tf.Tensor(22.534901484800752, shape=(), dtype=float64)\n",
            "loss tf.Tensor(11.064300797514033, shape=(), dtype=float64)\n",
            "loss tf.Tensor(9.892183062411535, shape=(), dtype=float64)\n",
            "loss tf.Tensor(10.768469130584972, shape=(), dtype=float64)\n",
            "loss tf.Tensor(15.188207947640603, shape=(), dtype=float64)\n",
            "loss tf.Tensor(9.11571319046164, shape=(), dtype=float64)\n",
            "loss tf.Tensor(47.05422519302178, shape=(), dtype=float64)\n",
            "loss tf.Tensor(22.214353370039206, shape=(), dtype=float64)\n",
            "loss tf.Tensor(7.5513897857588645, shape=(), dtype=float64)\n",
            "loss tf.Tensor(21.21044497051731, shape=(), dtype=float64)\n",
            "loss tf.Tensor(7.811740344109999, shape=(), dtype=float64)\n",
            "loss tf.Tensor(11.526324106709566, shape=(), dtype=float64)\n",
            "loss tf.Tensor(23.524478514503745, shape=(), dtype=float64)\n",
            "loss tf.Tensor(4.600452117964192, shape=(), dtype=float64)\n",
            "loss tf.Tensor(10.420423854691585, shape=(), dtype=float64)\n",
            "loss tf.Tensor(7.984745780965459, shape=(), dtype=float64)\n",
            "loss tf.Tensor(14.702621041732648, shape=(), dtype=float64)\n",
            "loss tf.Tensor(12.17797144082947, shape=(), dtype=float64)\n",
            "loss tf.Tensor(11.594778759966124, shape=(), dtype=float64)\n",
            "loss tf.Tensor(22.372222469779544, shape=(), dtype=float64)\n",
            "loss tf.Tensor(22.118092705034268, shape=(), dtype=float64)\n",
            "loss tf.Tensor(11.070867433359238, shape=(), dtype=float64)\n",
            "loss tf.Tensor(9.654110990595383, shape=(), dtype=float64)\n",
            "loss tf.Tensor(10.643789381239849, shape=(), dtype=float64)\n",
            "loss tf.Tensor(14.963060924887191, shape=(), dtype=float64)\n",
            "loss tf.Tensor(8.988550044095803, shape=(), dtype=float64)\n",
            "loss tf.Tensor(46.39437604898915, shape=(), dtype=float64)\n",
            "loss tf.Tensor(21.864295922870348, shape=(), dtype=float64)\n",
            "loss tf.Tensor(7.239925085397419, shape=(), dtype=float64)\n",
            "loss tf.Tensor(20.420352387307204, shape=(), dtype=float64)\n",
            "loss tf.Tensor(7.59678295048868, shape=(), dtype=float64)\n",
            "loss tf.Tensor(11.556674644286122, shape=(), dtype=float64)\n",
            "loss tf.Tensor(22.384298425569014, shape=(), dtype=float64)\n",
            "loss tf.Tensor(4.437088377733361, shape=(), dtype=float64)\n",
            "loss tf.Tensor(9.901259597418852, shape=(), dtype=float64)\n",
            "loss tf.Tensor(7.868062686058597, shape=(), dtype=float64)\n",
            "loss tf.Tensor(14.562091741207643, shape=(), dtype=float64)\n",
            "loss tf.Tensor(12.021044673191419, shape=(), dtype=float64)\n",
            "loss tf.Tensor(11.44959298150698, shape=(), dtype=float64)\n",
            "loss tf.Tensor(21.839576697817133, shape=(), dtype=float64)\n",
            "loss tf.Tensor(22.073873939519455, shape=(), dtype=float64)\n",
            "loss tf.Tensor(10.790698376255127, shape=(), dtype=float64)\n",
            "loss tf.Tensor(9.913905230191949, shape=(), dtype=float64)\n",
            "loss tf.Tensor(10.628720260141021, shape=(), dtype=float64)\n",
            "loss tf.Tensor(14.932210839267865, shape=(), dtype=float64)\n",
            "loss tf.Tensor(8.693777328044073, shape=(), dtype=float64)\n",
            "loss tf.Tensor(45.9487580234545, shape=(), dtype=float64)\n",
            "loss tf.Tensor(21.56535376797594, shape=(), dtype=float64)\n",
            "loss tf.Tensor(6.714786506232832, shape=(), dtype=float64)\n",
            "loss tf.Tensor(19.745270230472446, shape=(), dtype=float64)\n",
            "loss tf.Tensor(7.446721129919203, shape=(), dtype=float64)\n",
            "loss tf.Tensor(11.458793940265377, shape=(), dtype=float64)\n",
            "loss tf.Tensor(21.622808202217573, shape=(), dtype=float64)\n",
            "loss tf.Tensor(4.408439585783854, shape=(), dtype=float64)\n",
            "loss tf.Tensor(9.366185271982777, shape=(), dtype=float64)\n",
            "loss tf.Tensor(7.438319320001767, shape=(), dtype=float64)\n",
            "loss tf.Tensor(14.296755213104245, shape=(), dtype=float64)\n",
            "loss tf.Tensor(12.036257591453005, shape=(), dtype=float64)\n",
            "loss tf.Tensor(11.155586387455788, shape=(), dtype=float64)\n",
            "loss tf.Tensor(21.520068718291217, shape=(), dtype=float64)\n",
            "loss tf.Tensor(21.191197782394166, shape=(), dtype=float64)\n",
            "loss tf.Tensor(10.068610918935923, shape=(), dtype=float64)\n",
            "loss tf.Tensor(9.71736328885773, shape=(), dtype=float64)\n",
            "loss tf.Tensor(10.433294455748662, shape=(), dtype=float64)\n",
            "loss tf.Tensor(14.432044966870096, shape=(), dtype=float64)\n",
            "loss tf.Tensor(8.793346527540663, shape=(), dtype=float64)\n",
            "loss tf.Tensor(45.265236152691, shape=(), dtype=float64)\n",
            "loss tf.Tensor(21.477586121117426, shape=(), dtype=float64)\n",
            "loss tf.Tensor(6.5618379207613975, shape=(), dtype=float64)\n",
            "loss tf.Tensor(19.212597879889767, shape=(), dtype=float64)\n",
            "loss tf.Tensor(7.40462476124057, shape=(), dtype=float64)\n",
            "loss tf.Tensor(11.465024020059358, shape=(), dtype=float64)\n",
            "loss tf.Tensor(20.774686875568282, shape=(), dtype=float64)\n",
            "loss tf.Tensor(4.300160428769982, shape=(), dtype=float64)\n",
            "loss tf.Tensor(8.946272365365484, shape=(), dtype=float64)\n",
            "loss tf.Tensor(7.146346279675379, shape=(), dtype=float64)\n",
            "loss tf.Tensor(14.141574655897807, shape=(), dtype=float64)\n",
            "loss tf.Tensor(11.99830634599084, shape=(), dtype=float64)\n",
            "loss tf.Tensor(10.97522838944843, shape=(), dtype=float64)\n",
            "loss tf.Tensor(21.10282604389763, shape=(), dtype=float64)\n",
            "loss tf.Tensor(20.82416868960212, shape=(), dtype=float64)\n",
            "loss tf.Tensor(9.595349525989716, shape=(), dtype=float64)\n",
            "loss tf.Tensor(9.609103155761554, shape=(), dtype=float64)\n",
            "loss tf.Tensor(10.39682155826571, shape=(), dtype=float64)\n",
            "loss tf.Tensor(13.950955983693605, shape=(), dtype=float64)\n",
            "loss tf.Tensor(8.731661453610243, shape=(), dtype=float64)\n",
            "loss tf.Tensor(44.987801450049886, shape=(), dtype=float64)\n",
            "loss tf.Tensor(20.970141076450233, shape=(), dtype=float64)\n",
            "loss tf.Tensor(6.055334771330474, shape=(), dtype=float64)\n",
            "loss tf.Tensor(18.66222007217898, shape=(), dtype=float64)\n",
            "loss tf.Tensor(7.267895968302435, shape=(), dtype=float64)\n",
            "loss tf.Tensor(11.491254265510793, shape=(), dtype=float64)\n",
            "loss tf.Tensor(19.896733957423695, shape=(), dtype=float64)\n",
            "loss tf.Tensor(4.184720296624715, shape=(), dtype=float64)\n",
            "loss tf.Tensor(8.376597255028678, shape=(), dtype=float64)\n",
            "loss tf.Tensor(6.694007727796157, shape=(), dtype=float64)\n",
            "loss tf.Tensor(14.18481907577942, shape=(), dtype=float64)\n",
            "loss tf.Tensor(11.733812460331347, shape=(), dtype=float64)\n",
            "loss tf.Tensor(10.818628069829494, shape=(), dtype=float64)\n",
            "loss tf.Tensor(20.7470630668208, shape=(), dtype=float64)\n",
            "loss tf.Tensor(20.787422347820158, shape=(), dtype=float64)\n",
            "loss tf.Tensor(9.796810864172405, shape=(), dtype=float64)\n",
            "loss tf.Tensor(9.47109747689587, shape=(), dtype=float64)\n",
            "loss tf.Tensor(10.37231985267922, shape=(), dtype=float64)\n",
            "loss tf.Tensor(13.264639828252916, shape=(), dtype=float64)\n",
            "loss tf.Tensor(8.484442021118769, shape=(), dtype=float64)\n",
            "loss tf.Tensor(44.30602884072262, shape=(), dtype=float64)\n",
            "loss tf.Tensor(20.8543416728241, shape=(), dtype=float64)\n",
            "loss tf.Tensor(5.748563524192106, shape=(), dtype=float64)\n",
            "loss tf.Tensor(18.41487559122157, shape=(), dtype=float64)\n",
            "loss tf.Tensor(6.952593899583792, shape=(), dtype=float64)\n",
            "loss tf.Tensor(11.344811644738483, shape=(), dtype=float64)\n",
            "loss tf.Tensor(18.901822977082546, shape=(), dtype=float64)\n",
            "loss tf.Tensor(4.092014114936361, shape=(), dtype=float64)\n",
            "loss tf.Tensor(8.0922819127447, shape=(), dtype=float64)\n",
            "loss tf.Tensor(6.440071994484974, shape=(), dtype=float64)\n",
            "loss tf.Tensor(14.085765273589429, shape=(), dtype=float64)\n",
            "loss tf.Tensor(11.65776690121179, shape=(), dtype=float64)\n",
            "loss tf.Tensor(10.784519151532582, shape=(), dtype=float64)\n",
            "loss tf.Tensor(20.228790581678762, shape=(), dtype=float64)\n",
            "\n",
            "loss tf.Tensor(20.545052370637407, shape=(), dtype=float64)\n",
            "loss tf.Tensor(9.325562224039254, shape=(), dtype=float64)\n",
            "loss tf.Tensor(9.405483409881818, shape=(), dtype=float64)\n",
            "loss tf.Tensor(10.464207163670277, shape=(), dtype=float64)\n",
            "loss tf.Tensor(12.474437857179126, shape=(), dtype=float64)\n",
            "loss tf.Tensor(8.684350721621481, shape=(), dtype=float64)\n",
            "loss tf.Tensor(43.48766664183718, shape=(), dtype=float64)\n",
            "loss tf.Tensor(20.66593056029012, shape=(), dtype=float64)\n",
            "loss tf.Tensor(5.436022452104846, shape=(), dtype=float64)\n",
            "loss tf.Tensor(18.194602779071445, shape=(), dtype=float64)\n",
            "loss tf.Tensor(6.980384185326791, shape=(), dtype=float64)\n",
            "loss tf.Tensor(11.481596280870104, shape=(), dtype=float64)\n",
            "loss tf.Tensor(17.429382446793603, shape=(), dtype=float64)\n",
            "loss tf.Tensor(4.144776757717579, shape=(), dtype=float64)\n",
            "loss tf.Tensor(7.927794605019068, shape=(), dtype=float64)\n",
            "loss tf.Tensor(6.03165160483, shape=(), dtype=float64)\n",
            "loss tf.Tensor(13.875827333913863, shape=(), dtype=float64)\n",
            "loss tf.Tensor(11.789646199454532, shape=(), dtype=float64)\n",
            "loss tf.Tensor(10.574374770890056, shape=(), dtype=float64)\n",
            "loss tf.Tensor(20.057689531279067, shape=(), dtype=float64)\n",
            "loss tf.Tensor(19.74277729996295, shape=(), dtype=float64)\n",
            "loss tf.Tensor(8.988180859629963, shape=(), dtype=float64)\n",
            "loss tf.Tensor(9.39480415624247, shape=(), dtype=float64)\n",
            "loss tf.Tensor(10.683105193361234, shape=(), dtype=float64)\n",
            "loss tf.Tensor(11.912422062234718, shape=(), dtype=float64)\n",
            "loss tf.Tensor(8.486671455852234, shape=(), dtype=float64)\n",
            "loss tf.Tensor(42.854803563192576, shape=(), dtype=float64)\n",
            "loss tf.Tensor(20.48599342301168, shape=(), dtype=float64)\n",
            "loss tf.Tensor(4.956503490278695, shape=(), dtype=float64)\n",
            "loss tf.Tensor(17.86323993635199, shape=(), dtype=float64)\n",
            "loss tf.Tensor(6.729932618839468, shape=(), dtype=float64)\n",
            "loss tf.Tensor(11.341873829276764, shape=(), dtype=float64)\n",
            "loss tf.Tensor(16.066706261216428, shape=(), dtype=float64)\n",
            "loss tf.Tensor(4.065194200075913, shape=(), dtype=float64)\n",
            "loss tf.Tensor(7.557421944121756, shape=(), dtype=float64)\n",
            "loss tf.Tensor(5.7292316312513005, shape=(), dtype=float64)\n",
            "loss tf.Tensor(13.792099065439912, shape=(), dtype=float64)\n",
            "loss tf.Tensor(11.642699542911163, shape=(), dtype=float64)\n",
            "loss tf.Tensor(10.620758909718907, shape=(), dtype=float64)\n",
            "loss tf.Tensor(19.595410906478325, shape=(), dtype=float64)\n",
            "loss tf.Tensor(19.662884553969274, shape=(), dtype=float64)\n",
            "loss tf.Tensor(8.85941394476262, shape=(), dtype=float64)\n",
            "loss tf.Tensor(9.217141439899292, shape=(), dtype=float64)\n",
            "loss tf.Tensor(10.663949949158646, shape=(), dtype=float64)\n",
            "loss tf.Tensor(11.269935608335262, shape=(), dtype=float64)\n",
            "loss tf.Tensor(8.578951539368987, shape=(), dtype=float64)\n",
            "loss tf.Tensor(42.27445290321198, shape=(), dtype=float64)\n",
            "loss tf.Tensor(20.282353245426656, shape=(), dtype=float64)\n",
            "loss tf.Tensor(4.782882294484319, shape=(), dtype=float64)\n",
            "loss tf.Tensor(17.483060596737612, shape=(), dtype=float64)\n",
            "loss tf.Tensor(6.595072048066324, shape=(), dtype=float64)\n",
            "loss tf.Tensor(11.327746993620377, shape=(), dtype=float64)\n",
            "loss tf.Tensor(14.980067173865995, shape=(), dtype=float64)\n",
            "loss tf.Tensor(4.018910699523272, shape=(), dtype=float64)\n",
            "loss tf.Tensor(7.263745248686948, shape=(), dtype=float64)\n",
            "loss tf.Tensor(5.48833883704492, shape=(), dtype=float64)\n",
            "loss tf.Tensor(13.744917624617342, shape=(), dtype=float64)\n",
            "loss tf.Tensor(11.627554767205707, shape=(), dtype=float64)\n",
            "loss tf.Tensor(10.367092449306892, shape=(), dtype=float64)\n",
            "loss tf.Tensor(19.30493924347965, shape=(), dtype=float64)\n",
            "loss tf.Tensor(19.245628987751328, shape=(), dtype=float64)\n",
            "loss tf.Tensor(8.584302497653987, shape=(), dtype=float64)\n",
            "loss tf.Tensor(9.217818245477808, shape=(), dtype=float64)\n",
            "loss tf.Tensor(10.829099691021328, shape=(), dtype=float64)\n",
            "loss tf.Tensor(10.65076210215933, shape=(), dtype=float64)\n",
            "loss tf.Tensor(8.367893035109578, shape=(), dtype=float64)\n",
            "loss tf.Tensor(41.98253131109985, shape=(), dtype=float64)\n",
            "loss tf.Tensor(20.17129900151156, shape=(), dtype=float64)\n",
            "loss tf.Tensor(4.442875804123734, shape=(), dtype=float64)\n",
            "loss tf.Tensor(16.917396850986567, shape=(), dtype=float64)\n",
            "loss tf.Tensor(6.508651928721986, shape=(), dtype=float64)\n",
            "loss tf.Tensor(11.340133505272439, shape=(), dtype=float64)\n",
            "loss tf.Tensor(14.11313293595223, shape=(), dtype=float64)\n",
            "loss tf.Tensor(3.9271862678294256, shape=(), dtype=float64)\n",
            "loss tf.Tensor(6.97569256800527, shape=(), dtype=float64)\n",
            "loss tf.Tensor(5.158344804698539, shape=(), dtype=float64)\n",
            "loss tf.Tensor(13.765607639173968, shape=(), dtype=float64)\n",
            "loss tf.Tensor(11.510786179990205, shape=(), dtype=float64)\n",
            "loss tf.Tensor(10.262028021689567, shape=(), dtype=float64)\n",
            "loss tf.Tensor(18.85376050089276, shape=(), dtype=float64)\n",
            "loss tf.Tensor(19.06148712186272, shape=(), dtype=float64)\n",
            "loss tf.Tensor(8.606056663390355, shape=(), dtype=float64)\n",
            "loss tf.Tensor(9.12191084710061, shape=(), dtype=float64)\n",
            "loss tf.Tensor(10.875573735675243, shape=(), dtype=float64)\n",
            "loss tf.Tensor(10.121903776107265, shape=(), dtype=float64)\n",
            "loss tf.Tensor(8.404625739101416, shape=(), dtype=float64)\n",
            "loss tf.Tensor(41.58933441457641, shape=(), dtype=float64)\n",
            "loss tf.Tensor(19.822181879224537, shape=(), dtype=float64)\n",
            "loss tf.Tensor(4.272791064883959, shape=(), dtype=float64)\n",
            "loss tf.Tensor(16.6206785478024, shape=(), dtype=float64)\n",
            "loss tf.Tensor(6.325136943309676, shape=(), dtype=float64)\n",
            "loss tf.Tensor(11.373526526462278, shape=(), dtype=float64)\n",
            "loss tf.Tensor(13.333634287818827, shape=(), dtype=float64)\n",
            "loss tf.Tensor(3.814606564588802, shape=(), dtype=float64)\n",
            "loss tf.Tensor(6.717816694408162, shape=(), dtype=float64)\n",
            "loss tf.Tensor(5.01199866726601, shape=(), dtype=float64)\n",
            "loss tf.Tensor(13.647631708438203, shape=(), dtype=float64)\n",
            "loss tf.Tensor(11.357741431501958, shape=(), dtype=float64)\n",
            "loss tf.Tensor(10.105857927556615, shape=(), dtype=float64)\n",
            "loss tf.Tensor(18.50562426685987, shape=(), dtype=float64)\n",
            "loss tf.Tensor(18.87834135551959, shape=(), dtype=float64)\n",
            "loss tf.Tensor(8.27334022377666, shape=(), dtype=float64)\n",
            "loss tf.Tensor(9.174466771889104, shape=(), dtype=float64)\n",
            "loss tf.Tensor(11.035767842477036, shape=(), dtype=float64)\n",
            "loss tf.Tensor(9.752118695719014, shape=(), dtype=float64)\n",
            "loss tf.Tensor(8.185812736154398, shape=(), dtype=float64)\n",
            "loss tf.Tensor(40.92529132768447, shape=(), dtype=float64)\n",
            "loss tf.Tensor(19.70195495511713, shape=(), dtype=float64)\n",
            "loss tf.Tensor(4.009679313143336, shape=(), dtype=float64)\n",
            "loss tf.Tensor(16.35079894731895, shape=(), dtype=float64)\n",
            "loss tf.Tensor(6.118219543501177, shape=(), dtype=float64)\n",
            "loss tf.Tensor(11.246844626922236, shape=(), dtype=float64)\n",
            "loss tf.Tensor(12.676534854169086, shape=(), dtype=float64)\n",
            "loss tf.Tensor(3.6875744482810777, shape=(), dtype=float64)\n",
            "loss tf.Tensor(6.548970931664022, shape=(), dtype=float64)\n",
            "loss tf.Tensor(4.7814810192573445, shape=(), dtype=float64)\n",
            "loss tf.Tensor(13.46417056075294, shape=(), dtype=float64)\n",
            "loss tf.Tensor(11.280141217656414, shape=(), dtype=float64)\n",
            "loss tf.Tensor(9.96301738221387, shape=(), dtype=float64)\n",
            "loss tf.Tensor(18.2865473593431, shape=(), dtype=float64)\n",
            "loss tf.Tensor(18.650393746760823, shape=(), dtype=float64)\n",
            "loss tf.Tensor(8.069931750317533, shape=(), dtype=float64)\n",
            "loss tf.Tensor(9.188621004965222, shape=(), dtype=float64)\n",
            "loss tf.Tensor(11.107168566140013, shape=(), dtype=float64)\n",
            "loss tf.Tensor(9.320336409279255, shape=(), dtype=float64)\n",
            "loss tf.Tensor(8.134233859671463, shape=(), dtype=float64)\n",
            "loss tf.Tensor(40.53784231603924, shape=(), dtype=float64)\n",
            "loss tf.Tensor(19.540211258140552, shape=(), dtype=float64)\n",
            "loss tf.Tensor(3.9414604810950067, shape=(), dtype=float64)\n",
            "loss tf.Tensor(16.058923932229373, shape=(), dtype=float64)\n",
            "loss tf.Tensor(6.028732584986996, shape=(), dtype=float64)\n",
            "loss tf.Tensor(11.307535746926396, shape=(), dtype=float64)\n",
            "loss tf.Tensor(12.225406134627733, shape=(), dtype=float64)\n",
            "loss tf.Tensor(3.6139578236583607, shape=(), dtype=float64)\n",
            "loss tf.Tensor(6.312976055410973, shape=(), dtype=float64)\n",
            "loss tf.Tensor(4.501638693432895, shape=(), dtype=float64)\n",
            "loss tf.Tensor(13.434907031648681, shape=(), dtype=float64)\n",
            "loss tf.Tensor(11.199400608458069, shape=(), dtype=float64)\n",
            "loss tf.Tensor(9.788512219908919, shape=(), dtype=float64)\n",
            "loss tf.Tensor(18.02642558060334, shape=(), dtype=float64)\n",
            "loss tf.Tensor(18.351088240421554, shape=(), dtype=float64)\n",
            "loss tf.Tensor(8.232197029437005, shape=(), dtype=float64)\n",
            "loss tf.Tensor(8.960658304566177, shape=(), dtype=float64)\n",
            "loss tf.Tensor(11.057317154786428, shape=(), dtype=float64)\n",
            "loss tf.Tensor(9.12650658238819, shape=(), dtype=float64)\n",
            "loss tf.Tensor(8.008927889280717, shape=(), dtype=float64)\n",
            "loss tf.Tensor(40.027051934297255, shape=(), dtype=float64)\n",
            "loss tf.Tensor(19.31879159248319, shape=(), dtype=float64)\n",
            "loss tf.Tensor(3.7180965307185945, shape=(), dtype=float64)\n",
            "loss tf.Tensor(15.86492027570255, shape=(), dtype=float64)\n",
            "loss tf.Tensor(5.8536740145565265, shape=(), dtype=float64)\n",
            "loss tf.Tensor(11.166644214174518, shape=(), dtype=float64)\n",
            "loss tf.Tensor(11.680021499779219, shape=(), dtype=float64)\n",
            "loss tf.Tensor(3.4237312179518824, shape=(), dtype=float64)\n",
            "loss tf.Tensor(6.180463146070958, shape=(), dtype=float64)\n",
            "loss tf.Tensor(4.365692607012956, shape=(), dtype=float64)\n",
            "loss tf.Tensor(13.262510848711923, shape=(), dtype=float64)\n",
            "loss tf.Tensor(10.965425955200631, shape=(), dtype=float64)\n",
            "loss tf.Tensor(9.691191566515716, shape=(), dtype=float64)\n",
            "loss tf.Tensor(17.74178808100925, shape=(), dtype=float64)\n",
            "loss tf.Tensor(18.277007713934246, shape=(), dtype=float64)\n",
            "loss tf.Tensor(8.202294734042685, shape=(), dtype=float64)\n",
            "loss tf.Tensor(8.868751337676157, shape=(), dtype=float64)\n",
            "loss tf.Tensor(11.088316074549638, shape=(), dtype=float64)\n",
            "loss tf.Tensor(8.843009584120479, shape=(), dtype=float64)\n",
            "loss tf.Tensor(7.884132111039184, shape=(), dtype=float64)\n",
            "loss tf.Tensor(39.46259106832158, shape=(), dtype=float64)\n",
            "loss tf.Tensor(18.96899808344007, shape=(), dtype=float64)\n",
            "loss tf.Tensor(3.525036272623498, shape=(), dtype=float64)\n",
            "loss tf.Tensor(15.827897420437164, shape=(), dtype=float64)\n",
            "loss tf.Tensor(5.5181003240278255, shape=(), dtype=float64)\n",
            "loss tf.Tensor(10.990072041221357, shape=(), dtype=float64)\n",
            "loss tf.Tensor(11.377816998339345, shape=(), dtype=float64)\n",
            "loss tf.Tensor(3.3215137590093673, shape=(), dtype=float64)\n",
            "loss tf.Tensor(6.0553308964599895, shape=(), dtype=float64)\n",
            "loss tf.Tensor(4.141049848864813, shape=(), dtype=float64)\n",
            "loss tf.Tensor(13.211238237447937, shape=(), dtype=float64)\n",
            "loss tf.Tensor(10.803398563277092, shape=(), dtype=float64)\n",
            "loss tf.Tensor(9.470354936002543, shape=(), dtype=float64)\n",
            "loss tf.Tensor(17.613957435568228, shape=(), dtype=float64)\n",
            "loss tf.Tensor(17.897565640573863, shape=(), dtype=float64)\n",
            "loss tf.Tensor(8.31455443325687, shape=(), dtype=float64)\n",
            "loss tf.Tensor(8.763233833358408, shape=(), dtype=float64)\n",
            "loss tf.Tensor(11.106472233708715, shape=(), dtype=float64)\n",
            "loss tf.Tensor(8.617814737906427, shape=(), dtype=float64)\n",
            "loss tf.Tensor(7.633316411513402, shape=(), dtype=float64)\n",
            "loss tf.Tensor(38.87158176916797, shape=(), dtype=float64)\n",
            "loss tf.Tensor(18.674126310942185, shape=(), dtype=float64)\n",
            "loss tf.Tensor(3.363062865921133, shape=(), dtype=float64)\n",
            "loss tf.Tensor(15.78352948506964, shape=(), dtype=float64)\n",
            "loss tf.Tensor(5.258594713656346, shape=(), dtype=float64)\n",
            "loss tf.Tensor(10.843488851449079, shape=(), dtype=float64)\n",
            "loss tf.Tensor(11.016925088070222, shape=(), dtype=float64)\n",
            "loss tf.Tensor(3.2236604626814676, shape=(), dtype=float64)\n",
            "loss tf.Tensor(5.989677176862802, shape=(), dtype=float64)\n",
            "loss tf.Tensor(4.00708887354066, shape=(), dtype=float64)\n",
            "loss tf.Tensor(13.091472337475698, shape=(), dtype=float64)\n",
            "loss tf.Tensor(10.725823677321218, shape=(), dtype=float64)\n",
            "loss tf.Tensor(9.365958500153585, shape=(), dtype=float64)\n",
            "loss tf.Tensor(17.29441704251117, shape=(), dtype=float64)\n",
            "\n",
            "loss tf.Tensor(17.89073082346151, shape=(), dtype=float64)\n",
            "loss tf.Tensor(8.121980505197495, shape=(), dtype=float64)\n",
            "loss tf.Tensor(8.628815817298415, shape=(), dtype=float64)\n",
            "loss tf.Tensor(11.0410456605468, shape=(), dtype=float64)\n",
            "loss tf.Tensor(8.261840875854588, shape=(), dtype=float64)\n",
            "loss tf.Tensor(7.5136998990818595, shape=(), dtype=float64)\n",
            "loss tf.Tensor(38.860582360863326, shape=(), dtype=float64)\n",
            "loss tf.Tensor(18.694848962323373, shape=(), dtype=float64)\n",
            "loss tf.Tensor(3.20640751239978, shape=(), dtype=float64)\n",
            "loss tf.Tensor(15.636955298969559, shape=(), dtype=float64)\n",
            "loss tf.Tensor(5.259321957846555, shape=(), dtype=float64)\n",
            "loss tf.Tensor(10.81546407965845, shape=(), dtype=float64)\n",
            "loss tf.Tensor(10.840514610898865, shape=(), dtype=float64)\n",
            "loss tf.Tensor(3.3058374012821004, shape=(), dtype=float64)\n",
            "loss tf.Tensor(5.985986271829941, shape=(), dtype=float64)\n",
            "loss tf.Tensor(3.9613253296200543, shape=(), dtype=float64)\n",
            "loss tf.Tensor(12.927865604264085, shape=(), dtype=float64)\n",
            "loss tf.Tensor(10.715192858646136, shape=(), dtype=float64)\n",
            "loss tf.Tensor(9.265968112342469, shape=(), dtype=float64)\n",
            "loss tf.Tensor(17.407204712311703, shape=(), dtype=float64)\n",
            "loss tf.Tensor(17.389854935311657, shape=(), dtype=float64)\n",
            "loss tf.Tensor(7.787531934259575, shape=(), dtype=float64)\n",
            "loss tf.Tensor(8.568128398837075, shape=(), dtype=float64)\n",
            "loss tf.Tensor(10.9783227660211, shape=(), dtype=float64)\n",
            "loss tf.Tensor(7.816591685088874, shape=(), dtype=float64)\n",
            "loss tf.Tensor(7.4466125199313975, shape=(), dtype=float64)\n",
            "loss tf.Tensor(38.30136794106902, shape=(), dtype=float64)\n",
            "loss tf.Tensor(18.240430096658695, shape=(), dtype=float64)\n",
            "loss tf.Tensor(3.0793883820922643, shape=(), dtype=float64)\n",
            "loss tf.Tensor(15.683905351779588, shape=(), dtype=float64)\n",
            "loss tf.Tensor(5.050166112809419, shape=(), dtype=float64)\n",
            "loss tf.Tensor(10.685412934287648, shape=(), dtype=float64)\n",
            "loss tf.Tensor(10.530926066921927, shape=(), dtype=float64)\n",
            "loss tf.Tensor(3.2010366590961503, shape=(), dtype=float64)\n",
            "loss tf.Tensor(5.837345062938377, shape=(), dtype=float64)\n",
            "loss tf.Tensor(3.748480769383, shape=(), dtype=float64)\n",
            "loss tf.Tensor(12.815412730144244, shape=(), dtype=float64)\n",
            "loss tf.Tensor(10.617857216907598, shape=(), dtype=float64)\n",
            "loss tf.Tensor(9.130711831133377, shape=(), dtype=float64)\n",
            "loss tf.Tensor(16.956297856191462, shape=(), dtype=float64)\n",
            "loss tf.Tensor(17.441959902392444, shape=(), dtype=float64)\n",
            "loss tf.Tensor(8.117666997951861, shape=(), dtype=float64)\n",
            "loss tf.Tensor(8.583936918814468, shape=(), dtype=float64)\n",
            "loss tf.Tensor(10.89499002375566, shape=(), dtype=float64)\n",
            "loss tf.Tensor(7.67855905893975, shape=(), dtype=float64)\n",
            "loss tf.Tensor(7.079973070755589, shape=(), dtype=float64)\n",
            "loss tf.Tensor(38.34408785921472, shape=(), dtype=float64)\n",
            "loss tf.Tensor(18.34680504129221, shape=(), dtype=float64)\n",
            "loss tf.Tensor(2.981527486836258, shape=(), dtype=float64)\n",
            "loss tf.Tensor(15.716652600051848, shape=(), dtype=float64)\n",
            "loss tf.Tensor(5.043240250871251, shape=(), dtype=float64)\n",
            "loss tf.Tensor(10.619461690634857, shape=(), dtype=float64)\n",
            "loss tf.Tensor(10.09021852802714, shape=(), dtype=float64)\n",
            "loss tf.Tensor(3.139966032793394, shape=(), dtype=float64)\n",
            "loss tf.Tensor(5.922689543843728, shape=(), dtype=float64)\n",
            "loss tf.Tensor(3.844148095508386, shape=(), dtype=float64)\n",
            "loss tf.Tensor(12.637573102961403, shape=(), dtype=float64)\n",
            "loss tf.Tensor(10.511529350062832, shape=(), dtype=float64)\n",
            "loss tf.Tensor(9.130509327021269, shape=(), dtype=float64)\n",
            "loss tf.Tensor(16.862404029781516, shape=(), dtype=float64)\n",
            "loss tf.Tensor(17.210147134261874, shape=(), dtype=float64)\n",
            "loss tf.Tensor(7.409190171241056, shape=(), dtype=float64)\n",
            "loss tf.Tensor(8.591803573899034, shape=(), dtype=float64)\n",
            "loss tf.Tensor(10.919142510461743, shape=(), dtype=float64)\n",
            "loss tf.Tensor(7.582331757786124, shape=(), dtype=float64)\n",
            "loss tf.Tensor(7.1411187410952905, shape=(), dtype=float64)\n",
            "loss tf.Tensor(37.2097553850666, shape=(), dtype=float64)\n",
            "loss tf.Tensor(17.825775135117784, shape=(), dtype=float64)\n",
            "loss tf.Tensor(2.8491224363852394, shape=(), dtype=float64)\n",
            "loss tf.Tensor(15.323279594032469, shape=(), dtype=float64)\n",
            "loss tf.Tensor(4.824601410428619, shape=(), dtype=float64)\n",
            "loss tf.Tensor(10.532655859752616, shape=(), dtype=float64)\n",
            "loss tf.Tensor(9.951559945827434, shape=(), dtype=float64)\n",
            "loss tf.Tensor(3.2042898084529075, shape=(), dtype=float64)\n",
            "loss tf.Tensor(5.703724084070701, shape=(), dtype=float64)\n",
            "loss tf.Tensor(3.6690452935337863, shape=(), dtype=float64)\n",
            "loss tf.Tensor(12.56186176910594, shape=(), dtype=float64)\n",
            "loss tf.Tensor(10.372409565366672, shape=(), dtype=float64)\n",
            "loss tf.Tensor(8.812034682332843, shape=(), dtype=float64)\n",
            "loss tf.Tensor(16.5725161363392, shape=(), dtype=float64)\n",
            "loss tf.Tensor(16.99225885102788, shape=(), dtype=float64)\n",
            "loss tf.Tensor(7.628457702556357, shape=(), dtype=float64)\n",
            "loss tf.Tensor(8.427102438132012, shape=(), dtype=float64)\n",
            "loss tf.Tensor(10.91388680930486, shape=(), dtype=float64)\n",
            "loss tf.Tensor(7.484145658956222, shape=(), dtype=float64)\n",
            "loss tf.Tensor(6.970379893858228, shape=(), dtype=float64)\n",
            "loss tf.Tensor(36.820945897067084, shape=(), dtype=float64)\n",
            "loss tf.Tensor(17.598129270307236, shape=(), dtype=float64)\n",
            "loss tf.Tensor(2.740582420403142, shape=(), dtype=float64)\n",
            "loss tf.Tensor(15.222804141300733, shape=(), dtype=float64)\n",
            "loss tf.Tensor(4.587566380753367, shape=(), dtype=float64)\n",
            "loss tf.Tensor(10.31882288870035, shape=(), dtype=float64)\n",
            "loss tf.Tensor(9.666731245734248, shape=(), dtype=float64)\n",
            "loss tf.Tensor(3.0881672183372895, shape=(), dtype=float64)\n",
            "loss tf.Tensor(5.615916019063584, shape=(), dtype=float64)\n",
            "loss tf.Tensor(3.658390167525973, shape=(), dtype=float64)\n",
            "loss tf.Tensor(12.414642796421786, shape=(), dtype=float64)\n",
            "loss tf.Tensor(10.239588555599768, shape=(), dtype=float64)\n",
            "loss tf.Tensor(8.656846424102502, shape=(), dtype=float64)\n",
            "loss tf.Tensor(16.34240676789814, shape=(), dtype=float64)\n",
            "loss tf.Tensor(16.913642167483935, shape=(), dtype=float64)\n",
            "loss tf.Tensor(7.325580587966978, shape=(), dtype=float64)\n",
            "loss tf.Tensor(8.43690904223787, shape=(), dtype=float64)\n",
            "loss tf.Tensor(10.843242665212506, shape=(), dtype=float64)\n",
            "loss tf.Tensor(7.314930149238255, shape=(), dtype=float64)\n",
            "loss tf.Tensor(6.815284644459436, shape=(), dtype=float64)\n",
            "loss tf.Tensor(36.60606044830678, shape=(), dtype=float64)\n",
            "loss tf.Tensor(17.26711772524742, shape=(), dtype=float64)\n",
            "loss tf.Tensor(2.6611688475799555, shape=(), dtype=float64)\n",
            "loss tf.Tensor(14.871685189735329, shape=(), dtype=float64)\n",
            "loss tf.Tensor(4.548606475631684, shape=(), dtype=float64)\n",
            "loss tf.Tensor(10.278384860966119, shape=(), dtype=float64)\n",
            "loss tf.Tensor(9.435842176742513, shape=(), dtype=float64)\n",
            "loss tf.Tensor(3.056733995199893, shape=(), dtype=float64)\n",
            "loss tf.Tensor(5.4404574246752615, shape=(), dtype=float64)\n",
            "loss tf.Tensor(3.4993809516806182, shape=(), dtype=float64)\n",
            "loss tf.Tensor(12.335377335440707, shape=(), dtype=float64)\n",
            "loss tf.Tensor(10.040425416783112, shape=(), dtype=float64)\n",
            "loss tf.Tensor(8.548722625187738, shape=(), dtype=float64)\n",
            "loss tf.Tensor(16.090969863841263, shape=(), dtype=float64)\n",
            "loss tf.Tensor(16.75151896266012, shape=(), dtype=float64)\n",
            "loss tf.Tensor(7.679943469703407, shape=(), dtype=float64)\n",
            "loss tf.Tensor(8.25387440266255, shape=(), dtype=float64)\n",
            "loss tf.Tensor(10.735138588479133, shape=(), dtype=float64)\n",
            "loss tf.Tensor(7.207221726453404, shape=(), dtype=float64)\n",
            "loss tf.Tensor(6.748653163600259, shape=(), dtype=float64)\n",
            "loss tf.Tensor(36.08444820668757, shape=(), dtype=float64)\n",
            "loss tf.Tensor(17.111615839558237, shape=(), dtype=float64)\n",
            "loss tf.Tensor(2.683816723773553, shape=(), dtype=float64)\n",
            "loss tf.Tensor(14.73218882291248, shape=(), dtype=float64)\n",
            "loss tf.Tensor(4.358413130821098, shape=(), dtype=float64)\n",
            "loss tf.Tensor(10.090261743807504, shape=(), dtype=float64)\n",
            "loss tf.Tensor(9.224065258039234, shape=(), dtype=float64)\n",
            "loss tf.Tensor(2.9225962557576657, shape=(), dtype=float64)\n",
            "loss tf.Tensor(5.382277413976499, shape=(), dtype=float64)\n",
            "loss tf.Tensor(3.430638763840802, shape=(), dtype=float64)\n",
            "loss tf.Tensor(12.240308939138046, shape=(), dtype=float64)\n",
            "loss tf.Tensor(9.931978445814831, shape=(), dtype=float64)\n",
            "loss tf.Tensor(8.400101692828857, shape=(), dtype=float64)\n",
            "loss tf.Tensor(15.915477638106609, shape=(), dtype=float64)\n",
            "loss tf.Tensor(16.55736679397691, shape=(), dtype=float64)\n",
            "loss tf.Tensor(7.724493295053843, shape=(), dtype=float64)\n",
            "loss tf.Tensor(8.403419916659988, shape=(), dtype=float64)\n",
            "loss tf.Tensor(10.735145277033384, shape=(), dtype=float64)\n",
            "loss tf.Tensor(7.055974529661655, shape=(), dtype=float64)\n",
            "loss tf.Tensor(6.423100271706328, shape=(), dtype=float64)\n",
            "loss tf.Tensor(35.480480818973376, shape=(), dtype=float64)\n",
            "loss tf.Tensor(17.066204572109164, shape=(), dtype=float64)\n",
            "loss tf.Tensor(2.7525677900934618, shape=(), dtype=float64)\n",
            "loss tf.Tensor(14.909200863919564, shape=(), dtype=float64)\n",
            "loss tf.Tensor(4.316745019448304, shape=(), dtype=float64)\n",
            "loss tf.Tensor(10.001708294569791, shape=(), dtype=float64)\n",
            "loss tf.Tensor(8.973501126696277, shape=(), dtype=float64)\n",
            "loss tf.Tensor(2.88583514475835, shape=(), dtype=float64)\n",
            "loss tf.Tensor(5.400357199176772, shape=(), dtype=float64)\n",
            "loss tf.Tensor(3.4996957004570586, shape=(), dtype=float64)\n",
            "loss tf.Tensor(12.096150632704816, shape=(), dtype=float64)\n",
            "loss tf.Tensor(9.853746922274242, shape=(), dtype=float64)\n",
            "loss tf.Tensor(8.29933838212583, shape=(), dtype=float64)\n",
            "loss tf.Tensor(15.537640341847178, shape=(), dtype=float64)\n",
            "loss tf.Tensor(16.69739462549009, shape=(), dtype=float64)\n",
            "loss tf.Tensor(7.252969916523642, shape=(), dtype=float64)\n",
            "loss tf.Tensor(8.526350936616609, shape=(), dtype=float64)\n",
            "loss tf.Tensor(10.87771988405606, shape=(), dtype=float64)\n",
            "loss tf.Tensor(7.018006110826525, shape=(), dtype=float64)\n",
            "loss tf.Tensor(6.382947348655382, shape=(), dtype=float64)\n",
            "loss tf.Tensor(35.44243760100882, shape=(), dtype=float64)\n",
            "loss tf.Tensor(16.721399640849757, shape=(), dtype=float64)\n",
            "loss tf.Tensor(2.466751293446927, shape=(), dtype=float64)\n",
            "loss tf.Tensor(14.368744069908987, shape=(), dtype=float64)\n",
            "loss tf.Tensor(4.216203149686264, shape=(), dtype=float64)\n",
            "loss tf.Tensor(9.997818042540947, shape=(), dtype=float64)\n",
            "loss tf.Tensor(8.838927786198644, shape=(), dtype=float64)\n",
            "loss tf.Tensor(2.929841128487858, shape=(), dtype=float64)\n",
            "loss tf.Tensor(5.153926107487928, shape=(), dtype=float64)\n",
            "loss tf.Tensor(3.2548151542944015, shape=(), dtype=float64)\n",
            "loss tf.Tensor(12.050039034780143, shape=(), dtype=float64)\n",
            "loss tf.Tensor(9.795430312385655, shape=(), dtype=float64)\n",
            "loss tf.Tensor(8.114521712153357, shape=(), dtype=float64)\n",
            "loss tf.Tensor(15.435734869633675, shape=(), dtype=float64)\n",
            "loss tf.Tensor(16.351700435092265, shape=(), dtype=float64)\n",
            "loss tf.Tensor(7.5951160168340115, shape=(), dtype=float64)\n",
            "loss tf.Tensor(8.39508448248028, shape=(), dtype=float64)\n",
            "loss tf.Tensor(10.69581136552092, shape=(), dtype=float64)\n",
            "loss tf.Tensor(6.8603253587626885, shape=(), dtype=float64)\n",
            "loss tf.Tensor(6.1929180462804405, shape=(), dtype=float64)\n",
            "loss tf.Tensor(34.781196886598224, shape=(), dtype=float64)\n",
            "loss tf.Tensor(16.678485690524035, shape=(), dtype=float64)\n",
            "loss tf.Tensor(2.6032227422345566, shape=(), dtype=float64)\n",
            "loss tf.Tensor(14.370306444736933, shape=(), dtype=float64)\n",
            "loss tf.Tensor(4.099237290110727, shape=(), dtype=float64)\n",
            "loss tf.Tensor(9.759796781521777, shape=(), dtype=float64)\n",
            "loss tf.Tensor(8.57840509398796, shape=(), dtype=float64)\n",
            "loss tf.Tensor(2.751492599811554, shape=(), dtype=float64)\n",
            "loss tf.Tensor(5.152372074239679, shape=(), dtype=float64)\n",
            "loss tf.Tensor(3.311827591298766, shape=(), dtype=float64)\n",
            "loss tf.Tensor(11.922202969906415, shape=(), dtype=float64)\n",
            "loss tf.Tensor(9.727682988078298, shape=(), dtype=float64)\n",
            "loss tf.Tensor(8.00979126395623, shape=(), dtype=float64)\n",
            "loss tf.Tensor(15.1593774203405, shape=(), dtype=float64)\n",
            "\n",
            "loss tf.Tensor(16.518193301135994, shape=(), dtype=float64)\n",
            "loss tf.Tensor(7.301059752497903, shape=(), dtype=float64)\n",
            "loss tf.Tensor(8.698259329617251, shape=(), dtype=float64)\n",
            "loss tf.Tensor(10.875179620552471, shape=(), dtype=float64)\n",
            "loss tf.Tensor(6.788260896869299, shape=(), dtype=float64)\n",
            "loss tf.Tensor(6.164389707838304, shape=(), dtype=float64)\n",
            "loss tf.Tensor(34.57431846160489, shape=(), dtype=float64)\n",
            "loss tf.Tensor(16.222892595851384, shape=(), dtype=float64)\n",
            "loss tf.Tensor(2.4148285689605427, shape=(), dtype=float64)\n",
            "loss tf.Tensor(14.094479449106522, shape=(), dtype=float64)\n",
            "loss tf.Tensor(4.190955889520963, shape=(), dtype=float64)\n",
            "loss tf.Tensor(9.807917508583271, shape=(), dtype=float64)\n",
            "loss tf.Tensor(8.513769964604034, shape=(), dtype=float64)\n",
            "loss tf.Tensor(2.7920201293558566, shape=(), dtype=float64)\n",
            "loss tf.Tensor(4.986686926628618, shape=(), dtype=float64)\n",
            "loss tf.Tensor(3.234841810403399, shape=(), dtype=float64)\n",
            "loss tf.Tensor(11.664219999023054, shape=(), dtype=float64)\n",
            "loss tf.Tensor(9.757127049851134, shape=(), dtype=float64)\n",
            "loss tf.Tensor(7.8592706191281305, shape=(), dtype=float64)\n",
            "loss tf.Tensor(15.073234542128382, shape=(), dtype=float64)\n",
            "loss tf.Tensor(16.439768129592697, shape=(), dtype=float64)\n",
            "loss tf.Tensor(6.995433280316903, shape=(), dtype=float64)\n",
            "loss tf.Tensor(8.674107057693906, shape=(), dtype=float64)\n",
            "loss tf.Tensor(10.823375068029602, shape=(), dtype=float64)\n",
            "loss tf.Tensor(6.596546641294675, shape=(), dtype=float64)\n",
            "loss tf.Tensor(6.207689100550574, shape=(), dtype=float64)\n",
            "loss tf.Tensor(34.40206498443118, shape=(), dtype=float64)\n",
            "loss tf.Tensor(16.0931370226751, shape=(), dtype=float64)\n",
            "loss tf.Tensor(2.4055014366695446, shape=(), dtype=float64)\n",
            "loss tf.Tensor(13.940527547395073, shape=(), dtype=float64)\n",
            "loss tf.Tensor(4.060776164906915, shape=(), dtype=float64)\n",
            "loss tf.Tensor(9.699729445418747, shape=(), dtype=float64)\n",
            "loss tf.Tensor(8.370714357902754, shape=(), dtype=float64)\n",
            "loss tf.Tensor(2.7715345703467293, shape=(), dtype=float64)\n",
            "loss tf.Tensor(4.753980298839766, shape=(), dtype=float64)\n",
            "loss tf.Tensor(3.0938813835371377, shape=(), dtype=float64)\n",
            "loss tf.Tensor(11.604008699745453, shape=(), dtype=float64)\n",
            "loss tf.Tensor(9.611567410177377, shape=(), dtype=float64)\n",
            "loss tf.Tensor(7.734014750332609, shape=(), dtype=float64)\n",
            "loss tf.Tensor(14.76395292544707, shape=(), dtype=float64)\n",
            "loss tf.Tensor(16.369270338483307, shape=(), dtype=float64)\n",
            "loss tf.Tensor(7.023892270446812, shape=(), dtype=float64)\n",
            "loss tf.Tensor(8.746538092887032, shape=(), dtype=float64)\n",
            "loss tf.Tensor(10.653558218665761, shape=(), dtype=float64)\n",
            "loss tf.Tensor(6.552879817911719, shape=(), dtype=float64)\n",
            "loss tf.Tensor(5.990626087185478, shape=(), dtype=float64)\n",
            "loss tf.Tensor(34.18211496094798, shape=(), dtype=float64)\n",
            "loss tf.Tensor(15.89618071170985, shape=(), dtype=float64)\n",
            "loss tf.Tensor(2.5015028140252804, shape=(), dtype=float64)\n",
            "loss tf.Tensor(13.723162339702832, shape=(), dtype=float64)\n",
            "loss tf.Tensor(3.854650112589425, shape=(), dtype=float64)\n",
            "loss tf.Tensor(9.466120996303259, shape=(), dtype=float64)\n",
            "loss tf.Tensor(8.206874987658267, shape=(), dtype=float64)\n",
            "loss tf.Tensor(2.7472020575826845, shape=(), dtype=float64)\n",
            "loss tf.Tensor(4.744516314138253, shape=(), dtype=float64)\n",
            "loss tf.Tensor(3.053395925911125, shape=(), dtype=float64)\n",
            "loss tf.Tensor(11.603240975744713, shape=(), dtype=float64)\n",
            "loss tf.Tensor(9.418061417187547, shape=(), dtype=float64)\n",
            "loss tf.Tensor(7.690979560409911, shape=(), dtype=float64)\n",
            "loss tf.Tensor(14.443141408511911, shape=(), dtype=float64)\n",
            "loss tf.Tensor(16.140525563130037, shape=(), dtype=float64)\n",
            "loss tf.Tensor(6.554743929311113, shape=(), dtype=float64)\n",
            "loss tf.Tensor(8.728820596802219, shape=(), dtype=float64)\n",
            "loss tf.Tensor(10.456670155483494, shape=(), dtype=float64)\n",
            "loss tf.Tensor(6.371514108231542, shape=(), dtype=float64)\n",
            "loss tf.Tensor(5.879347531106964, shape=(), dtype=float64)\n",
            "loss tf.Tensor(33.915362626819075, shape=(), dtype=float64)\n",
            "loss tf.Tensor(15.844268800284453, shape=(), dtype=float64)\n",
            "loss tf.Tensor(2.35928970914142, shape=(), dtype=float64)\n",
            "loss tf.Tensor(13.588388373380843, shape=(), dtype=float64)\n",
            "loss tf.Tensor(3.94458359941439, shape=(), dtype=float64)\n",
            "loss tf.Tensor(9.436062521641745, shape=(), dtype=float64)\n",
            "loss tf.Tensor(7.964312145852281, shape=(), dtype=float64)\n",
            "loss tf.Tensor(2.579856618249814, shape=(), dtype=float64)\n",
            "loss tf.Tensor(4.562200570747101, shape=(), dtype=float64)\n",
            "loss tf.Tensor(2.9702223158050685, shape=(), dtype=float64)\n",
            "loss tf.Tensor(11.503602998788573, shape=(), dtype=float64)\n",
            "loss tf.Tensor(9.258585434650056, shape=(), dtype=float64)\n",
            "loss tf.Tensor(7.5364669786841025, shape=(), dtype=float64)\n",
            "loss tf.Tensor(14.304325841501946, shape=(), dtype=float64)\n",
            "loss tf.Tensor(16.215909739306074, shape=(), dtype=float64)\n",
            "loss tf.Tensor(7.427480721790282, shape=(), dtype=float64)\n",
            "loss tf.Tensor(8.683505296895275, shape=(), dtype=float64)\n",
            "loss tf.Tensor(10.550320018395283, shape=(), dtype=float64)\n",
            "loss tf.Tensor(6.362486562131048, shape=(), dtype=float64)\n",
            "loss tf.Tensor(5.768434770306553, shape=(), dtype=float64)\n",
            "loss tf.Tensor(33.566949237443986, shape=(), dtype=float64)\n",
            "loss tf.Tensor(15.560078666853501, shape=(), dtype=float64)\n",
            "loss tf.Tensor(2.3560201268410426, shape=(), dtype=float64)\n",
            "loss tf.Tensor(13.341697436611161, shape=(), dtype=float64)\n",
            "loss tf.Tensor(3.733529602048683, shape=(), dtype=float64)\n",
            "loss tf.Tensor(9.275229051089205, shape=(), dtype=float64)\n",
            "loss tf.Tensor(7.9534020060023565, shape=(), dtype=float64)\n",
            "loss tf.Tensor(2.8300825487242793, shape=(), dtype=float64)\n",
            "loss tf.Tensor(4.533300597585869, shape=(), dtype=float64)\n",
            "loss tf.Tensor(2.882425403584553, shape=(), dtype=float64)\n",
            "loss tf.Tensor(11.460988258597121, shape=(), dtype=float64)\n",
            "loss tf.Tensor(9.189788148723927, shape=(), dtype=float64)\n",
            "loss tf.Tensor(7.427212237142495, shape=(), dtype=float64)\n",
            "loss tf.Tensor(14.050912736703205, shape=(), dtype=float64)\n",
            "loss tf.Tensor(15.91524756341328, shape=(), dtype=float64)\n",
            "loss tf.Tensor(6.768541565060953, shape=(), dtype=float64)\n",
            "loss tf.Tensor(8.62843066403691, shape=(), dtype=float64)\n",
            "loss tf.Tensor(10.360425002003172, shape=(), dtype=float64)\n",
            "loss tf.Tensor(6.186391806196508, shape=(), dtype=float64)\n",
            "loss tf.Tensor(5.752640795850635, shape=(), dtype=float64)\n",
            "loss tf.Tensor(33.43107773823288, shape=(), dtype=float64)\n",
            "loss tf.Tensor(15.349854994050556, shape=(), dtype=float64)\n",
            "loss tf.Tensor(2.3190169822873, shape=(), dtype=float64)\n",
            "loss tf.Tensor(13.178226691545882, shape=(), dtype=float64)\n",
            "loss tf.Tensor(3.696967660197213, shape=(), dtype=float64)\n",
            "loss tf.Tensor(9.1703633689262, shape=(), dtype=float64)\n",
            "loss tf.Tensor(7.615658393133081, shape=(), dtype=float64)\n",
            "loss tf.Tensor(2.6152248459841814, shape=(), dtype=float64)\n",
            "loss tf.Tensor(4.407654580112716, shape=(), dtype=float64)\n",
            "loss tf.Tensor(2.8545163040769923, shape=(), dtype=float64)\n",
            "loss tf.Tensor(11.438172320934127, shape=(), dtype=float64)\n",
            "loss tf.Tensor(8.954454519622294, shape=(), dtype=float64)\n",
            "loss tf.Tensor(7.244358001800866, shape=(), dtype=float64)\n",
            "loss tf.Tensor(13.791778222487622, shape=(), dtype=float64)\n",
            "loss tf.Tensor(15.984012563821347, shape=(), dtype=float64)\n",
            "loss tf.Tensor(6.746287136608835, shape=(), dtype=float64)\n",
            "loss tf.Tensor(8.891912837009965, shape=(), dtype=float64)\n",
            "loss tf.Tensor(10.549455228177463, shape=(), dtype=float64)\n",
            "loss tf.Tensor(6.0386273276509295, shape=(), dtype=float64)\n",
            "loss tf.Tensor(5.5059965875052646, shape=(), dtype=float64)\n",
            "loss tf.Tensor(33.09157154567854, shape=(), dtype=float64)\n",
            "loss tf.Tensor(15.155032420449729, shape=(), dtype=float64)\n",
            "loss tf.Tensor(2.424125959418374, shape=(), dtype=float64)\n",
            "loss tf.Tensor(13.268262546447268, shape=(), dtype=float64)\n",
            "loss tf.Tensor(3.6024705313466585, shape=(), dtype=float64)\n",
            "loss tf.Tensor(9.01031150045311, shape=(), dtype=float64)\n",
            "loss tf.Tensor(7.484123452398511, shape=(), dtype=float64)\n",
            "loss tf.Tensor(2.664900195124227, shape=(), dtype=float64)\n",
            "loss tf.Tensor(4.390481559326939, shape=(), dtype=float64)\n",
            "loss tf.Tensor(2.9305207893771756, shape=(), dtype=float64)\n",
            "loss tf.Tensor(11.267448787648036, shape=(), dtype=float64)\n",
            "loss tf.Tensor(8.806064738870463, shape=(), dtype=float64)\n",
            "loss tf.Tensor(7.182752473366287, shape=(), dtype=float64)\n",
            "loss tf.Tensor(13.765695473756214, shape=(), dtype=float64)\n",
            "loss tf.Tensor(15.784109067712848, shape=(), dtype=float64)\n",
            "loss tf.Tensor(6.3943477638916475, shape=(), dtype=float64)\n",
            "loss tf.Tensor(8.767603728691462, shape=(), dtype=float64)\n",
            "loss tf.Tensor(10.344529033258857, shape=(), dtype=float64)\n",
            "loss tf.Tensor(5.969264146833833, shape=(), dtype=float64)\n",
            "loss tf.Tensor(5.603124307861622, shape=(), dtype=float64)\n",
            "loss tf.Tensor(32.852589921139725, shape=(), dtype=float64)\n",
            "loss tf.Tensor(15.087713140768855, shape=(), dtype=float64)\n",
            "loss tf.Tensor(2.3353203864086534, shape=(), dtype=float64)\n",
            "loss tf.Tensor(13.25942568559025, shape=(), dtype=float64)\n",
            "loss tf.Tensor(3.537490507547702, shape=(), dtype=float64)\n",
            "loss tf.Tensor(8.987853402370252, shape=(), dtype=float64)\n",
            "loss tf.Tensor(7.376104816912678, shape=(), dtype=float64)\n",
            "loss tf.Tensor(2.676328778078977, shape=(), dtype=float64)\n",
            "loss tf.Tensor(4.3056319070935585, shape=(), dtype=float64)\n",
            "loss tf.Tensor(2.8145363358191395, shape=(), dtype=float64)\n",
            "loss tf.Tensor(11.18937358157359, shape=(), dtype=float64)\n",
            "loss tf.Tensor(8.633459654238248, shape=(), dtype=float64)\n",
            "loss tf.Tensor(7.0536172711066385, shape=(), dtype=float64)\n",
            "loss tf.Tensor(13.438662189211692, shape=(), dtype=float64)\n",
            "loss tf.Tensor(15.657181133572724, shape=(), dtype=float64)\n",
            "loss tf.Tensor(6.223164164047918, shape=(), dtype=float64)\n",
            "loss tf.Tensor(8.713227892653492, shape=(), dtype=float64)\n",
            "loss tf.Tensor(10.259333487875779, shape=(), dtype=float64)\n",
            "loss tf.Tensor(5.909730723275655, shape=(), dtype=float64)\n",
            "loss tf.Tensor(5.412549742237384, shape=(), dtype=float64)\n",
            "loss tf.Tensor(32.46925732870908, shape=(), dtype=float64)\n",
            "loss tf.Tensor(14.927473247803555, shape=(), dtype=float64)\n",
            "loss tf.Tensor(2.0752191962096136, shape=(), dtype=float64)\n",
            "loss tf.Tensor(12.94685383626356, shape=(), dtype=float64)\n",
            "loss tf.Tensor(3.6776193017711285, shape=(), dtype=float64)\n",
            "loss tf.Tensor(8.971395297411235, shape=(), dtype=float64)\n",
            "loss tf.Tensor(7.117333870234961, shape=(), dtype=float64)\n",
            "loss tf.Tensor(2.7252066463298803, shape=(), dtype=float64)\n",
            "loss tf.Tensor(4.209861154963551, shape=(), dtype=float64)\n",
            "loss tf.Tensor(2.8322634595610534, shape=(), dtype=float64)\n",
            "loss tf.Tensor(10.972837827477692, shape=(), dtype=float64)\n",
            "loss tf.Tensor(8.643341726127973, shape=(), dtype=float64)\n",
            "loss tf.Tensor(6.908981669324296, shape=(), dtype=float64)\n",
            "loss tf.Tensor(13.40015749542912, shape=(), dtype=float64)\n",
            "loss tf.Tensor(15.551593292563295, shape=(), dtype=float64)\n",
            "loss tf.Tensor(6.241124850285194, shape=(), dtype=float64)\n",
            "loss tf.Tensor(8.834245153353427, shape=(), dtype=float64)\n",
            "loss tf.Tensor(10.278263522865828, shape=(), dtype=float64)\n",
            "loss tf.Tensor(5.749614867490939, shape=(), dtype=float64)\n",
            "loss tf.Tensor(5.429628938604488, shape=(), dtype=float64)\n",
            "loss tf.Tensor(32.060870869942256, shape=(), dtype=float64)\n",
            "loss tf.Tensor(14.6013101743649, shape=(), dtype=float64)\n",
            "loss tf.Tensor(2.416851799902038, shape=(), dtype=float64)\n",
            "loss tf.Tensor(13.301237466474063, shape=(), dtype=float64)\n",
            "loss tf.Tensor(3.5831250059667186, shape=(), dtype=float64)\n",
            "loss tf.Tensor(8.829231574272006, shape=(), dtype=float64)\n",
            "loss tf.Tensor(6.9859509701396, shape=(), dtype=float64)\n",
            "loss tf.Tensor(2.6194133813990628, shape=(), dtype=float64)\n",
            "loss tf.Tensor(4.247353167593037, shape=(), dtype=float64)\n",
            "loss tf.Tensor(2.803765538416994, shape=(), dtype=float64)\n",
            "loss tf.Tensor(10.969967411364028, shape=(), dtype=float64)\n",
            "loss tf.Tensor(8.333833673546122, shape=(), dtype=float64)\n",
            "loss tf.Tensor(6.925113242496215, shape=(), dtype=float64)\n",
            "loss tf.Tensor(13.057354706541703, shape=(), dtype=float64)\n",
            "\n"
          ]
        }
      ],
      "source": [
        "history_2 = fitted_value_iteration_updated(V_non_linear, iterations=5,n=500,epochs=10,batch_size=25)"
      ]
    },
    {
      "cell_type": "code",
      "execution_count": null,
      "metadata": {
        "colab": {
          "base_uri": "https://localhost:8080/",
          "height": 430
        },
        "id": "tVChacAFv4au",
        "outputId": "6eaa7cf5-9370-4548-95d8-5e44ea79421d"
      },
      "outputs": [
        {
          "data": {
            "image/png": "[encoded data removed]",
            "text/plain": [
              "<Figure size 640x480 with 1 Axes>"
            ]
          },
          "metadata": {},
          "output_type": "display_data"
        }
      ],
      "source": [
        "plot_loss_updated(history_2)"
      ]
    },
    {
      "cell_type": "code",
      "execution_count": null,
      "metadata": {
        "colab": {
          "base_uri": "https://localhost:8080/",
          "height": 430
        },
        "id": "DrNAeZIf5R48",
        "outputId": "adf786b4-6d30-44c0-b390-c789b14d7ae4"
      },
      "outputs": [
        {
          "data": {
            "image/png": "[encoded data removed]",
            "text/plain": [
              "<Figure size 640x480 with 1 Axes>"
            ]
          },
          "metadata": {},
          "output_type": "display_data"
        }
      ],
      "source": [
        "plot_loss_updated(flat=False,history=history_2)"
      ]
    },
    {
      "cell_type": "code",
      "execution_count": null,
      "metadata": {
        "id": "iXir_Jzq1cgH"
      },
      "outputs": [],
      "source": []
    },
    {
      "cell_type": "markdown",
      "metadata": {
        "id": "c6_2L9KYrDjb"
      },
      "source": [
        "### testing trajectories with multi processing"
      ]
    },
    {
      "cell_type": "code",
      "execution_count": null,
      "metadata": {
        "id": "7Gq5LXxSJcic"
      },
      "outputs": [],
      "source": [
        "from concurrent.futures import ThreadPoolExecutor"
      ]
    },
    {
      "cell_type": "code",
      "execution_count": null,
      "metadata": {
        "id": "G1eoweocJvqc"
      },
      "outputs": [],
      "source": [
        "def execute_job(job):\n",
        "    return job()"
      ]
    },
    {
      "cell_type": "code",
      "execution_count": null,
      "metadata": {
        "id": "IGQjYHttJfK-"
      },
      "outputs": [],
      "source": [
        "\n",
        "def job_uniform_policy():\n",
        "    return np.mean([generate_trajectory(policy=uniform_action_policy, initial_state=initial_state) for _ in range(10)])\n",
        "\n",
        "def job_custom_policy():\n",
        "    return np.mean([generate_trajectory(policy=custom_policy, initial_state=initial_state) for _ in range(10)])\n",
        "\n",
        "def job_V_approximator():\n",
        "    return np.mean([generate_trajectory(policy=V, initial_state=initial_state, is_approximator=True) for _ in range(10)])\n",
        "\n",
        "def job_V_non_linear_approximator():\n",
        "    return np.mean([generate_trajectory(policy=V_non_linear, initial_state=initial_state, is_approximator=True) for _ in range(10)])"
      ]
    },
    {
      "cell_type": "code",
      "execution_count": null,
      "metadata": {
        "id": "QNP67tqnqeoN"
      },
      "outputs": [],
      "source": [
        "initial_state = (3,2,5,3)"
      ]
    },
    {
      "cell_type": "code",
      "execution_count": null,
      "metadata": {
        "id": "JVlx6E5rJpbb"
      },
      "outputs": [],
      "source": [
        "with ThreadPoolExecutor() as executor:\n",
        "    # Submit the jobs to the executor\n",
        "    future_uniform_policy = executor.submit(execute_job, job_uniform_policy)\n",
        "    future_custom_policy = executor.submit(execute_job, job_custom_policy)\n",
        "    future_V_approximator = executor.submit(execute_job, job_V_approximator)\n",
        "    future_V_non_linear_approximator = executor.submit(execute_job, job_V_non_linear_approximator)\n",
        "\n",
        "    V_uniform_policy = future_uniform_policy.result()\n",
        "    V_custom_policy = future_custom_policy.result()\n",
        "    V_approximator = future_V_approximator.result()\n",
        "    V_non_linear_approximator = future_V_non_linear_approximator.result()"
      ]
    },
    {
      "cell_type": "code",
      "execution_count": null,
      "metadata": {
        "colab": {
          "base_uri": "https://localhost:8080/"
        },
        "id": "CxJe_LptJxIj",
        "outputId": "c71fcce8-8568-4605-9c4f-a7cd2e35b6f4"
      },
      "outputs": [
        {
          "name": "stdout",
          "output_type": "stream",
          "text": [
            "V_uniform_policy: -300312.07605787134\n",
            "V_custom_policy: -37.81275857997987\n",
            "V_approximator: -37.07692316067041\n",
            "V_non_linear_approximator: -36.93500424457973\n"
          ]
        }
      ],
      "source": [
        "print(\"V_uniform_policy:\", V_uniform_policy)\n",
        "print(\"V_custom_policy:\", V_custom_policy)\n",
        "print(\"V_approximator:\", V_approximator)\n",
        "print(\"V_non_linear_approximator:\", V_non_linear_approximator)"
      ]
    },
    {
      "cell_type": "markdown",
      "metadata": {
        "id": "bYqAPdXDOWUQ"
      },
      "source": [
        "# Validation / testing"
      ]
    },
    {
      "cell_type": "code",
      "execution_count": null,
      "metadata": {
        "id": "D2Hb-9yoFOLO"
      },
      "outputs": [],
      "source": [
        "V_test = get_linear_function_approximator()"
      ]
    },
    {
      "cell_type": "markdown",
      "metadata": {
        "id": "-xQiF6jJgrca"
      },
      "source": [
        "### Non linear large model"
      ]
    },
    {
      "cell_type": "code",
      "execution_count": null,
      "metadata": {
        "id": "kRgVbUSNgvMB"
      },
      "outputs": [],
      "source": [
        "V_non_linear = tf.keras.Sequential([\n",
        "    tf.keras.layers.Dense(64, activation='relu', input_shape=(4,), kernel_regularizer=l2(0.001)),  # L2 regularization\n",
        "    tf.keras.layers.Dropout(0.3),  # Dropout regularization\n",
        "    tf.keras.layers.Dense(32, activation='relu', kernel_regularizer=l1(0.001)),  # L1 regularization\n",
        "    tf.keras.layers.Dropout(0.2),\n",
        "    tf.keras.layers.Dense(1)\n",
        "])\n",
        "V_non_linear.compile(optimizer='adam', loss='mean_squared_error')\n",
        "\n",
        "early_stopping = EarlyStopping(monitor='val_loss', patience=10, restore_best_weights=True)"
      ]
    },
    {
      "cell_type": "code",
      "execution_count": null,
      "metadata": {
        "id": "bUE9KHwUhKIe"
      },
      "outputs": [],
      "source": [
        "# iterations = 10,n = 100, k = 10, discount = 0.03"
      ]
    },
    {
      "cell_type": "code",
      "execution_count": null,
      "metadata": {
        "id": "o2ENjAFHgx-l"
      },
      "outputs": [],
      "source": [
        "fitted_value_iteration_updated(V_non_linear, iterations=5,n = 100, k=10,  batch_size=10)"
      ]
    },
    {
      "cell_type": "code",
      "execution_count": null,
      "metadata": {
        "id": "rP6Iko4diyQO"
      },
      "outputs": [],
      "source": [
        "def evaluate(model, discount = 0.03, n=50,k=10):\n",
        "  X_test , y_test= [], []\n",
        "  n_random_states= [sample_random_state() for _ in range(n)]\n",
        "  for state in n_random_states:\n",
        "\n",
        "      yi = np.full(3, -np.inf)\n",
        "      for i,action in enumerate(ACTIONS):\n",
        "          sj, R = zip(*[sample_next_state(state,action) for _ in range(k)])\n",
        "\n",
        "          V_pred = model.predict(np.array(sj),verbose = 0).squeeze()\n",
        "\n",
        "          q_a = np.mean(R + discount*V_pred)\n",
        "          yi[i] = q_a\n",
        "\n",
        "      X_test.append(state)\n",
        "      y_test.append(np.max(yi))\n",
        "\n",
        "  X_test = np.array(X_test)\n",
        "  y_test = np.array(y_test)\n",
        "\n",
        "  predictions = model.predict(X_test)\n",
        "  mean_absolute_error = np.mean(np.abs(predictions.squeeze() - y_test))\n",
        "  return X_test, y_test, mean_absolute_error"
      ]
    },
    {
      "cell_type": "code",
      "execution_count": null,
      "metadata": {
        "colab": {
          "base_uri": "https://localhost:8080/"
        },
        "id": "AS8Wn96nnwKb",
        "outputId": "28f65b21-09e6-4e8a-f14a-bb056d4eea7c"
      },
      "outputs": [
        {
          "name": "stdout",
          "output_type": "stream",
          "text": [
            "2/2 [==============================] - 0s 6ms/step\n",
            "4.6200817947983746\n"
          ]
        }
      ],
      "source": [
        "X_test, y_test, mean_error = evaluate(V_non_linear,n=50)\n",
        "print(mean_error)"
      ]
    },
    {
      "cell_type": "code",
      "execution_count": null,
      "metadata": {
        "colab": {
          "base_uri": "https://localhost:8080/"
        },
        "id": "v3JpU87Loy20",
        "outputId": "d0e461da-8fa8-4bf6-b319-a0387ab9f2b7"
      },
      "outputs": [
        {
          "name": "stdout",
          "output_type": "stream",
          "text": [
            "2/2 [==============================] - 0s 6ms/step\n"
          ]
        }
      ],
      "source": [
        "X_test, y_test, mean_error = evaluate(V)\n",
        "mean_error"
      ]
    },
    {
      "cell_type": "code",
      "execution_count": null,
      "metadata": {
        "colab": {
          "base_uri": "https://localhost:8080/"
        },
        "id": "O53Py6acjnj_",
        "outputId": "8704156f-a432-4f8b-b3ee-c52c76c8258d"
      },
      "outputs": [
        {
          "name": "stdout",
          "output_type": "stream",
          "text": [
            "2/2 [==============================] - 0s 5ms/step\n"
          ]
        },
        {
          "data": {
            "text/plain": [
              "22.828676244914533"
            ]
          },
          "execution_count": 91,
          "metadata": {},
          "output_type": "execute_result"
        }
      ],
      "source": [
        "X_test, y_test, mean_error = evaluate(V_test)\n",
        "mean_error"
      ]
    },
    {
      "cell_type": "markdown",
      "metadata": {
        "id": "Q8oZn-jUrd5S"
      },
      "source": [
        "#### testing all trajectories again"
      ]
    },
    {
      "cell_type": "markdown",
      "metadata": {
        "id": "AQSdqJMJ5BgB"
      },
      "source": [
        "### changing the parameters of training loop\n",
        "\n",
        "> Add blockquote\n",
        "\n"
      ]
    },
    {
      "cell_type": "code",
      "execution_count": null,
      "metadata": {
        "id": "SmWiBz6-5BPQ"
      },
      "outputs": [],
      "source": [
        "V = get_linear_function_approximator(w_i=0)\n",
        "early_stopping = EarlyStopping(monitor='val_loss', patience=10, restore_best_weights=True)\n",
        "rlronp=tf.keras.callbacks.ReduceLROnPlateau( monitor=\"val_loss\", factor=0.5, patience=2, verbose=1)\n",
        "\n",
        "callbacks = [early_stopping, rlronp]\n",
        "\n",
        "history = fitted_value_iteration(V,iterations=5, n=100, k=5, validation_split = 0.1 ,verbose=2, epochs=30,batch_size=5, callbacks=callbacks)"
      ]
    },
    {
      "cell_type": "code",
      "execution_count": null,
      "metadata": {
        "colab": {
          "base_uri": "https://localhost:8080/"
        },
        "id": "B_fCjbBu7xaB",
        "outputId": "5c273404-7780-4feb-cec2-e6fa0a02e847"
      },
      "outputs": [
        {
          "name": "stdout",
          "output_type": "stream",
          "text": [
            "4/4 [==============================] - 0s 3ms/step\n",
            "20012.759546351164\n"
          ]
        }
      ],
      "source": [
        "X_test, y_test, mean_error = evaluate(V,n=100)\n",
        "print(mean_error)"
      ]
    },
    {
      "cell_type": "code",
      "execution_count": null,
      "metadata": {
        "id": "1rHq2mx5A-Md"
      },
      "outputs": [],
      "source": [
        "V_non_linear = tf.keras.Sequential([\n",
        "    Dense(64, activation='relu', input_shape=(4,), kernel_regularizer=l2(0.001)),  # L2 regularization\n",
        "    Dropout(0.3),  # Dropout regularization\n",
        "    Dense(32, activation='relu', kernel_regularizer=l1(0.001)),  # L1 regularization\n",
        "    Dropout(0.2),\n",
        "    Dense(1)\n",
        "])\n",
        "V_non_linear.compile(optimizer='adam', loss='mean_squared_error')\n",
        "\n",
        "early_stopping = EarlyStopping(monitor='val_loss', patience=10, restore_best_weights=True)"
      ]
    },
    {
      "cell_type": "markdown",
      "metadata": {
        "id": "tw6fejDQS92A"
      },
      "source": [
        "# some testing is done below\n"
      ]
    },
    {
      "cell_type": "code",
      "execution_count": null,
      "metadata": {
        "id": "YfH70KEfCYdV"
      },
      "outputs": [],
      "source": [
        "import numpy as np\n",
        "import tensorflow as tf\n",
        "import matplotlib.pyplot as plt\n",
        "import torch\n",
        "import torch.nn as nn\n",
        "import torch.optim as optim\n",
        "import numpy as np\n",
        "import matplotlib.pyplot as plt\n",
        "\n",
        "test_X = np.random.uniform(-10,10,500)\n",
        "test_y = 10*test_X**5"
      ]
    },
    {
      "cell_type": "code",
      "execution_count": null,
      "metadata": {
        "colab": {
          "base_uri": "https://localhost:8080/",
          "height": 462
        },
        "id": "-5fwj0kVZg5f",
        "outputId": "ef74173a-42c2-4702-ab3e-943fc4f4265a"
      },
      "outputs": [
        {
          "output_type": "execute_result",
          "data": {
            "text/plain": [
              "<matplotlib.collections.PathCollection at 0x7f6b0435bb80>"
            ]
          },
          "metadata": {},
          "execution_count": 68
        },
        {
          "output_type": "display_data",
          "data": {
            "text/plain": [
              "<Figure size 640x480 with 1 Axes>"
            ],
            "image/png": "[encoded data removed]"
          },
          "metadata": {}
        }
      ],
      "source": [
        "plt.scatter(test_X, test_y)"
      ]
    },
    {
      "cell_type": "code",
      "execution_count": null,
      "metadata": {
        "id": "TpnuZD4iGrTl"
      },
      "outputs": [],
      "source": [
        "normalizer = tf.keras.layers.Normalization(input_shape=(1,))\n",
        "normalizer.adapt(np.array(test_X).reshape(-1,1))"
      ]
    },
    {
      "cell_type": "code",
      "execution_count": null,
      "metadata": {
        "colab": {
          "base_uri": "https://localhost:8080/"
        },
        "id": "21868tiHHG-C",
        "outputId": "0006b3f4-1daf-436a-c9d5-f58f1c651f92"
      },
      "outputs": [
        {
          "output_type": "execute_result",
          "data": {
            "text/plain": [
              "array([[-1.3079627]], dtype=float32)"
            ]
          },
          "metadata": {},
          "execution_count": 16
        }
      ],
      "source": [
        "normalizer.mean.numpy()"
      ]
    },
    {
      "cell_type": "code",
      "source": [
        "test_X"
      ],
      "metadata": {
        "colab": {
          "base_uri": "https://localhost:8080/"
        },
        "id": "RKimedDjiBVX",
        "outputId": "46d14c5b-f87d-4e6b-aac4-3940bfead464"
      },
      "execution_count": null,
      "outputs": [
        {
          "output_type": "execute_result",
          "data": {
            "text/plain": [
              "array([ 36.46531581,  61.14046761,  34.28550923, ...,  33.29975966,\n",
              "       -96.51224811,  -7.38235016])"
            ]
          },
          "metadata": {},
          "execution_count": 46
        }
      ]
    },
    {
      "cell_type": "code",
      "execution_count": null,
      "metadata": {
        "id": "mXi7zJ0JGXZm"
      },
      "outputs": [],
      "source": [
        "# inputs = tf.keras.Input(shape=(1,))\n",
        "# normzalize = normalizer(inputs)\n",
        "# outputs = tf.keras.layers.Dense(1,activation='sigmoid')(normzalize)\n",
        "# test = tf.keras.Model(inputs=inputs, outputs=outputs)\n",
        "\n",
        "# test_model = tf.keras.Sequential([\n",
        "#     # normalizer,\n",
        "#     tf.keras.layers.Input(shape=(1,)),\n",
        "#     tf.keras.layers.Dense(units=64, activation='relu'),\n",
        "#     # tf.keras.layers.Dense(units=64, activation='relu'),\n",
        "#     tf.keras.layers.Dense(units=32, activation='relu'),\n",
        "#     tf.keras.layers.Dense(units=16, activation='relu'),\n",
        "#     tf.keras.layers.Dense(units=1),\n",
        "# ])\n",
        "# test_model.compile(optimizer='adam', loss='mean_squared_error')\n",
        "\n",
        "model = tf.keras.Sequential([\n",
        "    tf.keras.layers.Input(shape=(1,)),\n",
        "    tf.keras.layers.Dense(64, activation='relu'),\n",
        "    tf.keras.layers.Dense(64, activation='relu'),\n",
        "    tf.keras.layers.Dense(1)\n",
        "])\n",
        "\n",
        "# Compile model\n",
        "model.compile(optimizer='adam', loss='mean_squared_error')\n",
        "test_X, test_y = np.expand_dims(test_X,axis=1), np.expand_dims(test_y, axis=1)\n",
        "history = model.fit(test_X, test_y, epochs = 100, validation_split = 0.1, verbose = 2)"
      ]
    },
    {
      "cell_type": "code",
      "source": [
        "\n",
        "# Generate some random data\n",
        "np.random.seed(0)\n",
        "x = np.random.rand(100, 1) * 10\n",
        "y = 2 * x + 1 + np.random.randn(100, 1)\n",
        "\n",
        "# Convert data to PyTorch tensors\n",
        "x_tensor = torch.tensor(x, dtype=torch.float32)\n",
        "y_tensor = torch.tensor(y, dtype=torch.float32)\n",
        "\n",
        "# Define the neural network model\n",
        "class RegressionNN(nn.Module):\n",
        "    def __init__(self):\n",
        "        super(RegressionNN, self).__init__()\n",
        "        self.fc1 = nn.Linear(1, 10)  # Input layer: 1 input feature, 10 neurons in the hidden layer\n",
        "        self.fc2 = nn.Linear(10, 1)  # Output layer: 1 output feature\n",
        "\n",
        "    def forward(self, x):\n",
        "        x = torch.relu(self.fc1(x))\n",
        "        x = self.fc2(x)\n",
        "        return x\n",
        "\n",
        "# Initialize the model\n",
        "model = RegressionNN()\n",
        "\n",
        "# Define loss function and optimizer\n",
        "criterion = nn.MSELoss()\n",
        "optimizer = optim.SGD(model.parameters(), lr=0.01)\n",
        "\n",
        "# Train the model\n",
        "num_epochs = 1000\n",
        "for epoch in range(num_epochs):\n",
        "    # Forward pass\n",
        "    outputs = model(x_tensor)\n",
        "    loss = criterion(outputs, y_tensor)\n",
        "\n",
        "    # Backward pass and optimization\n",
        "    optimizer.zero_grad()\n",
        "    loss.backward()\n",
        "    optimizer.step()\n",
        "\n",
        "    if (epoch+1) % 100 == 0:\n",
        "        print(f'Epoch [{epoch+1}/{num_epochs}], Loss: {loss.item():.4f}')\n",
        "\n",
        "# Plot the original data and the predicted values\n",
        "with torch.no_grad():\n",
        "    predicted = model(x_tensor).detach().numpy()\n",
        "\n",
        "plt.scatter(x, y, label='Original data')\n",
        "plt.plot(x, predicted, 'r', label='Fitted line')\n",
        "plt.legend()\n",
        "plt.show()\n"
      ],
      "metadata": {
        "colab": {
          "base_uri": "https://localhost:8080/",
          "height": 604
        },
        "id": "1KyTzSGpg4k9",
        "outputId": "7e5b9e53-8f10-4b76-9c85-91b869b326f5"
      },
      "execution_count": null,
      "outputs": [
        {
          "output_type": "stream",
          "name": "stdout",
          "text": [
            "Epoch [100/1000], Loss: nan\n",
            "Epoch [200/1000], Loss: nan\n",
            "Epoch [300/1000], Loss: nan\n",
            "Epoch [400/1000], Loss: nan\n",
            "Epoch [500/1000], Loss: nan\n",
            "Epoch [600/1000], Loss: nan\n",
            "Epoch [700/1000], Loss: nan\n",
            "Epoch [800/1000], Loss: nan\n",
            "Epoch [900/1000], Loss: nan\n",
            "Epoch [1000/1000], Loss: nan\n"
          ]
        },
        {
          "output_type": "display_data",
          "data": {
            "text/plain": [
              "<Figure size 640x480 with 1 Axes>"
            ],
            "image/png": "[encoded data removed]"
          },
          "metadata": {}
        }
      ]
    },
    {
      "cell_type": "code",
      "source": [
        "np.expand_dims(test_X,1).shape, y.shape, test_y.shape, np.expand_dims(test_y,axis=1).shape"
      ],
      "metadata": {
        "colab": {
          "base_uri": "https://localhost:8080/"
        },
        "id": "kMgihBF5iQL0",
        "outputId": "6a1c2e8f-1889-42ab-e9eb-b3c2758d7fc3"
      },
      "execution_count": null,
      "outputs": [
        {
          "output_type": "execute_result",
          "data": {
            "text/plain": [
              "((5000, 1), (100, 1), (5000,), (5000, 1))"
            ]
          },
          "metadata": {},
          "execution_count": 55
        }
      ]
    },
    {
      "cell_type": "code",
      "execution_count": null,
      "metadata": {
        "colab": {
          "base_uri": "https://localhost:8080/",
          "height": 465
        },
        "id": "6MIaKdF9g_4z",
        "outputId": "dae5e113-ddc0-4e50-86e7-25317c31f30f"
      },
      "outputs": [
        {
          "output_type": "display_data",
          "data": {
            "text/plain": [
              "<Figure size 640x480 with 1 Axes>"
            ],
            "image/png": "[encoded data removed]"
          },
          "metadata": {}
        }
      ],
      "source": [
        "plot_loss(history)"
      ]
    },
    {
      "cell_type": "code",
      "execution_count": null,
      "metadata": {
        "colab": {
          "base_uri": "https://localhost:8080/",
          "height": 489
        },
        "id": "_xCQQdQNhavq",
        "outputId": "4d9f6a19-e98b-418a-f824-66772491d1b7"
      },
      "outputs": [
        {
          "output_type": "stream",
          "name": "stdout",
          "text": [
            "4/4 [==============================] - 0s 3ms/step\n"
          ]
        },
        {
          "output_type": "display_data",
          "data": {
            "text/plain": [
              "<Figure size 640x480 with 1 Axes>"
            ],
            "image/png": "[encoded data removed]"
          },
          "metadata": {}
        }
      ],
      "source": [
        "# Generate test data\n",
        "X_test = np.linspace(-100, 100, 100).reshape(-1, 1)\n",
        "\n",
        "# Predictions\n",
        "Y_pred = test_model.predict(X_test)\n",
        "\n",
        "# Plot results\n",
        "plt.scatter(test_X, test_y, label='Training Data')\n",
        "plt.plot(X_test, Y_pred, color='red', label='Predictions')\n",
        "plt.xlabel('X')\n",
        "plt.ylabel('Y')\n",
        "plt.title('Nonlinear Regression Model')\n",
        "plt.legend()\n",
        "plt.show()\n"
      ]
    },
    {
      "cell_type": "code",
      "execution_count": null,
      "metadata": {
        "id": "xhTPGgr5C3XI"
      },
      "outputs": [],
      "source": [
        "# Generate dataset\n",
        "np.random.seed(0)\n",
        "X_train = np.random.uniform(-5, 5, 1000).reshape(-1, 1)\n",
        "Y_train = X_train ** 2 + 3 + np.random.normal(0, 1, X_train.shape)\n",
        "\n",
        "# Define model\n",
        "model = tf.keras.Sequential([\n",
        "    tf.keras.layers.Input(shape=(1,)),\n",
        "    tf.keras.layers.Dense(64, activation='relu'),\n",
        "    tf.keras.layers.Dense(64, activation='relu'),\n",
        "    tf.keras.layers.Dense(1)\n",
        "])\n",
        "\n",
        "# Compile model\n",
        "model.compile(optimizer='adam', loss='mean_squared_error')\n",
        "\n",
        "# Train model\n",
        "history = model.fit(X_train, Y_train, epochs=100, verbose=2)\n"
      ]
    },
    {
      "cell_type": "code",
      "execution_count": null,
      "metadata": {
        "colab": {
          "base_uri": "https://localhost:8080/",
          "height": 472
        },
        "id": "RhdX3tBdM5LM",
        "outputId": "0a8ebd1f-f727-4e77-91d6-2108fbe5990a"
      },
      "outputs": [
        {
          "output_type": "display_data",
          "data": {
            "text/plain": [
              "<Figure size 640x480 with 1 Axes>"
            ],
            "image/png": "[encoded data removed]"
          },
          "metadata": {}
        }
      ],
      "source": [
        "# Plot training loss\n",
        "plt.plot(history.history['loss'])\n",
        "plt.xlabel('Epochs')\n",
        "plt.ylabel('Loss')\n",
        "plt.title('Training Loss')\n",
        "plt.show()"
      ]
    },
    {
      "cell_type": "code",
      "execution_count": null,
      "metadata": {
        "colab": {
          "base_uri": "https://localhost:8080/",
          "height": 489
        },
        "id": "31RAzxr2M8sV",
        "outputId": "67313471-84df-487d-983f-2162d557fd2d"
      },
      "outputs": [
        {
          "output_type": "stream",
          "name": "stdout",
          "text": [
            "4/4 [==============================] - 0s 3ms/step\n"
          ]
        },
        {
          "output_type": "display_data",
          "data": {
            "text/plain": [
              "<Figure size 640x480 with 1 Axes>"
            ],
            "image/png": "[encoded data removed]"
          },
          "metadata": {}
        }
      ],
      "source": [
        "# Generate test data\n",
        "X_test = np.linspace(-5, 5, 100).reshape(-1, 1)\n",
        "\n",
        "# Predictions\n",
        "Y_pred = model.predict(X_test)\n",
        "\n",
        "# Plot results\n",
        "plt.scatter(X_train, Y_train, label='Training Data')\n",
        "plt.plot(X_test, Y_pred, color='red', label='Predictions')\n",
        "plt.xlabel('X')\n",
        "plt.ylabel('Y')\n",
        "plt.title('Nonlinear Regression Model')\n",
        "plt.legend()\n",
        "plt.show()\n"
      ]
    },
    {
      "cell_type": "markdown",
      "source": [
        "### Random seed to generate n states\n",
        "sequence of states generated should be same"
      ],
      "metadata": {
        "id": "xSVig_lMdPWg"
      }
    },
    {
      "cell_type": "code",
      "source": [
        "import numpy as np"
      ],
      "metadata": {
        "id": "QQgQ_RMMdmyv"
      },
      "execution_count": 2,
      "outputs": []
    },
    {
      "cell_type": "code",
      "execution_count": 21,
      "metadata": {
        "id": "MJuIM5-IJUCz",
        "colab": {
          "base_uri": "https://localhost:8080/"
        },
        "outputId": "b913ce0f-d9a6-4357-aa00-8f4dd11cc7a9"
      },
      "outputs": [
        {
          "output_type": "execute_result",
          "data": {
            "text/plain": [
              "array([[ 5,  3, 12, 72]])"
            ]
          },
          "metadata": {},
          "execution_count": 21
        }
      ],
      "source": [
        "np.random.seed(1)\n",
        "n = 1\n",
        "\n",
        "C = 5\n",
        "t1_upper_bound = 100\n",
        "t2_upper_bound = 100\n",
        "np.random.randint([0,0,0,0],[C+1,C+1, t1_upper_bound, t2_upper_bound], (n,4))"
      ]
    },
    {
      "cell_type": "code",
      "source": [
        "state = sample_random_state(1)"
      ],
      "metadata": {
        "id": "Px9go3Tzej8f"
      },
      "execution_count": 23,
      "outputs": []
    },
    {
      "cell_type": "code",
      "source": [
        "state"
      ],
      "metadata": {
        "colab": {
          "base_uri": "https://localhost:8080/"
        },
        "id": "Zk_UjhtCjqxS",
        "outputId": "934fd276-5c79-4c12-ff71-1789ddaac0de"
      },
      "execution_count": 24,
      "outputs": [
        {
          "output_type": "execute_result",
          "data": {
            "text/plain": [
              "array([[ 1,  3,  5, 79]])"
            ]
          },
          "metadata": {},
          "execution_count": 24
        }
      ]
    },
    {
      "cell_type": "code",
      "source": [
        "n1,n2,t1,t2 = state.flatten()"
      ],
      "metadata": {
        "id": "4ZKYOhdqjsKd"
      },
      "execution_count": 27,
      "outputs": []
    },
    {
      "cell_type": "code",
      "source": [
        "n1,n2,t1,t2"
      ],
      "metadata": {
        "colab": {
          "base_uri": "https://localhost:8080/"
        },
        "id": "2j59Bn7gjwbp",
        "outputId": "f877552e-e043-4ca5-caea-d4891e2e7ae7"
      },
      "execution_count": 28,
      "outputs": [
        {
          "output_type": "execute_result",
          "data": {
            "text/plain": [
              "(1, 3, 5, 79)"
            ]
          },
          "metadata": {},
          "execution_count": 28
        }
      ]
    },
    {
      "cell_type": "code",
      "source": [
        "state.flatten(), state.ravel()"
      ],
      "metadata": {
        "colab": {
          "base_uri": "https://localhost:8080/"
        },
        "id": "371tdIbQj1NY",
        "outputId": "3e2f1a0b-a54e-4413-ffc7-bdc1b449ee20"
      },
      "execution_count": 30,
      "outputs": [
        {
          "output_type": "execute_result",
          "data": {
            "text/plain": [
              "(array([ 1,  3,  5, 79]), array([ 1,  3,  5, 79]))"
            ]
          },
          "metadata": {},
          "execution_count": 30
        }
      ]
    },
    {
      "cell_type": "code",
      "source": [
        "np.array((n1,n2,t1,t2),ndmin=2)"
      ],
      "metadata": {
        "colab": {
          "base_uri": "https://localhost:8080/"
        },
        "id": "wm2GtYkHk0M-",
        "outputId": "3cf33ca1-e33d-4681-96b5-fdddaf604e58"
      },
      "execution_count": 34,
      "outputs": [
        {
          "output_type": "execute_result",
          "data": {
            "text/plain": [
              "array([[ 1,  3,  5, 79]])"
            ]
          },
          "metadata": {},
          "execution_count": 34
        }
      ]
    }
  ],
  "metadata": {
    "accelerator": "GPU",
    "colab": {
      "gpuType": "T4",
      "toc_visible": true,
      "provenance": [],
      "authorship_tag": "ABX9TyO4Ypg5CVbEPgfb4JECz6YM",
      "include_colab_link": true
    },
    "kernelspec": {
      "display_name": "Python 3",
      "name": "python3"
    },
    "language_info": {
      "name": "python"
    }
  },
  "nbformat": 4,
  "nbformat_minor": 0
}